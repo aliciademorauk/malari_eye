{
 "cells": [
  {
   "cell_type": "code",
   "execution_count": 1,
   "id": "b83346e4-a756-4d21-b175-21975073f7c1",
   "metadata": {
    "tags": []
   },
   "outputs": [],
   "source": [
    "import numpy as np\n",
    "from sklearn.pipeline import Pipeline\n",
    "from sklearn.preprocessing import OneHotEncoder\n"
   ]
  },
  {
   "cell_type": "code",
   "execution_count": 2,
   "id": "b832ec94-5db2-4fd8-9a38-41cefc8f194b",
   "metadata": {
    "tags": []
   },
   "outputs": [
    {
     "data": {
      "text/plain": [
       "(1000,)"
      ]
     },
     "execution_count": 2,
     "metadata": {},
     "output_type": "execute_result"
    }
   ],
   "source": [
    "y  = np.load('y_values.npy')\n",
    "y.shape"
   ]
  },
  {
   "cell_type": "code",
   "execution_count": 10,
   "id": "62a66175-708e-4d59-bc96-aaf2e0473d3b",
   "metadata": {
    "tags": []
   },
   "outputs": [],
   "source": [
    "# reshape to add an extra 'empty' dimension for the ohe\n",
    "y_reshaped = y.reshape(-1, 1)\n",
    "y_reshaped;"
   ]
  },
  {
   "cell_type": "code",
   "execution_count": 21,
   "id": "22f98aff-b2e9-4ab7-8d54-760753c40a93",
   "metadata": {
    "tags": []
   },
   "outputs": [
    {
     "data": {
      "text/plain": [
       "array(['difficult', 'gametocyte', 'leukocyte', 'red blood cell', 'ring',\n",
       "       'schizont', 'trophozoite'], dtype='<U14')"
      ]
     },
     "execution_count": 21,
     "metadata": {},
     "output_type": "execute_result"
    }
   ],
   "source": [
    "np.unique(y_reshaped)"
   ]
  },
  {
   "cell_type": "code",
   "execution_count": 23,
   "id": "39409217-cc45-4ab6-b381-d7b25a6e35e4",
   "metadata": {
    "tags": []
   },
   "outputs": [
    {
     "data": {
      "text/plain": [
       "array([[0., 0., 0., ..., 0., 0., 0.],\n",
       "       [0., 0., 0., ..., 0., 0., 0.],\n",
       "       [0., 0., 0., ..., 0., 0., 0.],\n",
       "       ...,\n",
       "       [0., 0., 0., ..., 0., 0., 0.],\n",
       "       [0., 0., 0., ..., 0., 0., 0.],\n",
       "       [0., 0., 0., ..., 0., 0., 0.]])"
      ]
     },
     "execution_count": 23,
     "metadata": {},
     "output_type": "execute_result"
    }
   ],
   "source": [
    "# make y one hot encoded\n",
    "# create an instance of OneHotEncoder\n",
    "encoder = OneHotEncoder()\n",
    "\n",
    "# fit and transform the input numpy array\n",
    "encoded_y = encoder.fit_transform(y_reshaped)\n",
    "\n",
    "encoded_y = encoded_y.toarray()\n",
    "encoded_y"
   ]
  },
  {
   "cell_type": "code",
   "execution_count": 25,
   "id": "f423b620-02f0-42e2-833e-5b34b585c8f9",
   "metadata": {
    "tags": []
   },
   "outputs": [
    {
     "data": {
      "text/plain": [
       "(1000, 108, 108)"
      ]
     },
     "execution_count": 25,
     "metadata": {},
     "output_type": "execute_result"
    }
   ],
   "source": [
    "X  = np.load('X_values.npy')\n",
    "X.shape"
   ]
  },
  {
   "cell_type": "code",
   "execution_count": 26,
   "id": "c4289ad9-f8bb-402b-b17b-c4c8d041b764",
   "metadata": {
    "tags": []
   },
   "outputs": [],
   "source": [
    "# normalise the x arrays (divide by 255)\n",
    "\n",
    "# reshaping X\n",
    "X = np.expand_dims(X,axis=3)\n",
    "\n",
    "X = X/255"
   ]
  },
  {
   "cell_type": "code",
   "execution_count": null,
   "id": "52c18245-d243-43f2-98c7-e536b7a4552b",
   "metadata": {},
   "outputs": [],
   "source": [
    "y_transformer = Pipeline[]"
   ]
  },
  {
   "cell_type": "code",
   "execution_count": null,
   "id": "2fa2aef6-9b6a-4aa5-acad-5da7283eb664",
   "metadata": {
    "tags": []
   },
   "outputs": [],
   "source": []
  },
  {
   "cell_type": "code",
   "execution_count": null,
   "id": "86835a65-1622-4fff-9475-a435302266a4",
   "metadata": {
    "tags": []
   },
   "outputs": [],
   "source": []
  },
  {
   "cell_type": "code",
   "execution_count": null,
   "id": "e2e35ebf-ce81-4258-9af4-93e27d78ba5e",
   "metadata": {},
   "outputs": [],
   "source": []
  }
 ],
 "metadata": {
  "kernelspec": {
   "display_name": "Python 3 (ipykernel)",
   "language": "python",
   "name": "python3"
  },
  "language_info": {
   "codemirror_mode": {
    "name": "ipython",
    "version": 3
   },
   "file_extension": ".py",
   "mimetype": "text/x-python",
   "name": "python",
   "nbconvert_exporter": "python",
   "pygments_lexer": "ipython3",
   "version": "3.10.6"
  }
 },
 "nbformat": 4,
 "nbformat_minor": 5
}
