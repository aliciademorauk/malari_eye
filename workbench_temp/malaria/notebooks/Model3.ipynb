{
 "cells": [
  {
   "cell_type": "markdown",
   "id": "0412b583-29db-4ad1-ab18-d5f17511ebcd",
   "metadata": {
    "tags": []
   },
   "source": [
    "# Testing the models:"
   ]
  },
  {
   "cell_type": "code",
   "execution_count": 2,
   "id": "115e0d60-5544-4b30-96d4-f61b4acbee8f",
   "metadata": {},
   "outputs": [],
   "source": [
    "import numpy as np\n",
    "import pandas as pd\n",
    "from sklearn.preprocessing import OneHotEncoder\n",
    "from matplotlib import pyplot as plt"
   ]
  },
  {
   "cell_type": "code",
   "execution_count": 3,
   "id": "34c29bec-90f0-4c83-aea7-2f01ebbc403c",
   "metadata": {},
   "outputs": [],
   "source": [
    "X = np.load(\"../train_test_data/train_x_values.npy\")\n",
    "y = np.load(\"../train_test_data/train_y_values.npy\")"
   ]
  },
  {
   "cell_type": "markdown",
   "id": "5ffb503e-db54-4722-aa03-8446f9c391b0",
   "metadata": {},
   "source": [
    "## Encoding the target"
   ]
  },
  {
   "cell_type": "code",
   "execution_count": 4,
   "id": "9621c91b-22eb-4626-9ee6-7c2c082e5809",
   "metadata": {},
   "outputs": [
    {
     "data": {
      "text/plain": [
       "OneHotEncoder(sparse=False)"
      ]
     },
     "execution_count": 4,
     "metadata": {},
     "output_type": "execute_result"
    }
   ],
   "source": [
    "ohe = OneHotEncoder(sparse=False)\n",
    "ohe.fit(y.reshape(-1,1))"
   ]
  },
  {
   "cell_type": "code",
   "execution_count": 5,
   "id": "53a8c177-b6ed-418d-be50-f5e84384e395",
   "metadata": {},
   "outputs": [
    {
     "name": "stdout",
     "output_type": "stream",
     "text": [
      "The categories detected by the OneHotEncoder are [array(['gametocyte', 'leukocyte', 'red blood cell', 'ring', 'schizont',\n",
      "       'trophozoite'], dtype='<U14')]\n"
     ]
    }
   ],
   "source": [
    "y_encoded = ohe.transform(y.reshape(-1,1))# Display the detected categories\n",
    "print(f\"The categories detected by the OneHotEncoder are {ohe.categories_}\")"
   ]
  },
  {
   "cell_type": "code",
   "execution_count": 6,
   "id": "1080d81b-5f09-4848-8af0-03902b6b0e32",
   "metadata": {},
   "outputs": [],
   "source": [
    "y_encoded_df=pd.DataFrame(y_encoded, columns = ohe.get_feature_names_out())"
   ]
  },
  {
   "cell_type": "code",
   "execution_count": 7,
   "id": "9dc5de1e-a11f-4671-95f7-0bc7a2364d97",
   "metadata": {},
   "outputs": [
    {
     "data": {
      "text/html": [
       "<div>\n",
       "<style scoped>\n",
       "    .dataframe tbody tr th:only-of-type {\n",
       "        vertical-align: middle;\n",
       "    }\n",
       "\n",
       "    .dataframe tbody tr th {\n",
       "        vertical-align: top;\n",
       "    }\n",
       "\n",
       "    .dataframe thead th {\n",
       "        text-align: right;\n",
       "    }\n",
       "</style>\n",
       "<table border=\"1\" class=\"dataframe\">\n",
       "  <thead>\n",
       "    <tr style=\"text-align: right;\">\n",
       "      <th></th>\n",
       "      <th>x0_gametocyte</th>\n",
       "      <th>x0_leukocyte</th>\n",
       "      <th>x0_red blood cell</th>\n",
       "      <th>x0_ring</th>\n",
       "      <th>x0_schizont</th>\n",
       "      <th>x0_trophozoite</th>\n",
       "    </tr>\n",
       "  </thead>\n",
       "  <tbody>\n",
       "    <tr>\n",
       "      <th>0</th>\n",
       "      <td>0.0</td>\n",
       "      <td>0.0</td>\n",
       "      <td>1.0</td>\n",
       "      <td>0.0</td>\n",
       "      <td>0.0</td>\n",
       "      <td>0.0</td>\n",
       "    </tr>\n",
       "    <tr>\n",
       "      <th>1</th>\n",
       "      <td>0.0</td>\n",
       "      <td>0.0</td>\n",
       "      <td>1.0</td>\n",
       "      <td>0.0</td>\n",
       "      <td>0.0</td>\n",
       "      <td>0.0</td>\n",
       "    </tr>\n",
       "    <tr>\n",
       "      <th>2</th>\n",
       "      <td>0.0</td>\n",
       "      <td>0.0</td>\n",
       "      <td>1.0</td>\n",
       "      <td>0.0</td>\n",
       "      <td>0.0</td>\n",
       "      <td>0.0</td>\n",
       "    </tr>\n",
       "    <tr>\n",
       "      <th>3</th>\n",
       "      <td>0.0</td>\n",
       "      <td>0.0</td>\n",
       "      <td>1.0</td>\n",
       "      <td>0.0</td>\n",
       "      <td>0.0</td>\n",
       "      <td>0.0</td>\n",
       "    </tr>\n",
       "    <tr>\n",
       "      <th>4</th>\n",
       "      <td>0.0</td>\n",
       "      <td>0.0</td>\n",
       "      <td>1.0</td>\n",
       "      <td>0.0</td>\n",
       "      <td>0.0</td>\n",
       "      <td>0.0</td>\n",
       "    </tr>\n",
       "    <tr>\n",
       "      <th>...</th>\n",
       "      <td>...</td>\n",
       "      <td>...</td>\n",
       "      <td>...</td>\n",
       "      <td>...</td>\n",
       "      <td>...</td>\n",
       "      <td>...</td>\n",
       "    </tr>\n",
       "    <tr>\n",
       "      <th>995</th>\n",
       "      <td>0.0</td>\n",
       "      <td>0.0</td>\n",
       "      <td>1.0</td>\n",
       "      <td>0.0</td>\n",
       "      <td>0.0</td>\n",
       "      <td>0.0</td>\n",
       "    </tr>\n",
       "    <tr>\n",
       "      <th>996</th>\n",
       "      <td>0.0</td>\n",
       "      <td>0.0</td>\n",
       "      <td>1.0</td>\n",
       "      <td>0.0</td>\n",
       "      <td>0.0</td>\n",
       "      <td>0.0</td>\n",
       "    </tr>\n",
       "    <tr>\n",
       "      <th>997</th>\n",
       "      <td>0.0</td>\n",
       "      <td>0.0</td>\n",
       "      <td>1.0</td>\n",
       "      <td>0.0</td>\n",
       "      <td>0.0</td>\n",
       "      <td>0.0</td>\n",
       "    </tr>\n",
       "    <tr>\n",
       "      <th>998</th>\n",
       "      <td>0.0</td>\n",
       "      <td>0.0</td>\n",
       "      <td>1.0</td>\n",
       "      <td>0.0</td>\n",
       "      <td>0.0</td>\n",
       "      <td>0.0</td>\n",
       "    </tr>\n",
       "    <tr>\n",
       "      <th>999</th>\n",
       "      <td>0.0</td>\n",
       "      <td>0.0</td>\n",
       "      <td>1.0</td>\n",
       "      <td>0.0</td>\n",
       "      <td>0.0</td>\n",
       "      <td>0.0</td>\n",
       "    </tr>\n",
       "  </tbody>\n",
       "</table>\n",
       "<p>1000 rows × 6 columns</p>\n",
       "</div>"
      ],
      "text/plain": [
       "     x0_gametocyte  x0_leukocyte  x0_red blood cell  x0_ring  x0_schizont  \\\n",
       "0              0.0           0.0                1.0      0.0          0.0   \n",
       "1              0.0           0.0                1.0      0.0          0.0   \n",
       "2              0.0           0.0                1.0      0.0          0.0   \n",
       "3              0.0           0.0                1.0      0.0          0.0   \n",
       "4              0.0           0.0                1.0      0.0          0.0   \n",
       "..             ...           ...                ...      ...          ...   \n",
       "995            0.0           0.0                1.0      0.0          0.0   \n",
       "996            0.0           0.0                1.0      0.0          0.0   \n",
       "997            0.0           0.0                1.0      0.0          0.0   \n",
       "998            0.0           0.0                1.0      0.0          0.0   \n",
       "999            0.0           0.0                1.0      0.0          0.0   \n",
       "\n",
       "     x0_trophozoite  \n",
       "0               0.0  \n",
       "1               0.0  \n",
       "2               0.0  \n",
       "3               0.0  \n",
       "4               0.0  \n",
       "..              ...  \n",
       "995             0.0  \n",
       "996             0.0  \n",
       "997             0.0  \n",
       "998             0.0  \n",
       "999             0.0  \n",
       "\n",
       "[1000 rows x 6 columns]"
      ]
     },
     "execution_count": 7,
     "metadata": {},
     "output_type": "execute_result"
    }
   ],
   "source": [
    "y_encoded_df"
   ]
  },
  {
   "cell_type": "markdown",
   "id": "5ad8888e-0519-4d50-b36e-1a8df2bc64ae",
   "metadata": {},
   "source": [
    "## Enconding the test target"
   ]
  },
  {
   "cell_type": "code",
   "execution_count": 8,
   "id": "43d8cc04-d5f7-420a-b750-a346ddc63500",
   "metadata": {},
   "outputs": [],
   "source": [
    "X_test = np.load(\"../train_test_data/test_x_values.npy\")\n",
    "y_test = np.load(\"../train_test_data/test_y_values.npy\")"
   ]
  },
  {
   "cell_type": "code",
   "execution_count": 9,
   "id": "7781070e-9144-4fd9-b5d6-41dfc907f263",
   "metadata": {},
   "outputs": [],
   "source": [
    "y_test_encoded = ohe.transform(y_test.reshape(-1,1))"
   ]
  },
  {
   "cell_type": "markdown",
   "id": "97360ef4-aca7-4134-a0a5-3c381d0b3eb0",
   "metadata": {},
   "source": [
    "## Balancing the data using class weights"
   ]
  },
  {
   "cell_type": "code",
   "execution_count": 10,
   "id": "98728176-8f0a-4f8d-b65e-124bda3b2a48",
   "metadata": {},
   "outputs": [],
   "source": [
    "from sklearn.utils import class_weight"
   ]
  },
  {
   "cell_type": "code",
   "execution_count": 11,
   "id": "6eab082f-89d6-43db-8fcb-18c4025d1977",
   "metadata": {},
   "outputs": [
    {
     "data": {
      "text/plain": [
       "{'x0_gametocyte': 3.0,\n",
       " 'x0_leukocyte': 2.0,\n",
       " 'x0_red blood cell': 972.0,\n",
       " 'x0_ring': 5.0,\n",
       " 'x0_schizont': 2.0,\n",
       " 'x0_trophozoite': 16.0}"
      ]
     },
     "execution_count": 11,
     "metadata": {},
     "output_type": "execute_result"
    }
   ],
   "source": [
    "cw = y_encoded_df.sum().to_dict()\n",
    "cw"
   ]
  },
  {
   "cell_type": "code",
   "execution_count": 12,
   "id": "2f14ba4e-709b-4a43-bcd6-9757ac2649ea",
   "metadata": {},
   "outputs": [
    {
     "data": {
      "text/plain": [
       "array([[0., 0., 0., 0., 0., 1.],\n",
       "       [0., 0., 0., 0., 1., 0.],\n",
       "       [0., 0., 0., 1., 0., 0.],\n",
       "       [0., 0., 1., 0., 0., 0.],\n",
       "       [0., 1., 0., 0., 0., 0.],\n",
       "       [1., 0., 0., 0., 0., 0.]])"
      ]
     },
     "execution_count": 12,
     "metadata": {},
     "output_type": "execute_result"
    }
   ],
   "source": [
    "(np.unique(y_encoded, axis = 0))"
   ]
  },
  {
   "cell_type": "code",
   "execution_count": 13,
   "id": "7a5a749a-3485-4bd0-a67d-9b5a9c420ffa",
   "metadata": {},
   "outputs": [],
   "source": [
    "cwv = class_weight.compute_class_weight('balanced', \n",
    "                            classes = np.unique(y),\n",
    "                            y=y)"
   ]
  },
  {
   "cell_type": "code",
   "execution_count": 14,
   "id": "c35e15f5-0f3b-4bd2-89d6-1b2797c4c91b",
   "metadata": {},
   "outputs": [
    {
     "data": {
      "text/plain": [
       "{0: 55.55555555555556,\n",
       " 1: 83.33333333333333,\n",
       " 2: 0.17146776406035666,\n",
       " 3: 33.333333333333336,\n",
       " 4: 83.33333333333333,\n",
       " 5: 10.416666666666666}"
      ]
     },
     "execution_count": 14,
     "metadata": {},
     "output_type": "execute_result"
    }
   ],
   "source": [
    "z = zip([int(i) for i in (np.arange(0,7))], \n",
    "            cwv)\n",
    "np.unique(y_encoded)\n",
    "[int(i) for i in (np.arange(0,7))]\n",
    "weighting = dict(z)\n",
    "weighting"
   ]
  },
  {
   "cell_type": "code",
   "execution_count": 15,
   "id": "ae58ec88-56cf-413a-b413-b8d5e4d021c8",
   "metadata": {},
   "outputs": [],
   "source": [
    "X_expanded = np.expand_dims(X,axis=3)\n",
    "image_shape = (X_expanded.shape[1], X_expanded.shape[2], X_expanded.shape[3])"
   ]
  },
  {
   "cell_type": "code",
   "execution_count": 16,
   "id": "9ec461c7-4ee3-4074-bc28-b6a1e6d94c64",
   "metadata": {},
   "outputs": [],
   "source": [
    "X_expanded=X_expanded/255 #.shape"
   ]
  },
  {
   "cell_type": "markdown",
   "id": "e16a67a2-b875-43d9-b08f-0218b8f5f6b5",
   "metadata": {
    "tags": []
   },
   "source": [
    "## MODEL3 - with L1 regularization:"
   ]
  },
  {
   "cell_type": "code",
   "execution_count": 17,
   "id": "92478b8a-e465-49f2-b2da-e4189eaeb632",
   "metadata": {},
   "outputs": [],
   "source": [
    "# ARCHITECTURE imports\n",
    "import numpy as np\n",
    "from tensorflow.keras import  Sequential, layers, regularizers"
   ]
  },
  {
   "cell_type": "code",
   "execution_count": 18,
   "id": "319b85d9-904c-45b3-a76c-b78c5dd52016",
   "metadata": {},
   "outputs": [],
   "source": [
    "reg_l1 = regularizers.L1(0.01)"
   ]
  },
  {
   "cell_type": "code",
   "execution_count": null,
   "id": "e57df63c-86ea-4f0b-bf2e-59aa873a2355",
   "metadata": {},
   "outputs": [],
   "source": [
    "#### 1. ARCHITECTURE\n",
    "\n",
    "model3 = Sequential()\n",
    "\n",
    "model3.add(layers.Conv2D(filters=128, kernel_size=(3,3), input_shape=image_shape, activation='relu'))\n",
    "model3.add(layers.MaxPooling2D(pool_size=(2, 2)))\n",
    "\n",
    "model3.add(layers.Conv2D(filters=64, kernel_size=(3,3), activation='relu', kernel_regularizer=reg_l1))\n",
    "model3.add(layers.MaxPooling2D(pool_size=(2, 2)))\n",
    "\n",
    "model3.add(layers.Conv2D(filters=32, kernel_size=(2,2), activation='relu', kernel_regularizer=reg_l1))\n",
    "model3.add(layers.MaxPooling2D(pool_size=(2, 2)))\n",
    "\n",
    "model3.add(layers.Flatten())\n",
    "\n",
    "model3.add(layers.Dense(128, activation='relu', kernel_regularizer=reg_l1))\n",
    "\n",
    "# Dropouts reduce overfitting by randomly turning neurons off during training.\n",
    "\n",
    "model3.add(layers.Dropout(0.2))\n",
    "\n",
    "# categorical = softmax\n",
    "model3.add(layers.Dense(6, activation='softmax'))"
   ]
  },
  {
   "cell_type": "code",
   "execution_count": null,
   "id": "1511a5a5-8239-41a2-8878-bd7b434f38b9",
   "metadata": {},
   "outputs": [],
   "source": [
    "# COMPILATION imports\n",
    "\n",
    "from tensorflow.keras import optimizers, callbacks\n",
    "from tensorflow.keras.metrics import Recall"
   ]
  },
  {
   "cell_type": "code",
   "execution_count": null,
   "id": "c239bcd9-d5e7-4aa2-ae79-c8f939d26170",
   "metadata": {},
   "outputs": [],
   "source": [
    "#### 2. COMPILATION\n",
    "\n",
    "adam = optimizers.Adam(learning_rate=0.01, beta_1=0.9, beta_2=0.999)\n",
    "\n",
    "model3.compile(loss='categorical_crossentropy',\n",
    "              optimizer=adam,\n",
    "              metrics=['accuracy', Recall()])"
   ]
  },
  {
   "cell_type": "code",
   "execution_count": null,
   "id": "cbc78bcb-10c3-4296-aebc-7b72c08901cc",
   "metadata": {},
   "outputs": [],
   "source": [
    "from tensorflow.keras import callbacks"
   ]
  },
  {
   "cell_type": "code",
   "execution_count": null,
   "id": "6a9ccf9b-663d-40b5-bfc9-debd79aeac0d",
   "metadata": {},
   "outputs": [],
   "source": [
    "#### 3. FIT\n",
    "\n",
    "es = callbacks.EarlyStopping(patience=30, restore_best_weights=True)\n",
    "\n",
    "history3 = model3.fit(X_expanded, y_encoded,\n",
    "          batch_size=32, # Batch size -too small--> no generalization\n",
    "          epochs=500,    #            -too large--> slow computations\n",
    "          validation_split=0.2,\n",
    "          callbacks=[es],\n",
    "          class_weight = weighting,\n",
    "          verbose=0)"
   ]
  },
  {
   "cell_type": "code",
   "execution_count": null,
   "id": "1b6d6d8f-abca-44b8-92cd-8ab3d7bf9fd9",
   "metadata": {},
   "outputs": [],
   "source": [
    "def plot_loss(history3, label, n):\n",
    "   plt.semilogy(history3.epoch, history3.history['loss'],\n",
    "                color='b', label='Train ' + label)\n",
    "   plt.semilogy(history3.epoch, history3.history['val_loss'],\n",
    "                color='r', label='Val ' + label,\n",
    "                linestyle=\"--\")\n",
    "   plt.xlabel('Epoch')\n",
    "   plt.ylabel('Loss')"
   ]
  },
  {
   "cell_type": "code",
   "execution_count": null,
   "id": "6832a21b-ced2-492a-88ca-92992d67f17d",
   "metadata": {},
   "outputs": [],
   "source": [
    "plot_loss(history3,\"first run\",'b')"
   ]
  },
  {
   "cell_type": "code",
   "execution_count": null,
   "id": "aa334d6c-2062-4a3e-bf68-59e411ef033e",
   "metadata": {},
   "outputs": [],
   "source": []
  }
 ],
 "metadata": {
  "environment": {
   "kernel": "python3",
   "name": "tf2-gpu.2-8.m103",
   "type": "gcloud",
   "uri": "gcr.io/deeplearning-platform-release/tf2-gpu.2-8:m103"
  },
  "kernelspec": {
   "display_name": "Python 3 (ipykernel)",
   "language": "python",
   "name": "python3"
  },
  "language_info": {
   "codemirror_mode": {
    "name": "ipython",
    "version": 3
   },
   "file_extension": ".py",
   "mimetype": "text/x-python",
   "name": "python",
   "nbconvert_exporter": "python",
   "pygments_lexer": "ipython3",
   "version": "3.7.12"
  }
 },
 "nbformat": 4,
 "nbformat_minor": 5
}
