{
 "cells": [
  {
   "cell_type": "markdown",
   "id": "0412b583-29db-4ad1-ab18-d5f17511ebcd",
   "metadata": {},
   "source": [
    "# Testing the models:"
   ]
  },
  {
   "cell_type": "code",
   "execution_count": 1,
   "id": "115e0d60-5544-4b30-96d4-f61b4acbee8f",
   "metadata": {},
   "outputs": [],
   "source": [
    "import numpy as np\n",
    "import pandas as pd\n",
    "from sklearn.preprocessing import OneHotEncoder\n",
    "from matplotlib import pyplot as plt"
   ]
  },
  {
   "cell_type": "code",
   "execution_count": 2,
   "id": "34c29bec-90f0-4c83-aea7-2f01ebbc403c",
   "metadata": {},
   "outputs": [],
   "source": [
    "X = np.load(\"../train_test_data/train_x_values.npy\")\n",
    "y = np.load(\"../train_test_data/train_y_values.npy\")"
   ]
  },
  {
   "cell_type": "markdown",
   "id": "5ffb503e-db54-4722-aa03-8446f9c391b0",
   "metadata": {},
   "source": [
    "## Encoding the target"
   ]
  },
  {
   "cell_type": "code",
   "execution_count": 3,
   "id": "9621c91b-22eb-4626-9ee6-7c2c082e5809",
   "metadata": {},
   "outputs": [
    {
     "data": {
      "text/plain": [
       "OneHotEncoder(sparse=False)"
      ]
     },
     "execution_count": 3,
     "metadata": {},
     "output_type": "execute_result"
    }
   ],
   "source": [
    "ohe = OneHotEncoder(sparse=False)\n",
    "ohe.fit(y.reshape(-1,1))"
   ]
  },
  {
   "cell_type": "code",
   "execution_count": 4,
   "id": "53a8c177-b6ed-418d-be50-f5e84384e395",
   "metadata": {},
   "outputs": [
    {
     "name": "stdout",
     "output_type": "stream",
     "text": [
      "The categories detected by the OneHotEncoder are [array(['gametocyte', 'leukocyte', 'red blood cell', 'ring', 'schizont',\n",
      "       'trophozoite'], dtype='<U14')]\n"
     ]
    }
   ],
   "source": [
    "y_encoded = ohe.transform(y.reshape(-1,1))# Display the detected categories\n",
    "print(f\"The categories detected by the OneHotEncoder are {ohe.categories_}\")"
   ]
  },
  {
   "cell_type": "code",
   "execution_count": 5,
   "id": "1080d81b-5f09-4848-8af0-03902b6b0e32",
   "metadata": {},
   "outputs": [],
   "source": [
    "y_encoded_df=pd.DataFrame(y_encoded, columns = ohe.get_feature_names_out())"
   ]
  },
  {
   "cell_type": "code",
   "execution_count": 6,
   "id": "9dc5de1e-a11f-4671-95f7-0bc7a2364d97",
   "metadata": {},
   "outputs": [
    {
     "data": {
      "text/html": [
       "<div>\n",
       "<style scoped>\n",
       "    .dataframe tbody tr th:only-of-type {\n",
       "        vertical-align: middle;\n",
       "    }\n",
       "\n",
       "    .dataframe tbody tr th {\n",
       "        vertical-align: top;\n",
       "    }\n",
       "\n",
       "    .dataframe thead th {\n",
       "        text-align: right;\n",
       "    }\n",
       "</style>\n",
       "<table border=\"1\" class=\"dataframe\">\n",
       "  <thead>\n",
       "    <tr style=\"text-align: right;\">\n",
       "      <th></th>\n",
       "      <th>x0_gametocyte</th>\n",
       "      <th>x0_leukocyte</th>\n",
       "      <th>x0_red blood cell</th>\n",
       "      <th>x0_ring</th>\n",
       "      <th>x0_schizont</th>\n",
       "      <th>x0_trophozoite</th>\n",
       "    </tr>\n",
       "  </thead>\n",
       "  <tbody>\n",
       "    <tr>\n",
       "      <th>0</th>\n",
       "      <td>0.0</td>\n",
       "      <td>0.0</td>\n",
       "      <td>1.0</td>\n",
       "      <td>0.0</td>\n",
       "      <td>0.0</td>\n",
       "      <td>0.0</td>\n",
       "    </tr>\n",
       "    <tr>\n",
       "      <th>1</th>\n",
       "      <td>0.0</td>\n",
       "      <td>0.0</td>\n",
       "      <td>1.0</td>\n",
       "      <td>0.0</td>\n",
       "      <td>0.0</td>\n",
       "      <td>0.0</td>\n",
       "    </tr>\n",
       "    <tr>\n",
       "      <th>2</th>\n",
       "      <td>0.0</td>\n",
       "      <td>0.0</td>\n",
       "      <td>1.0</td>\n",
       "      <td>0.0</td>\n",
       "      <td>0.0</td>\n",
       "      <td>0.0</td>\n",
       "    </tr>\n",
       "    <tr>\n",
       "      <th>3</th>\n",
       "      <td>0.0</td>\n",
       "      <td>0.0</td>\n",
       "      <td>1.0</td>\n",
       "      <td>0.0</td>\n",
       "      <td>0.0</td>\n",
       "      <td>0.0</td>\n",
       "    </tr>\n",
       "    <tr>\n",
       "      <th>4</th>\n",
       "      <td>0.0</td>\n",
       "      <td>0.0</td>\n",
       "      <td>1.0</td>\n",
       "      <td>0.0</td>\n",
       "      <td>0.0</td>\n",
       "      <td>0.0</td>\n",
       "    </tr>\n",
       "    <tr>\n",
       "      <th>...</th>\n",
       "      <td>...</td>\n",
       "      <td>...</td>\n",
       "      <td>...</td>\n",
       "      <td>...</td>\n",
       "      <td>...</td>\n",
       "      <td>...</td>\n",
       "    </tr>\n",
       "    <tr>\n",
       "      <th>995</th>\n",
       "      <td>0.0</td>\n",
       "      <td>0.0</td>\n",
       "      <td>1.0</td>\n",
       "      <td>0.0</td>\n",
       "      <td>0.0</td>\n",
       "      <td>0.0</td>\n",
       "    </tr>\n",
       "    <tr>\n",
       "      <th>996</th>\n",
       "      <td>0.0</td>\n",
       "      <td>0.0</td>\n",
       "      <td>1.0</td>\n",
       "      <td>0.0</td>\n",
       "      <td>0.0</td>\n",
       "      <td>0.0</td>\n",
       "    </tr>\n",
       "    <tr>\n",
       "      <th>997</th>\n",
       "      <td>0.0</td>\n",
       "      <td>0.0</td>\n",
       "      <td>1.0</td>\n",
       "      <td>0.0</td>\n",
       "      <td>0.0</td>\n",
       "      <td>0.0</td>\n",
       "    </tr>\n",
       "    <tr>\n",
       "      <th>998</th>\n",
       "      <td>0.0</td>\n",
       "      <td>0.0</td>\n",
       "      <td>1.0</td>\n",
       "      <td>0.0</td>\n",
       "      <td>0.0</td>\n",
       "      <td>0.0</td>\n",
       "    </tr>\n",
       "    <tr>\n",
       "      <th>999</th>\n",
       "      <td>0.0</td>\n",
       "      <td>0.0</td>\n",
       "      <td>1.0</td>\n",
       "      <td>0.0</td>\n",
       "      <td>0.0</td>\n",
       "      <td>0.0</td>\n",
       "    </tr>\n",
       "  </tbody>\n",
       "</table>\n",
       "<p>1000 rows × 6 columns</p>\n",
       "</div>"
      ],
      "text/plain": [
       "     x0_gametocyte  x0_leukocyte  x0_red blood cell  x0_ring  x0_schizont  \\\n",
       "0              0.0           0.0                1.0      0.0          0.0   \n",
       "1              0.0           0.0                1.0      0.0          0.0   \n",
       "2              0.0           0.0                1.0      0.0          0.0   \n",
       "3              0.0           0.0                1.0      0.0          0.0   \n",
       "4              0.0           0.0                1.0      0.0          0.0   \n",
       "..             ...           ...                ...      ...          ...   \n",
       "995            0.0           0.0                1.0      0.0          0.0   \n",
       "996            0.0           0.0                1.0      0.0          0.0   \n",
       "997            0.0           0.0                1.0      0.0          0.0   \n",
       "998            0.0           0.0                1.0      0.0          0.0   \n",
       "999            0.0           0.0                1.0      0.0          0.0   \n",
       "\n",
       "     x0_trophozoite  \n",
       "0               0.0  \n",
       "1               0.0  \n",
       "2               0.0  \n",
       "3               0.0  \n",
       "4               0.0  \n",
       "..              ...  \n",
       "995             0.0  \n",
       "996             0.0  \n",
       "997             0.0  \n",
       "998             0.0  \n",
       "999             0.0  \n",
       "\n",
       "[1000 rows x 6 columns]"
      ]
     },
     "execution_count": 6,
     "metadata": {},
     "output_type": "execute_result"
    }
   ],
   "source": [
    "y_encoded_df"
   ]
  },
  {
   "cell_type": "markdown",
   "id": "f39c7f63-b7fd-4f64-a34a-d56ce6d062e0",
   "metadata": {},
   "source": [
    "## Enconding the test target"
   ]
  },
  {
   "cell_type": "code",
   "execution_count": 7,
   "id": "efd42465-4320-4af2-961a-157cc5e8a29e",
   "metadata": {},
   "outputs": [],
   "source": [
    "X_test = np.load(\"../train_test_data/test_x_values.npy\")\n",
    "y_test = np.load(\"../train_test_data/test_y_values.npy\")"
   ]
  },
  {
   "cell_type": "code",
   "execution_count": 8,
   "id": "43d8cc04-d5f7-420a-b750-a346ddc63500",
   "metadata": {},
   "outputs": [],
   "source": [
    "y_test_encoded = ohe.transform(y_test.reshape(-1,1))"
   ]
  },
  {
   "cell_type": "markdown",
   "id": "0ffd92c5-36ad-4bd9-95bb-031d9a764745",
   "metadata": {},
   "source": [
    "## Balancing the data using class weights"
   ]
  },
  {
   "cell_type": "code",
   "execution_count": 9,
   "id": "65514776-f504-4a02-ac79-eab8a985ca76",
   "metadata": {},
   "outputs": [],
   "source": [
    "from sklearn.utils import class_weight"
   ]
  },
  {
   "cell_type": "code",
   "execution_count": 10,
   "id": "aa6f1a58-ff1c-4fc0-9fb8-923c550fd156",
   "metadata": {},
   "outputs": [
    {
     "data": {
      "text/plain": [
       "{'x0_gametocyte': 3.0,\n",
       " 'x0_leukocyte': 2.0,\n",
       " 'x0_red blood cell': 972.0,\n",
       " 'x0_ring': 5.0,\n",
       " 'x0_schizont': 2.0,\n",
       " 'x0_trophozoite': 16.0}"
      ]
     },
     "execution_count": 10,
     "metadata": {},
     "output_type": "execute_result"
    }
   ],
   "source": [
    "cw = y_encoded_df.sum().to_dict()\n",
    "cw"
   ]
  },
  {
   "cell_type": "code",
   "execution_count": 11,
   "id": "5d2303f0-b077-4356-9b22-73f7c9f552ac",
   "metadata": {},
   "outputs": [
    {
     "data": {
      "text/plain": [
       "array([[0., 0., 0., 0., 0., 1.],\n",
       "       [0., 0., 0., 0., 1., 0.],\n",
       "       [0., 0., 0., 1., 0., 0.],\n",
       "       [0., 0., 1., 0., 0., 0.],\n",
       "       [0., 1., 0., 0., 0., 0.],\n",
       "       [1., 0., 0., 0., 0., 0.]])"
      ]
     },
     "execution_count": 11,
     "metadata": {},
     "output_type": "execute_result"
    }
   ],
   "source": [
    "(np.unique(y_encoded, axis = 0))"
   ]
  },
  {
   "cell_type": "code",
   "execution_count": 12,
   "id": "db14d938-c42f-435c-ad5c-8b0933ec2b36",
   "metadata": {},
   "outputs": [],
   "source": [
    "cwv = class_weight.compute_class_weight('balanced', \n",
    "                            classes = np.unique(y),\n",
    "                            y=y)"
   ]
  },
  {
   "cell_type": "code",
   "execution_count": 13,
   "id": "995ed85b-5be6-45a7-9c80-8039e651211d",
   "metadata": {},
   "outputs": [
    {
     "data": {
      "text/plain": [
       "{0: 55.55555555555556,\n",
       " 1: 83.33333333333333,\n",
       " 2: 0.17146776406035666,\n",
       " 3: 33.333333333333336,\n",
       " 4: 83.33333333333333,\n",
       " 5: 10.416666666666666}"
      ]
     },
     "execution_count": 13,
     "metadata": {},
     "output_type": "execute_result"
    }
   ],
   "source": [
    "z = zip([int(i) for i in (np.arange(0,7))], \n",
    "            cwv)\n",
    "np.unique(y_encoded)\n",
    "[int(i) for i in (np.arange(0,7))]\n",
    "weighting = dict(z)\n",
    "weighting"
   ]
  },
  {
   "cell_type": "code",
   "execution_count": 14,
   "id": "63c8255f-4dc1-4f14-b9f4-e591cf365c56",
   "metadata": {},
   "outputs": [],
   "source": [
    "X_expanded = np.expand_dims(X,axis=3)\n",
    "image_shape = (X_expanded.shape[1], X_expanded.shape[2], X_expanded.shape[3])"
   ]
  },
  {
   "cell_type": "code",
   "execution_count": 15,
   "id": "5be32f1e-e80b-4ab0-9249-c871ac34e021",
   "metadata": {},
   "outputs": [],
   "source": [
    "X_expanded=X_expanded/255 #.shape"
   ]
  },
  {
   "cell_type": "markdown",
   "id": "fa68b102-3b36-4bcc-ab21-7b90e36ab24b",
   "metadata": {},
   "source": [
    "# Model2 - Model3 on Notion but with some Batch Normalization:"
   ]
  },
  {
   "cell_type": "code",
   "execution_count": 19,
   "id": "729472e1-223c-4fb1-9612-9ad82acaee19",
   "metadata": {},
   "outputs": [
    {
     "ename": "ModuleNotFoundError",
     "evalue": "No module named 'tensorflow'",
     "output_type": "error",
     "traceback": [
      "\u001b[0;31m---------------------------------------------------------------------------\u001b[0m",
      "\u001b[0;31mModuleNotFoundError\u001b[0m                       Traceback (most recent call last)",
      "\u001b[0;32m/var/tmp/ipykernel_13329/3895472255.py\u001b[0m in \u001b[0;36m<module>\u001b[0;34m\u001b[0m\n\u001b[1;32m      1\u001b[0m \u001b[0;31m# ARCHITECTURE imports\u001b[0m\u001b[0;34m\u001b[0m\u001b[0;34m\u001b[0m\u001b[0;34m\u001b[0m\u001b[0m\n\u001b[1;32m      2\u001b[0m \u001b[0;32mimport\u001b[0m \u001b[0mnumpy\u001b[0m \u001b[0;32mas\u001b[0m \u001b[0mnp\u001b[0m\u001b[0;34m\u001b[0m\u001b[0;34m\u001b[0m\u001b[0m\n\u001b[0;32m----> 3\u001b[0;31m \u001b[0;32mfrom\u001b[0m \u001b[0mtensorflow\u001b[0m\u001b[0;34m.\u001b[0m\u001b[0mkeras\u001b[0m \u001b[0;32mimport\u001b[0m  \u001b[0mSequential\u001b[0m\u001b[0;34m,\u001b[0m \u001b[0mlayers\u001b[0m\u001b[0;34m,\u001b[0m \u001b[0mregularizers\u001b[0m\u001b[0;34m\u001b[0m\u001b[0;34m\u001b[0m\u001b[0m\n\u001b[0m",
      "\u001b[0;31mModuleNotFoundError\u001b[0m: No module named 'tensorflow'"
     ]
    }
   ],
   "source": [
    "# ARCHITECTURE imports\n",
    "import numpy as np\n",
    "from tensorflow.keras import  Sequential, layers, regularizers"
   ]
  },
  {
   "cell_type": "code",
   "execution_count": null,
   "id": "3b328173-c3ad-45df-81a6-62f591229bdf",
   "metadata": {},
   "outputs": [],
   "source": [
    "#### 1. ARCHITECTURE\n",
    "\n",
    "model2 = Sequential()\n",
    "\n",
    "model2.add(layers.Conv2D(filters=128, kernel_size=(3,3), input_shape=image_shape, activation='relu'))\n",
    "model2.add(layers.BatchNormalization())\n",
    "model2.add(layers.MaxPooling2D(pool_size=(2, 2)))\n",
    "\n",
    "\n",
    "# model.add(layers.Dropout(0.5))\n",
    "\n",
    "model2.add(layers.Conv2D(filters=64, kernel_size=(3,3), activation='relu'))\n",
    "model2.add(layers.BatchNormalization())\n",
    "model2.add(layers.MaxPooling2D(pool_size=(2, 2)))\n",
    "\n",
    "# model.add(layers.Conv2D(filters=10, kernel_size=(2,2), activation='relu', kernel_regularizer=tf.keras.regularizers.L1(0.01)))\n",
    "\n",
    "model2.add(layers.Conv2D(filters=32, kernel_size=(2,2), activation='relu'))\n",
    "model2.add(layers.BatchNormalization())\n",
    "model2.add(layers.MaxPooling2D(pool_size=(2, 2)))\n",
    "\n",
    "#  model.add(layers.Flatten())\n",
    "\n",
    "model2.add(layers.Dense(64, use_bias=False))\n",
    "model2.add(layers.BatchNormalization())\n",
    "model2.add(layers.Activation('relu'))\n",
    "\n",
    "model2.add(layers.Dropout(0.2))\n",
    "\n",
    "model2.add(layers.Flatten())\n",
    "\n",
    "model2.add(layers.Dense(6, activation='softmax'))"
   ]
  },
  {
   "cell_type": "code",
   "execution_count": null,
   "id": "50d64512-4214-420c-b818-b95cd94b92b5",
   "metadata": {},
   "outputs": [],
   "source": [
    "# COMPILATION imports\n",
    "\n",
    "from tensorflow.keras import optimizers, callbacks\n",
    "from tensorflow.keras.metrics import Recall\n"
   ]
  },
  {
   "cell_type": "code",
   "execution_count": null,
   "id": "ee5c3e93-4e8f-4b10-b927-58065c25e756",
   "metadata": {},
   "outputs": [],
   "source": [
    "#### 2. COMPILATION\n",
    "\n",
    "# adam = optimizers.Adam(learning_rate=0.01, beta_1=0.9, beta_2=0.999)\n",
    "# adam = optimizers.Adam(learning_rate=0.1)\n",
    "adam = optimizers.Adam()\n",
    "\n",
    "model2.compile(loss='categorical_crossentropy',\n",
    "              optimizer=adam,\n",
    "              metrics=['accuracy', Recall()])"
   ]
  },
  {
   "cell_type": "code",
   "execution_count": null,
   "id": "e2dc40ff-5eca-47c7-8b25-12cb87bbee59",
   "metadata": {},
   "outputs": [],
   "source": [
    "#### 3. FIT\n",
    "\n",
    "es = callbacks.EarlyStopping(patience=30, restore_best_weights=True)"
   ]
  },
  {
   "cell_type": "code",
   "execution_count": null,
   "id": "936e7dc8-e1b6-48d3-b61a-5930603ce8ff",
   "metadata": {},
   "outputs": [],
   "source": [
    "# FIT imports\n",
    "\n",
    "from tensorflow.keras import callbacks"
   ]
  },
  {
   "cell_type": "code",
   "execution_count": null,
   "id": "17666d71-cdf3-41fa-bc2e-cbb143b0ccb2",
   "metadata": {},
   "outputs": [],
   "source": [
    "history2 = model2.fit(X_expanded, y_encoded,\n",
    "          batch_size=16, # Batch size -too small--> no generalization\n",
    "          epochs=500,    #            -too large--> slow computations\n",
    "          validation_split=0.2,\n",
    "          callbacks=[es],\n",
    "          class_weight = weighting,\n",
    "          verbose=0)"
   ]
  },
  {
   "cell_type": "code",
   "execution_count": null,
   "id": "915b4400-eaac-4d27-9c5f-b83f90e1c53e",
   "metadata": {},
   "outputs": [],
   "source": [
    "model2.evaluate(X_test/255, y_test_encoded)"
   ]
  },
  {
   "cell_type": "code",
   "execution_count": null,
   "id": "e6112d3d-8851-4689-af26-bfb3fe6bb83e",
   "metadata": {},
   "outputs": [],
   "source": [
    "def plot_loss(history2, label, n):\n",
    "  plt.semilogy(history2.epoch, history2.history['loss'],\n",
    "               color='b', label='Train ' + label)\n",
    "  plt.semilogy(history2.epoch, history2.history['val_loss'],\n",
    "               color='r', label='Val ' + label,\n",
    "               linestyle=\"--\")\n",
    "  plt.xlabel('Epoch')\n",
    "  plt.ylabel('Loss')"
   ]
  },
  {
   "cell_type": "code",
   "execution_count": null,
   "id": "6029b9a6-6281-4eeb-b41c-baf5cb0be037",
   "metadata": {},
   "outputs": [],
   "source": [
    "plot_loss(history2,\"first run\",'b')"
   ]
  },
  {
   "cell_type": "code",
   "execution_count": null,
   "id": "7f7118d8-978a-40df-9454-51f81d3a3091",
   "metadata": {},
   "outputs": [],
   "source": []
  }
 ],
 "metadata": {
  "environment": {
   "kernel": "python3",
   "name": "tf2-gpu.2-8.m103",
   "type": "gcloud",
   "uri": "gcr.io/deeplearning-platform-release/tf2-gpu.2-8:m103"
  },
  "kernelspec": {
   "display_name": "Python 3 (ipykernel)",
   "language": "python",
   "name": "python3"
  },
  "language_info": {
   "codemirror_mode": {
    "name": "ipython",
    "version": 3
   },
   "file_extension": ".py",
   "mimetype": "text/x-python",
   "name": "python",
   "nbconvert_exporter": "python",
   "pygments_lexer": "ipython3",
   "version": "3.7.12"
  }
 },
 "nbformat": 4,
 "nbformat_minor": 5
}
