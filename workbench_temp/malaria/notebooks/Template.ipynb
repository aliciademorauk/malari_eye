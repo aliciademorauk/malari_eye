{
 "cells": [
  {
   "cell_type": "markdown",
   "id": "0412b583-29db-4ad1-ab18-d5f17511ebcd",
   "metadata": {},
   "source": [
    "# Testing the models:"
   ]
  },
  {
   "cell_type": "code",
   "execution_count": 2,
   "id": "115e0d60-5544-4b30-96d4-f61b4acbee8f",
   "metadata": {},
   "outputs": [],
   "source": [
    "import numpy as np\n",
    "import pandas as pd\n",
    "from sklearn.preprocessing import OneHotEncoder\n",
    "from matplotlib import pyplot as plt"
   ]
  },
  {
   "cell_type": "code",
   "execution_count": 4,
   "id": "34c29bec-90f0-4c83-aea7-2f01ebbc403c",
   "metadata": {},
   "outputs": [],
   "source": [
    "X = np.load(\"../train_test_data/train_x_values.npy\")\n",
    "y = np.load(\"../train_test_data/train_y_values.npy\")"
   ]
  },
  {
   "cell_type": "markdown",
   "id": "5ffb503e-db54-4722-aa03-8446f9c391b0",
   "metadata": {},
   "source": [
    "## Encoding the target"
   ]
  },
  {
   "cell_type": "code",
   "execution_count": 6,
   "id": "9621c91b-22eb-4626-9ee6-7c2c082e5809",
   "metadata": {},
   "outputs": [
    {
     "data": {
      "text/plain": [
       "OneHotEncoder(sparse=False)"
      ]
     },
     "execution_count": 6,
     "metadata": {},
     "output_type": "execute_result"
    }
   ],
   "source": [
    "ohe = OneHotEncoder(sparse=False)\n",
    "ohe.fit(y.reshape(-1,1))"
   ]
  },
  {
   "cell_type": "code",
   "execution_count": 7,
   "id": "53a8c177-b6ed-418d-be50-f5e84384e395",
   "metadata": {},
   "outputs": [
    {
     "name": "stdout",
     "output_type": "stream",
     "text": [
      "The categories detected by the OneHotEncoder are [array(['gametocyte', 'leukocyte', 'red blood cell', 'ring', 'schizont',\n",
      "       'trophozoite'], dtype='<U14')]\n"
     ]
    }
   ],
   "source": [
    "y_encoded = ohe.transform(y.reshape(-1,1))# Display the detected categories\n",
    "print(f\"The categories detected by the OneHotEncoder are {ohe.categories_}\")"
   ]
  },
  {
   "cell_type": "code",
   "execution_count": 8,
   "id": "1080d81b-5f09-4848-8af0-03902b6b0e32",
   "metadata": {},
   "outputs": [],
   "source": [
    "y_encoded_df=pd.DataFrame(y_encoded, columns = ohe.get_feature_names_out())"
   ]
  },
  {
   "cell_type": "code",
   "execution_count": 9,
   "id": "9dc5de1e-a11f-4671-95f7-0bc7a2364d97",
   "metadata": {},
   "outputs": [
    {
     "data": {
      "text/html": [
       "<div>\n",
       "<style scoped>\n",
       "    .dataframe tbody tr th:only-of-type {\n",
       "        vertical-align: middle;\n",
       "    }\n",
       "\n",
       "    .dataframe tbody tr th {\n",
       "        vertical-align: top;\n",
       "    }\n",
       "\n",
       "    .dataframe thead th {\n",
       "        text-align: right;\n",
       "    }\n",
       "</style>\n",
       "<table border=\"1\" class=\"dataframe\">\n",
       "  <thead>\n",
       "    <tr style=\"text-align: right;\">\n",
       "      <th></th>\n",
       "      <th>x0_gametocyte</th>\n",
       "      <th>x0_leukocyte</th>\n",
       "      <th>x0_red blood cell</th>\n",
       "      <th>x0_ring</th>\n",
       "      <th>x0_schizont</th>\n",
       "      <th>x0_trophozoite</th>\n",
       "    </tr>\n",
       "  </thead>\n",
       "  <tbody>\n",
       "    <tr>\n",
       "      <th>0</th>\n",
       "      <td>0.0</td>\n",
       "      <td>0.0</td>\n",
       "      <td>1.0</td>\n",
       "      <td>0.0</td>\n",
       "      <td>0.0</td>\n",
       "      <td>0.0</td>\n",
       "    </tr>\n",
       "    <tr>\n",
       "      <th>1</th>\n",
       "      <td>0.0</td>\n",
       "      <td>0.0</td>\n",
       "      <td>1.0</td>\n",
       "      <td>0.0</td>\n",
       "      <td>0.0</td>\n",
       "      <td>0.0</td>\n",
       "    </tr>\n",
       "    <tr>\n",
       "      <th>2</th>\n",
       "      <td>0.0</td>\n",
       "      <td>0.0</td>\n",
       "      <td>1.0</td>\n",
       "      <td>0.0</td>\n",
       "      <td>0.0</td>\n",
       "      <td>0.0</td>\n",
       "    </tr>\n",
       "    <tr>\n",
       "      <th>3</th>\n",
       "      <td>0.0</td>\n",
       "      <td>0.0</td>\n",
       "      <td>1.0</td>\n",
       "      <td>0.0</td>\n",
       "      <td>0.0</td>\n",
       "      <td>0.0</td>\n",
       "    </tr>\n",
       "    <tr>\n",
       "      <th>4</th>\n",
       "      <td>0.0</td>\n",
       "      <td>0.0</td>\n",
       "      <td>1.0</td>\n",
       "      <td>0.0</td>\n",
       "      <td>0.0</td>\n",
       "      <td>0.0</td>\n",
       "    </tr>\n",
       "    <tr>\n",
       "      <th>...</th>\n",
       "      <td>...</td>\n",
       "      <td>...</td>\n",
       "      <td>...</td>\n",
       "      <td>...</td>\n",
       "      <td>...</td>\n",
       "      <td>...</td>\n",
       "    </tr>\n",
       "    <tr>\n",
       "      <th>995</th>\n",
       "      <td>0.0</td>\n",
       "      <td>0.0</td>\n",
       "      <td>1.0</td>\n",
       "      <td>0.0</td>\n",
       "      <td>0.0</td>\n",
       "      <td>0.0</td>\n",
       "    </tr>\n",
       "    <tr>\n",
       "      <th>996</th>\n",
       "      <td>0.0</td>\n",
       "      <td>0.0</td>\n",
       "      <td>1.0</td>\n",
       "      <td>0.0</td>\n",
       "      <td>0.0</td>\n",
       "      <td>0.0</td>\n",
       "    </tr>\n",
       "    <tr>\n",
       "      <th>997</th>\n",
       "      <td>0.0</td>\n",
       "      <td>0.0</td>\n",
       "      <td>1.0</td>\n",
       "      <td>0.0</td>\n",
       "      <td>0.0</td>\n",
       "      <td>0.0</td>\n",
       "    </tr>\n",
       "    <tr>\n",
       "      <th>998</th>\n",
       "      <td>0.0</td>\n",
       "      <td>0.0</td>\n",
       "      <td>1.0</td>\n",
       "      <td>0.0</td>\n",
       "      <td>0.0</td>\n",
       "      <td>0.0</td>\n",
       "    </tr>\n",
       "    <tr>\n",
       "      <th>999</th>\n",
       "      <td>0.0</td>\n",
       "      <td>0.0</td>\n",
       "      <td>1.0</td>\n",
       "      <td>0.0</td>\n",
       "      <td>0.0</td>\n",
       "      <td>0.0</td>\n",
       "    </tr>\n",
       "  </tbody>\n",
       "</table>\n",
       "<p>1000 rows × 6 columns</p>\n",
       "</div>"
      ],
      "text/plain": [
       "     x0_gametocyte  x0_leukocyte  x0_red blood cell  x0_ring  x0_schizont  \\\n",
       "0              0.0           0.0                1.0      0.0          0.0   \n",
       "1              0.0           0.0                1.0      0.0          0.0   \n",
       "2              0.0           0.0                1.0      0.0          0.0   \n",
       "3              0.0           0.0                1.0      0.0          0.0   \n",
       "4              0.0           0.0                1.0      0.0          0.0   \n",
       "..             ...           ...                ...      ...          ...   \n",
       "995            0.0           0.0                1.0      0.0          0.0   \n",
       "996            0.0           0.0                1.0      0.0          0.0   \n",
       "997            0.0           0.0                1.0      0.0          0.0   \n",
       "998            0.0           0.0                1.0      0.0          0.0   \n",
       "999            0.0           0.0                1.0      0.0          0.0   \n",
       "\n",
       "     x0_trophozoite  \n",
       "0               0.0  \n",
       "1               0.0  \n",
       "2               0.0  \n",
       "3               0.0  \n",
       "4               0.0  \n",
       "..              ...  \n",
       "995             0.0  \n",
       "996             0.0  \n",
       "997             0.0  \n",
       "998             0.0  \n",
       "999             0.0  \n",
       "\n",
       "[1000 rows x 6 columns]"
      ]
     },
     "execution_count": 9,
     "metadata": {},
     "output_type": "execute_result"
    }
   ],
   "source": [
    "y_encoded_df"
   ]
  },
  {
   "cell_type": "markdown",
   "id": "5ad8888e-0519-4d50-b36e-1a8df2bc64ae",
   "metadata": {},
   "source": [
    "## Enconding the test target"
   ]
  },
  {
   "cell_type": "code",
   "execution_count": 3,
   "id": "43d8cc04-d5f7-420a-b750-a346ddc63500",
   "metadata": {},
   "outputs": [],
   "source": [
    "X_test = np.load(\"../train_test_data/test_x_values.npy\")\n",
    "y_test = np.load(\"../train_test_data/test_y_values.npy\")"
   ]
  },
  {
   "cell_type": "code",
   "execution_count": 4,
   "id": "7781070e-9144-4fd9-b5d6-41dfc907f263",
   "metadata": {},
   "outputs": [
    {
     "ename": "NameError",
     "evalue": "name 'ohe' is not defined",
     "output_type": "error",
     "traceback": [
      "\u001b[0;31m---------------------------------------------------------------------------\u001b[0m",
      "\u001b[0;31mNameError\u001b[0m                                 Traceback (most recent call last)",
      "\u001b[0;32m/var/tmp/ipykernel_5694/299960395.py\u001b[0m in \u001b[0;36m<module>\u001b[0;34m\u001b[0m\n\u001b[0;32m----> 1\u001b[0;31m \u001b[0my_test_encoded\u001b[0m \u001b[0;34m=\u001b[0m \u001b[0mohe\u001b[0m\u001b[0;34m.\u001b[0m\u001b[0mtransform\u001b[0m\u001b[0;34m(\u001b[0m\u001b[0my_test\u001b[0m\u001b[0;34m.\u001b[0m\u001b[0mreshape\u001b[0m\u001b[0;34m(\u001b[0m\u001b[0;34m-\u001b[0m\u001b[0;36m1\u001b[0m\u001b[0;34m,\u001b[0m\u001b[0;36m1\u001b[0m\u001b[0;34m)\u001b[0m\u001b[0;34m)\u001b[0m\u001b[0;34m\u001b[0m\u001b[0;34m\u001b[0m\u001b[0m\n\u001b[0m",
      "\u001b[0;31mNameError\u001b[0m: name 'ohe' is not defined"
     ]
    }
   ],
   "source": [
    "y_test_encoded = ohe.transform(y_test.reshape(-1,1))"
   ]
  },
  {
   "cell_type": "markdown",
   "id": "97360ef4-aca7-4134-a0a5-3c381d0b3eb0",
   "metadata": {},
   "source": [
    "## Balancing the data using class weights"
   ]
  },
  {
   "cell_type": "code",
   "execution_count": null,
   "id": "98728176-8f0a-4f8d-b65e-124bda3b2a48",
   "metadata": {},
   "outputs": [],
   "source": [
    "from sklearn.utils import class_weight"
   ]
  },
  {
   "cell_type": "code",
   "execution_count": 5,
   "id": "6eab082f-89d6-43db-8fcb-18c4025d1977",
   "metadata": {},
   "outputs": [
    {
     "ename": "NameError",
     "evalue": "name 'y_encoded_df' is not defined",
     "output_type": "error",
     "traceback": [
      "\u001b[0;31m---------------------------------------------------------------------------\u001b[0m",
      "\u001b[0;31mNameError\u001b[0m                                 Traceback (most recent call last)",
      "\u001b[0;32m/var/tmp/ipykernel_5694/3864998927.py\u001b[0m in \u001b[0;36m<module>\u001b[0;34m\u001b[0m\n\u001b[0;32m----> 1\u001b[0;31m \u001b[0mcw\u001b[0m \u001b[0;34m=\u001b[0m \u001b[0my_encoded_df\u001b[0m\u001b[0;34m.\u001b[0m\u001b[0msum\u001b[0m\u001b[0;34m(\u001b[0m\u001b[0;34m)\u001b[0m\u001b[0;34m.\u001b[0m\u001b[0mto_dict\u001b[0m\u001b[0;34m(\u001b[0m\u001b[0;34m)\u001b[0m\u001b[0;34m\u001b[0m\u001b[0;34m\u001b[0m\u001b[0m\n\u001b[0m\u001b[1;32m      2\u001b[0m \u001b[0mcw\u001b[0m\u001b[0;34m\u001b[0m\u001b[0;34m\u001b[0m\u001b[0m\n",
      "\u001b[0;31mNameError\u001b[0m: name 'y_encoded_df' is not defined"
     ]
    }
   ],
   "source": [
    "cw = y_encoded_df.sum().to_dict()\n",
    "cw"
   ]
  },
  {
   "cell_type": "code",
   "execution_count": null,
   "id": "2f14ba4e-709b-4a43-bcd6-9757ac2649ea",
   "metadata": {},
   "outputs": [],
   "source": [
    "(np.unique(y_encoded, axis = 0))"
   ]
  },
  {
   "cell_type": "code",
   "execution_count": null,
   "id": "7a5a749a-3485-4bd0-a67d-9b5a9c420ffa",
   "metadata": {},
   "outputs": [],
   "source": []
  },
  {
   "cell_type": "code",
   "execution_count": null,
   "id": "c35e15f5-0f3b-4bd2-89d6-1b2797c4c91b",
   "metadata": {},
   "outputs": [],
   "source": []
  },
  {
   "cell_type": "code",
   "execution_count": null,
   "id": "ae58ec88-56cf-413a-b413-b8d5e4d021c8",
   "metadata": {},
   "outputs": [],
   "source": []
  },
  {
   "cell_type": "code",
   "execution_count": null,
   "id": "9ec461c7-4ee3-4074-bc28-b6a1e6d94c64",
   "metadata": {},
   "outputs": [],
   "source": []
  },
  {
   "cell_type": "code",
   "execution_count": null,
   "id": "f5349eb0-302c-4e59-ba95-7a507bf00c17",
   "metadata": {},
   "outputs": [],
   "source": []
  },
  {
   "cell_type": "code",
   "execution_count": null,
   "id": "319b85d9-904c-45b3-a76c-b78c5dd52016",
   "metadata": {},
   "outputs": [],
   "source": []
  },
  {
   "cell_type": "code",
   "execution_count": null,
   "id": "e57df63c-86ea-4f0b-bf2e-59aa873a2355",
   "metadata": {},
   "outputs": [],
   "source": []
  },
  {
   "cell_type": "code",
   "execution_count": null,
   "id": "c239bcd9-d5e7-4aa2-ae79-c8f939d26170",
   "metadata": {},
   "outputs": [],
   "source": []
  },
  {
   "cell_type": "code",
   "execution_count": null,
   "id": "6a9ccf9b-663d-40b5-bfc9-debd79aeac0d",
   "metadata": {},
   "outputs": [],
   "source": []
  },
  {
   "cell_type": "code",
   "execution_count": null,
   "id": "1b6d6d8f-abca-44b8-92cd-8ab3d7bf9fd9",
   "metadata": {},
   "outputs": [],
   "source": []
  },
  {
   "cell_type": "code",
   "execution_count": null,
   "id": "6832a21b-ced2-492a-88ca-92992d67f17d",
   "metadata": {},
   "outputs": [],
   "source": []
  }
 ],
 "metadata": {
  "environment": {
   "kernel": "python3",
   "name": "tf2-gpu.2-8.m103",
   "type": "gcloud",
   "uri": "gcr.io/deeplearning-platform-release/tf2-gpu.2-8:m103"
  },
  "kernelspec": {
   "display_name": "Python 3 (ipykernel)",
   "language": "python",
   "name": "python3"
  },
  "language_info": {
   "codemirror_mode": {
    "name": "ipython",
    "version": 3
   },
   "file_extension": ".py",
   "mimetype": "text/x-python",
   "name": "python",
   "nbconvert_exporter": "python",
   "pygments_lexer": "ipython3",
   "version": "3.7.12"
  }
 },
 "nbformat": 4,
 "nbformat_minor": 5
}
