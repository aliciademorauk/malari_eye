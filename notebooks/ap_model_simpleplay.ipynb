{
 "cells": [
  {
   "cell_type": "code",
   "execution_count": 1,
   "id": "847af3b3-a14d-4c8f-a975-2117282aa92d",
   "metadata": {
    "tags": []
   },
   "outputs": [],
   "source": [
    "# preprocessing imports\n",
    "\n",
    "from sklearn.preprocessing import OneHotEncoder\n",
    "from sklearn.utils import class_weight\n",
    "\n",
    "# ARCHITECTURE imports\n",
    "\n",
    "import tensorflow as tf\n",
    "import numpy as np\n",
    "from tensorflow.keras import models, Sequential, layers, regularizers\n",
    "from tensorflow.keras.layers import Conv2D, MaxPooling2D, Flatten, Dense, Dropout\n",
    "\n",
    "# COMPILATION imports\n",
    "\n",
    "from tensorflow.keras import optimizers, callbacks\n",
    "\n",
    "# FIT imports\n",
    "\n",
    "from tensorflow.keras import callbacks"
   ]
  },
  {
   "cell_type": "code",
   "execution_count": 2,
   "id": "9039c510-92b2-441c-9a70-1dd500ccb108",
   "metadata": {
    "tags": []
   },
   "outputs": [
    {
     "name": "stdout",
     "output_type": "stream",
     "text": [
      "[[0. 0. 0. ... 0. 0. 0.]\n",
      " [0. 0. 0. ... 0. 0. 0.]\n",
      " [0. 0. 0. ... 0. 0. 0.]\n",
      " ...\n",
      " [0. 0. 0. ... 0. 0. 0.]\n",
      " [0. 0. 0. ... 0. 0. 0.]\n",
      " [0. 0. 0. ... 0. 0. 0.]]\n",
      "['difficult' 'gametocyte' 'leukocyte' 'red blood cell' 'ring' 'schizont'\n",
      " 'trophozoite']\n",
      "(108, 108, 1)\n",
      "[28.57142857 47.61904762 71.42857143  0.14773231 28.57142857 71.42857143\n",
      "  8.92857143]\n"
     ]
    }
   ],
   "source": [
    "# preprocessing stuff\n",
    "\n",
    "# load the numpy arrays\n",
    "y  = np.load('../malaria/y_values.npy')\n",
    "X  = np.load('../malaria/X_values.npy')\n",
    "\n",
    "# one hot encoding y\n",
    "ohe = OneHotEncoder(sparse_output=False)\n",
    "ohe.fit(y.reshape(-1,1))\n",
    "encoded_y = ohe.transform(y.reshape(-1,1))\n",
    "print(encoded_y)\n",
    "print(np.unique(y))\n",
    "# reshaping X\n",
    "X = np.expand_dims(X,axis=3)\n",
    "image_shape = (X.shape[1], X.shape[2], X.shape[3])\n",
    "print(image_shape)\n",
    "\n",
    "# normalising X\n",
    "norm_X = X/255 \n",
    "# print(norm_X)\n",
    "\n",
    "# class weighting\n",
    "class_weight_values = class_weight.compute_class_weight('balanced',\n",
    "                            classes = np.unique(y).tolist(),\n",
    "                           y=y.reshape(-1))\n",
    "print(class_weight_values)"
   ]
  },
  {
   "cell_type": "code",
   "execution_count": 3,
   "id": "bad90449-45ce-4102-82dd-cd78ee45c6ce",
   "metadata": {
    "tags": []
   },
   "outputs": [
    {
     "name": "stdout",
     "output_type": "stream",
     "text": [
      "<class 'numpy.ndarray'>\n",
      "<class 'numpy.ndarray'>\n"
     ]
    }
   ],
   "source": [
    "print(type(class_weight_values))\n",
    "print(type(encoded_y))"
   ]
  },
  {
   "cell_type": "code",
   "execution_count": 4,
   "id": "b98658a9-e3da-4919-81b6-49193c410cf1",
   "metadata": {
    "tags": []
   },
   "outputs": [
    {
     "data": {
      "text/plain": [
       "{'difficult': 0,\n",
       " 'gametocyte': 1,\n",
       " 'leukocyte': 2,\n",
       " 'red blood cell': 3,\n",
       " 'ring': 4,\n",
       " 'schizont': 5,\n",
       " 'trophozoite': 6}"
      ]
     },
     "execution_count": 4,
     "metadata": {},
     "output_type": "execute_result"
    }
   ],
   "source": [
    "class_weight_dict = dict(zip(np.unique(y),list(range(len(np.unique(y))))))\n",
    "class_weight_dict"
   ]
  },
  {
   "cell_type": "code",
   "execution_count": 5,
   "id": "2e43c941-77a9-4a00-8071-179596556ec7",
   "metadata": {
    "tags": []
   },
   "outputs": [
    {
     "data": {
      "text/plain": [
       "{0: 28.571428571428573,\n",
       " 1: 47.61904761904762,\n",
       " 2: 71.42857142857143,\n",
       " 3: 0.14773230905599055,\n",
       " 4: 28.571428571428573,\n",
       " 5: 71.42857142857143,\n",
       " 6: 8.928571428571429}"
      ]
     },
     "execution_count": 5,
     "metadata": {},
     "output_type": "execute_result"
    }
   ],
   "source": [
    "class_weight_values_dict = dict(zip(list(class_weight_dict.values()),class_weight_values))\n",
    "class_weight_values_dict"
   ]
  },
  {
   "cell_type": "code",
   "execution_count": 6,
   "id": "f876f521-3e29-4273-9a30-71674274e9fb",
   "metadata": {
    "tags": []
   },
   "outputs": [],
   "source": [
    "# model 1\n",
    "\n",
    "#### 1. ARCHITECTURE\n",
    "\n",
    "model = Sequential()\n",
    "\n",
    "model.add(Conv2D(filters=64, kernel_size=(4,4), input_shape=image_shape, activation='relu'))\n",
    "model.add(MaxPooling2D(pool_size=(2, 2)))\n",
    "\n",
    "# model.add(Conv2D(filters=64, kernel_size=(3,3), activation='relu', kernel_regularizer=tf.keras.regularizers.L1(0.01)))\n",
    "# model.add(MaxPooling2D(pool_size=(2, 2)))\n",
    "\n",
    "# model.add(Conv2D(filters=32, kernel_size=(2,2), activation='relu', kernel_regularizer=tf.keras.regularizers.L1(0.01)))\n",
    "# model.add(MaxPooling2D(pool_size=(2, 2)))\n",
    "\n",
    "model.add(Flatten())\n",
    "\n",
    "model.add(Dense(64, activation='relu'))\n",
    "\n",
    "# Dropouts reduce overfitting by randomly turning neurons off during training.\n",
    "\n",
    "model.add(Dropout(0.2))\n",
    "\n",
    "# categorical = softmax\n",
    "model.add(Dense(7, activation='softmax'))"
   ]
  },
  {
   "cell_type": "code",
   "execution_count": 7,
   "id": "7648c691-95b9-4080-82a2-7e3550c5041b",
   "metadata": {
    "tags": []
   },
   "outputs": [],
   "source": [
    "#### 2. COMPILATION\n",
    "\n",
    "adam = optimizers.Adam(learning_rate=0.01, beta_1=0.9, beta_2=0.999)\n",
    "\n",
    "model.compile(loss='categorical_crossentropy',\n",
    "              optimizer=adam,\n",
    "              metrics=['accuracy'])"
   ]
  },
  {
   "cell_type": "code",
   "execution_count": 8,
   "id": "9a352c6b-3f1c-4a7e-8570-57ebc404e161",
   "metadata": {
    "tags": []
   },
   "outputs": [
    {
     "name": "stdout",
     "output_type": "stream",
     "text": [
      "Epoch 1/100\n"
     ]
    },
    {
     "name": "stderr",
     "output_type": "stream",
     "text": [
      "2023-03-08 16:39:21.738102: W tensorflow/core/platform/profile_utils/cpu_utils.cc:128] Failed to get CPU frequency: 0 Hz\n"
     ]
    },
    {
     "name": "stdout",
     "output_type": "stream",
     "text": [
      "22/22 [==============================] - 2s 74ms/step - loss: 8309.3574 - accuracy: 0.3000 - val_loss: 2.0079 - val_accuracy: 0.0133\n",
      "Epoch 2/100\n",
      "22/22 [==============================] - 1s 67ms/step - loss: 22.2373 - accuracy: 0.0171 - val_loss: 2.0227 - val_accuracy: 0.0133\n",
      "Epoch 3/100\n",
      "22/22 [==============================] - 2s 68ms/step - loss: 101.7409 - accuracy: 0.0029 - val_loss: 2.0119 - val_accuracy: 0.0000e+00\n",
      "Epoch 4/100\n",
      "22/22 [==============================] - 2s 70ms/step - loss: 1.9913 - accuracy: 0.0071 - val_loss: 1.9997 - val_accuracy: 0.0133\n",
      "Epoch 5/100\n",
      "22/22 [==============================] - 1s 67ms/step - loss: 1.9875 - accuracy: 0.0057 - val_loss: 1.9978 - val_accuracy: 0.0000e+00\n",
      "Epoch 6/100\n",
      "22/22 [==============================] - 1s 66ms/step - loss: 1.9853 - accuracy: 0.0029 - val_loss: 2.0012 - val_accuracy: 0.0000e+00\n",
      "Epoch 7/100\n",
      "22/22 [==============================] - 1s 66ms/step - loss: 1.9855 - accuracy: 0.0029 - val_loss: 1.9964 - val_accuracy: 0.0000e+00\n",
      "Epoch 8/100\n",
      "22/22 [==============================] - 2s 70ms/step - loss: 1.9840 - accuracy: 0.0029 - val_loss: 1.9935 - val_accuracy: 0.0000e+00\n",
      "Epoch 9/100\n",
      "22/22 [==============================] - 2s 69ms/step - loss: 1.9839 - accuracy: 0.0029 - val_loss: 1.9908 - val_accuracy: 0.0000e+00\n",
      "Epoch 10/100\n",
      "22/22 [==============================] - 2s 72ms/step - loss: 1.9844 - accuracy: 0.0029 - val_loss: 1.9901 - val_accuracy: 0.0000e+00\n",
      "Epoch 11/100\n",
      "22/22 [==============================] - 2s 69ms/step - loss: 1.9803 - accuracy: 0.0029 - val_loss: 1.9904 - val_accuracy: 0.0000e+00\n",
      "Epoch 12/100\n",
      "22/22 [==============================] - 1s 67ms/step - loss: 1.9828 - accuracy: 0.0029 - val_loss: 1.9853 - val_accuracy: 0.0000e+00\n",
      "Epoch 13/100\n",
      "22/22 [==============================] - 2s 71ms/step - loss: 1.9817 - accuracy: 0.0029 - val_loss: 1.9691 - val_accuracy: 0.0000e+00\n",
      "Epoch 14/100\n",
      "22/22 [==============================] - 2s 70ms/step - loss: 1.9798 - accuracy: 0.0029 - val_loss: 1.9856 - val_accuracy: 0.0000e+00\n",
      "Epoch 15/100\n",
      "22/22 [==============================] - 2s 70ms/step - loss: 1.9786 - accuracy: 0.0029 - val_loss: 1.9865 - val_accuracy: 0.0000e+00\n",
      "Epoch 16/100\n",
      "22/22 [==============================] - 2s 69ms/step - loss: 1.9785 - accuracy: 0.0029 - val_loss: 1.9884 - val_accuracy: 0.0000e+00\n",
      "Epoch 17/100\n",
      "22/22 [==============================] - 2s 76ms/step - loss: 1.9793 - accuracy: 0.0029 - val_loss: 1.9832 - val_accuracy: 0.0000e+00\n",
      "Epoch 18/100\n",
      "22/22 [==============================] - 2s 74ms/step - loss: 1.9790 - accuracy: 0.0029 - val_loss: 1.9816 - val_accuracy: 0.0000e+00\n",
      "Epoch 19/100\n",
      "22/22 [==============================] - 2s 71ms/step - loss: 1.9801 - accuracy: 0.0029 - val_loss: 1.9738 - val_accuracy: 0.0000e+00\n",
      "Epoch 20/100\n",
      "22/22 [==============================] - 1s 68ms/step - loss: 1.9782 - accuracy: 0.0029 - val_loss: 1.9769 - val_accuracy: 0.0000e+00\n",
      "Epoch 21/100\n",
      "22/22 [==============================] - 2s 68ms/step - loss: 1.9792 - accuracy: 0.0029 - val_loss: 1.9740 - val_accuracy: 0.0000e+00\n",
      "Epoch 22/100\n",
      "22/22 [==============================] - 2s 69ms/step - loss: 1.9761 - accuracy: 0.0029 - val_loss: 1.9710 - val_accuracy: 0.0000e+00\n",
      "Epoch 23/100\n",
      "22/22 [==============================] - 2s 68ms/step - loss: 1.9781 - accuracy: 0.0029 - val_loss: 1.9726 - val_accuracy: 0.0000e+00\n"
     ]
    },
    {
     "data": {
      "text/plain": [
       "<keras.callbacks.History at 0x289cb2ce0>"
      ]
     },
     "execution_count": 8,
     "metadata": {},
     "output_type": "execute_result"
    }
   ],
   "source": [
    "#### 3. FIT\n",
    "\n",
    "es = callbacks.EarlyStopping(patience=10, restore_best_weights=True)\n",
    "\n",
    "model.fit(X, encoded_y,\n",
    "          batch_size=32, # Batch size -too small--> no generalization\n",
    "          epochs=100,    #            -too large--> slow computations\n",
    "          validation_split=0.3,\n",
    "          callbacks=[es],\n",
    "          class_weight=class_weight_values_dict,\n",
    "          verbose=1)"
   ]
  },
  {
   "cell_type": "code",
   "execution_count": null,
   "id": "e1253880-3d7f-419f-8b89-94e62c8b669f",
   "metadata": {},
   "outputs": [],
   "source": []
  }
 ],
 "metadata": {
  "kernelspec": {
   "display_name": "Python 3 (ipykernel)",
   "language": "python",
   "name": "python3"
  },
  "language_info": {
   "codemirror_mode": {
    "name": "ipython",
    "version": 3
   },
   "file_extension": ".py",
   "mimetype": "text/x-python",
   "name": "python",
   "nbconvert_exporter": "python",
   "pygments_lexer": "ipython3",
   "version": "3.10.6"
  }
 },
 "nbformat": 4,
 "nbformat_minor": 5
}
