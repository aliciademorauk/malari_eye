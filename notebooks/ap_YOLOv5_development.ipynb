{
 "cells": [
  {
   "cell_type": "markdown",
   "id": "694b6af4-7d76-43f4-a8fa-52704cda2873",
   "metadata": {},
   "source": [
    "Install Dependencies"
   ]
  },
  {
   "cell_type": "code",
   "execution_count": 1,
   "id": "eaaab1fd-ae01-45ba-9f90-34e9763fb347",
   "metadata": {
    "tags": []
   },
   "outputs": [
    {
     "name": "stdout",
     "output_type": "stream",
     "text": [
      "Cloning into 'yolov5'...\n",
      "remote: Enumerating objects: 15291, done.\u001b[K\n",
      "remote: Counting objects: 100% (4/4), done.\u001b[K\n",
      "remote: Compressing objects: 100% (4/4), done.\u001b[K\n",
      "remote: Total 15291 (delta 0), reused 1 (delta 0), pack-reused 15287\u001b[K\n",
      "Receiving objects: 100% (15291/15291), 14.19 MiB | 2.52 MiB/s, done.\n",
      "Resolving deltas: 100% (10483/10483), done.\n",
      "/Users/arnaudwork/code/aliciademorauk/malari_eye/notebooks/yolov5\n",
      "HEAD is now at fbe67e4 Fix `OMP_NUM_THREADS=1` for macOS (#8624)\n"
     ]
    }
   ],
   "source": [
    "# # clone YOLOv5 repository\n",
    "# !git clone https://github.com/ultralytics/yolov5  # clone repo\n",
    "# %cd yolov5\n",
    "# !git reset --hard fbe67e465375231474a2ad80a4389efc77ecff99"
   ]
  },
  {
   "cell_type": "code",
   "execution_count": 2,
   "id": "bd8b3f41-a19c-44e7-8462-2444470b7dfd",
   "metadata": {
    "tags": []
   },
   "outputs": [
    {
     "name": "stdout",
     "output_type": "stream",
     "text": [
      "Setup complete. Using torch 1.13.1 CPU\n"
     ]
    }
   ],
   "source": [
    "# # install dependencies as necessary\n",
    "# !pip install -qr requirements.txt  # install dependencies (ignore errors)\n",
    "# import torch\n",
    "\n",
    "# from IPython.display import Image, clear_output  # to display images\n",
    "# from utils.downloads import attempt_download  # to download models/datasets\n",
    "\n",
    "# # clear_output()\n",
    "# print('Setup complete. Using torch %s %s' % (torch.__version__, torch.cuda.get_device_properties(0) if torch.cuda.is_available() else 'CPU'))"
   ]
  },
  {
   "cell_type": "markdown",
   "id": "e3fdf44a-cb71-4437-86dc-23e6993af257",
   "metadata": {},
   "source": [
    "Download Correctly Formatted Custom Dataset\n",
    "\n",
    "\n",
    "We'll download our dataset from Roboflow. Use the \"YOLOv5 PyTorch\" export format. Note that the Ultralytics implementation calls for a YAML file defining where your training and test data is. The Roboflow export also writes this format for us.\n",
    "\n",
    "To get your data into Roboflow, follow the Getting Started Guide."
   ]
  },
  {
   "cell_type": "code",
   "execution_count": 4,
   "id": "f430cd2c-d6fd-43ce-bbd0-c15795d83413",
   "metadata": {},
   "outputs": [
    {
     "name": "stdout",
     "output_type": "stream",
     "text": [
      "Requirement already satisfied: roboflow in /Users/arnaudwork/.pyenv/versions/3.10.6/envs/malari_eye/lib/python3.10/site-packages (0.2.32)\n",
      "Requirement already satisfied: urllib3>=1.26.6 in /Users/arnaudwork/.pyenv/versions/3.10.6/envs/malari_eye/lib/python3.10/site-packages (from roboflow) (1.26.14)\n",
      "Requirement already satisfied: certifi==2022.12.7 in /Users/arnaudwork/.pyenv/versions/3.10.6/envs/malari_eye/lib/python3.10/site-packages (from roboflow) (2022.12.7)\n",
      "Requirement already satisfied: python-dateutil in /Users/arnaudwork/.pyenv/versions/3.10.6/envs/malari_eye/lib/python3.10/site-packages (from roboflow) (2.8.2)\n",
      "Requirement already satisfied: Pillow>=7.1.2 in /Users/arnaudwork/.pyenv/versions/3.10.6/envs/malari_eye/lib/python3.10/site-packages (from roboflow) (9.4.0)\n",
      "Requirement already satisfied: pyparsing==2.4.7 in /Users/arnaudwork/.pyenv/versions/3.10.6/envs/malari_eye/lib/python3.10/site-packages (from roboflow) (2.4.7)\n",
      "Requirement already satisfied: idna==2.10 in /Users/arnaudwork/.pyenv/versions/3.10.6/envs/malari_eye/lib/python3.10/site-packages (from roboflow) (2.10)\n",
      "Requirement already satisfied: requests in /Users/arnaudwork/.pyenv/versions/3.10.6/envs/malari_eye/lib/python3.10/site-packages (from roboflow) (2.28.2)\n",
      "Requirement already satisfied: matplotlib in /Users/arnaudwork/.pyenv/versions/3.10.6/envs/malari_eye/lib/python3.10/site-packages (from roboflow) (3.7.1)\n",
      "Requirement already satisfied: python-dotenv in /Users/arnaudwork/.pyenv/versions/3.10.6/envs/malari_eye/lib/python3.10/site-packages (from roboflow) (1.0.0)\n",
      "Requirement already satisfied: six in /Users/arnaudwork/.pyenv/versions/3.10.6/envs/malari_eye/lib/python3.10/site-packages (from roboflow) (1.16.0)\n",
      "Requirement already satisfied: wget in /Users/arnaudwork/.pyenv/versions/3.10.6/envs/malari_eye/lib/python3.10/site-packages (from roboflow) (3.2)\n",
      "Requirement already satisfied: tqdm>=4.41.0 in /Users/arnaudwork/.pyenv/versions/3.10.6/envs/malari_eye/lib/python3.10/site-packages (from roboflow) (4.65.0)\n",
      "Requirement already satisfied: cycler==0.10.0 in /Users/arnaudwork/.pyenv/versions/3.10.6/envs/malari_eye/lib/python3.10/site-packages (from roboflow) (0.10.0)\n",
      "Requirement already satisfied: numpy>=1.18.5 in /Users/arnaudwork/.pyenv/versions/3.10.6/envs/malari_eye/lib/python3.10/site-packages (from roboflow) (1.24.2)\n",
      "Requirement already satisfied: chardet==4.0.0 in /Users/arnaudwork/.pyenv/versions/3.10.6/envs/malari_eye/lib/python3.10/site-packages (from roboflow) (4.0.0)\n",
      "Requirement already satisfied: PyYAML>=5.3.1 in /Users/arnaudwork/.pyenv/versions/3.10.6/envs/malari_eye/lib/python3.10/site-packages (from roboflow) (6.0)\n",
      "Requirement already satisfied: opencv-python>=4.1.2 in /Users/arnaudwork/.pyenv/versions/3.10.6/envs/malari_eye/lib/python3.10/site-packages (from roboflow) (4.7.0.72)\n",
      "Requirement already satisfied: requests-toolbelt in /Users/arnaudwork/.pyenv/versions/3.10.6/envs/malari_eye/lib/python3.10/site-packages (from roboflow) (0.10.1)\n",
      "Requirement already satisfied: kiwisolver>=1.3.1 in /Users/arnaudwork/.pyenv/versions/3.10.6/envs/malari_eye/lib/python3.10/site-packages (from roboflow) (1.4.4)\n",
      "Requirement already satisfied: contourpy>=1.0.1 in /Users/arnaudwork/.pyenv/versions/3.10.6/envs/malari_eye/lib/python3.10/site-packages (from matplotlib->roboflow) (1.0.7)\n",
      "Requirement already satisfied: packaging>=20.0 in /Users/arnaudwork/.pyenv/versions/3.10.6/envs/malari_eye/lib/python3.10/site-packages (from matplotlib->roboflow) (23.0)\n",
      "Requirement already satisfied: fonttools>=4.22.0 in /Users/arnaudwork/.pyenv/versions/3.10.6/envs/malari_eye/lib/python3.10/site-packages (from matplotlib->roboflow) (4.39.0)\n",
      "Requirement already satisfied: charset-normalizer<4,>=2 in /Users/arnaudwork/.pyenv/versions/3.10.6/envs/malari_eye/lib/python3.10/site-packages (from requests->roboflow) (3.1.0)\n",
      "loading Roboflow workspace...\n",
      "loading Roboflow project...\n",
      "Downloading Dataset Version Zip in Le-Wagon-malari-eye-object-detection-1 to yolov5pytorch: 14% [24567808 / 175156150] bytes"
     ]
    },
    {
     "name": "stderr",
     "output_type": "stream",
     "text": [
      "IOPub message rate exceeded.\n",
      "The Jupyter server will temporarily stop sending output\n",
      "to the client in order to avoid crashing it.\n",
      "To change this limit, set the config variable\n",
      "`--ServerApp.iopub_msg_rate_limit`.\n",
      "\n",
      "Current values:\n",
      "ServerApp.iopub_msg_rate_limit=1000.0 (msgs/sec)\n",
      "ServerApp.rate_limit_window=3.0 (secs)\n",
      "\n"
     ]
    },
    {
     "name": "stdout",
     "output_type": "stream",
     "text": [
      "Downloading Dataset Version Zip in Le-Wagon-malari-eye-object-detection-1 to yolov5pytorch: 35% [62783488 / 175156150] bytes"
     ]
    },
    {
     "name": "stderr",
     "output_type": "stream",
     "text": [
      "IOPub message rate exceeded.\n",
      "The Jupyter server will temporarily stop sending output\n",
      "to the client in order to avoid crashing it.\n",
      "To change this limit, set the config variable\n",
      "`--ServerApp.iopub_msg_rate_limit`.\n",
      "\n",
      "Current values:\n",
      "ServerApp.iopub_msg_rate_limit=1000.0 (msgs/sec)\n",
      "ServerApp.rate_limit_window=3.0 (secs)\n",
      "\n"
     ]
    },
    {
     "name": "stdout",
     "output_type": "stream",
     "text": [
      "Downloading Dataset Version Zip in Le-Wagon-malari-eye-object-detection-1 to yolov5pytorch: 61% [107274240 / 175156150] bytes"
     ]
    },
    {
     "name": "stderr",
     "output_type": "stream",
     "text": [
      "IOPub message rate exceeded.\n",
      "The Jupyter server will temporarily stop sending output\n",
      "to the client in order to avoid crashing it.\n",
      "To change this limit, set the config variable\n",
      "`--ServerApp.iopub_msg_rate_limit`.\n",
      "\n",
      "Current values:\n",
      "ServerApp.iopub_msg_rate_limit=1000.0 (msgs/sec)\n",
      "ServerApp.rate_limit_window=3.0 (secs)\n",
      "\n"
     ]
    },
    {
     "name": "stdout",
     "output_type": "stream",
     "text": [
      "Downloading Dataset Version Zip in Le-Wagon-malari-eye-object-detection-1 to yolov5pytorch: 86% [152240128 / 175156150] bytes"
     ]
    },
    {
     "name": "stderr",
     "output_type": "stream",
     "text": [
      "IOPub message rate exceeded.\n",
      "The Jupyter server will temporarily stop sending output\n",
      "to the client in order to avoid crashing it.\n",
      "To change this limit, set the config variable\n",
      "`--ServerApp.iopub_msg_rate_limit`.\n",
      "\n",
      "Current values:\n",
      "ServerApp.iopub_msg_rate_limit=1000.0 (msgs/sec)\n",
      "ServerApp.rate_limit_window=3.0 (secs)\n",
      "\n"
     ]
    },
    {
     "name": "stdout",
     "output_type": "stream",
     "text": [
      "Downloading Dataset Version Zip in Le-Wagon-malari-eye-object-detection-1 to yolov5pytorch: 100% [175156150 / 175156150] bytes\n"
     ]
    },
    {
     "name": "stderr",
     "output_type": "stream",
     "text": [
      "Extracting Dataset Version Zip to Le-Wagon-malari-eye-object-detection-1 in yolov5pytorch:: 100%|█████████████████████████████████████████████████████████████████████| 6384/6384 [00:00<00:00, 6526.72it/s]\n"
     ]
    }
   ],
   "source": [
    "# !pip install roboflow\n",
    "\n",
    "# from roboflow import Roboflow\n",
    "# rf = Roboflow(api_key=\"oEBRENm5bSQGdhtl9Zrc\", model_format=\"yolov5\", notebook=\"ap_YOLOv5_development\")\n",
    "# project = rf.workspace().project(\"le-wagon-malari-eye-object-detection\")\n",
    "# dataset = project.version(1).download(\"yolov5\")\n"
   ]
  },
  {
   "cell_type": "code",
   "execution_count": 6,
   "id": "610542b4-0369-4cc8-bd51-04238fb4e028",
   "metadata": {
    "tags": []
   },
   "outputs": [
    {
     "name": "stdout",
     "output_type": "stream",
     "text": [
      "/Users/arnaudwork/code/aliciademorauk/malari_eye/yolov5\n"
     ]
    }
   ],
   "source": [
    "%cd ../yolov5"
   ]
  },
  {
   "cell_type": "code",
   "execution_count": 13,
   "id": "12b1b2a3-f122-457b-8e02-45a41e6f5b21",
   "metadata": {
    "tags": []
   },
   "outputs": [
    {
     "name": "stdout",
     "output_type": "stream",
     "text": [
      "/Users/arnaudwork/code/aliciademorauk/malari_eye/BB_setup/Le-Wagon-malari-eye-object-detection-1\n"
     ]
    }
   ],
   "source": [
    "%cd ../BB_setup/Le-Wagon-malari-eye-object-detection-1"
   ]
  },
  {
   "cell_type": "code",
   "execution_count": 14,
   "id": "a07388a3-7ba2-4af4-927b-0e96c6cbefa1",
   "metadata": {
    "tags": []
   },
   "outputs": [
    {
     "name": "stdout",
     "output_type": "stream",
     "text": [
      "names:\n",
      "- difficult\n",
      "- gametocyte\n",
      "- leukocyte\n",
      "- red blood cell\n",
      "- ring\n",
      "- schizont\n",
      "- trophozoite\n",
      "nc: 7\n",
      "roboflow:\n",
      "  license: CC BY 4.0\n",
      "  project: le-wagon-malari-eye-object-detection\n",
      "  url: https://universe.roboflow.com/project/le-wagon-malari-eye-object-detection/dataset/1\n",
      "  version: 1\n",
      "  workspace: project\n",
      "test: ../test/images\n",
      "train: Le-Wagon-malari-eye-object-detection-1/train/images\n",
      "val: Le-Wagon-malari-eye-object-detection-1/valid/images\n"
     ]
    }
   ],
   "source": [
    "%cat data.yaml"
   ]
  },
  {
   "cell_type": "markdown",
   "id": "c9650dee-8987-41db-9f1b-8c353b4cda8f",
   "metadata": {},
   "source": [
    "Define Model Configuration and Architecture\n",
    "\n",
    "\n",
    "We will write a yaml script that defines the parameters for our model like the number of classes, anchors, and each layer.\n",
    "\n",
    "You do not need to edit these cells, but you may."
   ]
  },
  {
   "cell_type": "code",
   "execution_count": 17,
   "id": "00a01983-84cf-4657-ab9a-75cf1a1c8dea",
   "metadata": {
    "tags": []
   },
   "outputs": [],
   "source": [
    "# define number of classes based on YAML\n",
    "import yaml\n",
    "with open(\"data.yaml\", 'r') as stream:\n",
    "    num_classes = str(yaml.safe_load(stream)['nc'])"
   ]
  },
  {
   "cell_type": "code",
   "execution_count": 27,
   "id": "cabcd17e-f339-4939-9eae-c658cbdad2d8",
   "metadata": {
    "tags": []
   },
   "outputs": [
    {
     "name": "stdout",
     "output_type": "stream",
     "text": [
      "/Users/arnaudwork\n"
     ]
    }
   ],
   "source": [
    "%cd ../../"
   ]
  },
  {
   "cell_type": "code",
   "execution_count": 23,
   "id": "a7f8dd97-20cc-4f6d-a0c4-ebec634d6738",
   "metadata": {
    "tags": []
   },
   "outputs": [
    {
     "name": "stdout",
     "output_type": "stream",
     "text": [
      "cat: yolov5/model/yolov5s.yaml: No such file or directory\n"
     ]
    }
   ],
   "source": [
    "#this is the model configuration we will use for our tutorial \n",
    "%cat yolov5/model/yolov5s.yaml"
   ]
  },
  {
   "cell_type": "code",
   "execution_count": null,
   "id": "8b8b6417-2c51-4cfe-b2eb-114e1d4b9305",
   "metadata": {},
   "outputs": [],
   "source": []
  }
 ],
 "metadata": {
  "kernelspec": {
   "display_name": "Python 3 (ipykernel)",
   "language": "python",
   "name": "python3"
  },
  "language_info": {
   "codemirror_mode": {
    "name": "ipython",
    "version": 3
   },
   "file_extension": ".py",
   "mimetype": "text/x-python",
   "name": "python",
   "nbconvert_exporter": "python",
   "pygments_lexer": "ipython3",
   "version": "3.10.6"
  }
 },
 "nbformat": 4,
 "nbformat_minor": 5
}
