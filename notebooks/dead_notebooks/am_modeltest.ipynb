{
 "cells": [
  {
   "cell_type": "code",
   "execution_count": 1,
   "id": "5346cc7d",
   "metadata": {},
   "outputs": [],
   "source": [
    "import numpy as np"
   ]
  },
  {
   "cell_type": "code",
   "execution_count": 12,
   "id": "d7e2a0e2",
   "metadata": {},
   "outputs": [],
   "source": [
    "import pandas as pd"
   ]
  },
  {
   "cell_type": "code",
   "execution_count": 2,
   "id": "7cda944d",
   "metadata": {},
   "outputs": [],
   "source": [
    "from sklearn.preprocessing import OneHotEncoder"
   ]
  },
  {
   "cell_type": "code",
   "execution_count": 3,
   "id": "2f29a181",
   "metadata": {},
   "outputs": [],
   "source": [
    "X = np.load('../malaria/x_values.npy')"
   ]
  },
  {
   "cell_type": "code",
   "execution_count": 4,
   "id": "29eb380d",
   "metadata": {},
   "outputs": [
    {
     "data": {
      "text/plain": [
       "array([[237, 237, 237, ..., 128, 129, 133],\n",
       "       [237, 237, 237, ..., 130, 132, 134],\n",
       "       [237, 237, 237, ..., 130, 128, 130],\n",
       "       ...,\n",
       "       [ 68,  61,  58, ..., 242, 242, 242],\n",
       "       [ 74,  64,  57, ..., 245, 245, 242],\n",
       "       [ 79,  66,  59, ..., 245, 245, 245]], dtype=uint8)"
      ]
     },
     "execution_count": 4,
     "metadata": {},
     "output_type": "execute_result"
    }
   ],
   "source": [
    "X[0]"
   ]
  },
  {
   "cell_type": "code",
   "execution_count": 5,
   "id": "cee44c5f",
   "metadata": {},
   "outputs": [
    {
     "data": {
      "text/plain": [
       "(1000, 108, 108)"
      ]
     },
     "execution_count": 5,
     "metadata": {},
     "output_type": "execute_result"
    }
   ],
   "source": [
    "X.shape"
   ]
  },
  {
   "cell_type": "code",
   "execution_count": 6,
   "id": "ded115a9",
   "metadata": {},
   "outputs": [],
   "source": [
    "y = np.load('../malaria/y_values.npy')"
   ]
  },
  {
   "cell_type": "code",
   "execution_count": 7,
   "id": "ef78ac7b",
   "metadata": {},
   "outputs": [
    {
     "data": {
      "text/plain": [
       "(1000,)"
      ]
     },
     "execution_count": 7,
     "metadata": {},
     "output_type": "execute_result"
    }
   ],
   "source": [
    "y.shape"
   ]
  },
  {
   "cell_type": "code",
   "execution_count": 8,
   "id": "af1100fd",
   "metadata": {},
   "outputs": [],
   "source": [
    "ohe = OneHotEncoder(sparse_output=False)"
   ]
  },
  {
   "cell_type": "code",
   "execution_count": 9,
   "id": "d8d5c6df",
   "metadata": {},
   "outputs": [
    {
     "data": {
      "text/html": [
       "<style>#sk-container-id-1 {color: black;background-color: white;}#sk-container-id-1 pre{padding: 0;}#sk-container-id-1 div.sk-toggleable {background-color: white;}#sk-container-id-1 label.sk-toggleable__label {cursor: pointer;display: block;width: 100%;margin-bottom: 0;padding: 0.3em;box-sizing: border-box;text-align: center;}#sk-container-id-1 label.sk-toggleable__label-arrow:before {content: \"▸\";float: left;margin-right: 0.25em;color: #696969;}#sk-container-id-1 label.sk-toggleable__label-arrow:hover:before {color: black;}#sk-container-id-1 div.sk-estimator:hover label.sk-toggleable__label-arrow:before {color: black;}#sk-container-id-1 div.sk-toggleable__content {max-height: 0;max-width: 0;overflow: hidden;text-align: left;background-color: #f0f8ff;}#sk-container-id-1 div.sk-toggleable__content pre {margin: 0.2em;color: black;border-radius: 0.25em;background-color: #f0f8ff;}#sk-container-id-1 input.sk-toggleable__control:checked~div.sk-toggleable__content {max-height: 200px;max-width: 100%;overflow: auto;}#sk-container-id-1 input.sk-toggleable__control:checked~label.sk-toggleable__label-arrow:before {content: \"▾\";}#sk-container-id-1 div.sk-estimator input.sk-toggleable__control:checked~label.sk-toggleable__label {background-color: #d4ebff;}#sk-container-id-1 div.sk-label input.sk-toggleable__control:checked~label.sk-toggleable__label {background-color: #d4ebff;}#sk-container-id-1 input.sk-hidden--visually {border: 0;clip: rect(1px 1px 1px 1px);clip: rect(1px, 1px, 1px, 1px);height: 1px;margin: -1px;overflow: hidden;padding: 0;position: absolute;width: 1px;}#sk-container-id-1 div.sk-estimator {font-family: monospace;background-color: #f0f8ff;border: 1px dotted black;border-radius: 0.25em;box-sizing: border-box;margin-bottom: 0.5em;}#sk-container-id-1 div.sk-estimator:hover {background-color: #d4ebff;}#sk-container-id-1 div.sk-parallel-item::after {content: \"\";width: 100%;border-bottom: 1px solid gray;flex-grow: 1;}#sk-container-id-1 div.sk-label:hover label.sk-toggleable__label {background-color: #d4ebff;}#sk-container-id-1 div.sk-serial::before {content: \"\";position: absolute;border-left: 1px solid gray;box-sizing: border-box;top: 0;bottom: 0;left: 50%;z-index: 0;}#sk-container-id-1 div.sk-serial {display: flex;flex-direction: column;align-items: center;background-color: white;padding-right: 0.2em;padding-left: 0.2em;position: relative;}#sk-container-id-1 div.sk-item {position: relative;z-index: 1;}#sk-container-id-1 div.sk-parallel {display: flex;align-items: stretch;justify-content: center;background-color: white;position: relative;}#sk-container-id-1 div.sk-item::before, #sk-container-id-1 div.sk-parallel-item::before {content: \"\";position: absolute;border-left: 1px solid gray;box-sizing: border-box;top: 0;bottom: 0;left: 50%;z-index: -1;}#sk-container-id-1 div.sk-parallel-item {display: flex;flex-direction: column;z-index: 1;position: relative;background-color: white;}#sk-container-id-1 div.sk-parallel-item:first-child::after {align-self: flex-end;width: 50%;}#sk-container-id-1 div.sk-parallel-item:last-child::after {align-self: flex-start;width: 50%;}#sk-container-id-1 div.sk-parallel-item:only-child::after {width: 0;}#sk-container-id-1 div.sk-dashed-wrapped {border: 1px dashed gray;margin: 0 0.4em 0.5em 0.4em;box-sizing: border-box;padding-bottom: 0.4em;background-color: white;}#sk-container-id-1 div.sk-label label {font-family: monospace;font-weight: bold;display: inline-block;line-height: 1.2em;}#sk-container-id-1 div.sk-label-container {text-align: center;}#sk-container-id-1 div.sk-container {/* jupyter's `normalize.less` sets `[hidden] { display: none; }` but bootstrap.min.css set `[hidden] { display: none !important; }` so we also need the `!important` here to be able to override the default hidden behavior on the sphinx rendered scikit-learn.org. See: https://github.com/scikit-learn/scikit-learn/issues/21755 */display: inline-block !important;position: relative;}#sk-container-id-1 div.sk-text-repr-fallback {display: none;}</style><div id=\"sk-container-id-1\" class=\"sk-top-container\"><div class=\"sk-text-repr-fallback\"><pre>OneHotEncoder(sparse_output=False)</pre><b>In a Jupyter environment, please rerun this cell to show the HTML representation or trust the notebook. <br />On GitHub, the HTML representation is unable to render, please try loading this page with nbviewer.org.</b></div><div class=\"sk-container\" hidden><div class=\"sk-item\"><div class=\"sk-estimator sk-toggleable\"><input class=\"sk-toggleable__control sk-hidden--visually\" id=\"sk-estimator-id-1\" type=\"checkbox\" checked><label for=\"sk-estimator-id-1\" class=\"sk-toggleable__label sk-toggleable__label-arrow\">OneHotEncoder</label><div class=\"sk-toggleable__content\"><pre>OneHotEncoder(sparse_output=False)</pre></div></div></div></div></div>"
      ],
      "text/plain": [
       "OneHotEncoder(sparse_output=False)"
      ]
     },
     "execution_count": 9,
     "metadata": {},
     "output_type": "execute_result"
    }
   ],
   "source": [
    "ohe.fit(y.reshape(-1,1))"
   ]
  },
  {
   "cell_type": "code",
   "execution_count": 10,
   "id": "7af53bf4",
   "metadata": {},
   "outputs": [],
   "source": [
    "encoded_y = ohe.transform(y.reshape(-1,1))"
   ]
  },
  {
   "cell_type": "code",
   "execution_count": 11,
   "id": "a22ae3e4",
   "metadata": {},
   "outputs": [
    {
     "data": {
      "text/plain": [
       "array([[0., 0., 0., ..., 0., 0., 0.],\n",
       "       [0., 0., 0., ..., 0., 0., 0.],\n",
       "       [0., 0., 0., ..., 0., 0., 0.],\n",
       "       ...,\n",
       "       [0., 0., 0., ..., 0., 0., 0.],\n",
       "       [0., 0., 0., ..., 0., 0., 0.],\n",
       "       [0., 0., 0., ..., 0., 0., 0.]])"
      ]
     },
     "execution_count": 11,
     "metadata": {},
     "output_type": "execute_result"
    }
   ],
   "source": [
    "encoded_y"
   ]
  },
  {
   "cell_type": "code",
   "execution_count": 58,
   "id": "43a8fa9a",
   "metadata": {},
   "outputs": [
    {
     "data": {
      "text/plain": [
       "(1000, 7)"
      ]
     },
     "execution_count": 58,
     "metadata": {},
     "output_type": "execute_result"
    }
   ],
   "source": [
    "encoded_y.shape"
   ]
  },
  {
   "cell_type": "code",
   "execution_count": 14,
   "id": "a3ffccab",
   "metadata": {},
   "outputs": [
    {
     "data": {
      "text/html": [
       "<div>\n",
       "<style scoped>\n",
       "    .dataframe tbody tr th:only-of-type {\n",
       "        vertical-align: middle;\n",
       "    }\n",
       "\n",
       "    .dataframe tbody tr th {\n",
       "        vertical-align: top;\n",
       "    }\n",
       "\n",
       "    .dataframe thead th {\n",
       "        text-align: right;\n",
       "    }\n",
       "</style>\n",
       "<table border=\"1\" class=\"dataframe\">\n",
       "  <thead>\n",
       "    <tr style=\"text-align: right;\">\n",
       "      <th></th>\n",
       "      <th>0</th>\n",
       "      <th>1</th>\n",
       "      <th>2</th>\n",
       "      <th>3</th>\n",
       "      <th>4</th>\n",
       "      <th>5</th>\n",
       "      <th>6</th>\n",
       "    </tr>\n",
       "  </thead>\n",
       "  <tbody>\n",
       "    <tr>\n",
       "      <th>0</th>\n",
       "      <td>0.0</td>\n",
       "      <td>0.0</td>\n",
       "      <td>0.0</td>\n",
       "      <td>1.0</td>\n",
       "      <td>0.0</td>\n",
       "      <td>0.0</td>\n",
       "      <td>0.0</td>\n",
       "    </tr>\n",
       "    <tr>\n",
       "      <th>1</th>\n",
       "      <td>0.0</td>\n",
       "      <td>0.0</td>\n",
       "      <td>0.0</td>\n",
       "      <td>1.0</td>\n",
       "      <td>0.0</td>\n",
       "      <td>0.0</td>\n",
       "      <td>0.0</td>\n",
       "    </tr>\n",
       "    <tr>\n",
       "      <th>2</th>\n",
       "      <td>0.0</td>\n",
       "      <td>0.0</td>\n",
       "      <td>0.0</td>\n",
       "      <td>1.0</td>\n",
       "      <td>0.0</td>\n",
       "      <td>0.0</td>\n",
       "      <td>0.0</td>\n",
       "    </tr>\n",
       "    <tr>\n",
       "      <th>3</th>\n",
       "      <td>0.0</td>\n",
       "      <td>0.0</td>\n",
       "      <td>0.0</td>\n",
       "      <td>1.0</td>\n",
       "      <td>0.0</td>\n",
       "      <td>0.0</td>\n",
       "      <td>0.0</td>\n",
       "    </tr>\n",
       "    <tr>\n",
       "      <th>4</th>\n",
       "      <td>0.0</td>\n",
       "      <td>0.0</td>\n",
       "      <td>0.0</td>\n",
       "      <td>1.0</td>\n",
       "      <td>0.0</td>\n",
       "      <td>0.0</td>\n",
       "      <td>0.0</td>\n",
       "    </tr>\n",
       "    <tr>\n",
       "      <th>...</th>\n",
       "      <td>...</td>\n",
       "      <td>...</td>\n",
       "      <td>...</td>\n",
       "      <td>...</td>\n",
       "      <td>...</td>\n",
       "      <td>...</td>\n",
       "      <td>...</td>\n",
       "    </tr>\n",
       "    <tr>\n",
       "      <th>995</th>\n",
       "      <td>0.0</td>\n",
       "      <td>0.0</td>\n",
       "      <td>0.0</td>\n",
       "      <td>1.0</td>\n",
       "      <td>0.0</td>\n",
       "      <td>0.0</td>\n",
       "      <td>0.0</td>\n",
       "    </tr>\n",
       "    <tr>\n",
       "      <th>996</th>\n",
       "      <td>0.0</td>\n",
       "      <td>0.0</td>\n",
       "      <td>0.0</td>\n",
       "      <td>1.0</td>\n",
       "      <td>0.0</td>\n",
       "      <td>0.0</td>\n",
       "      <td>0.0</td>\n",
       "    </tr>\n",
       "    <tr>\n",
       "      <th>997</th>\n",
       "      <td>0.0</td>\n",
       "      <td>0.0</td>\n",
       "      <td>0.0</td>\n",
       "      <td>1.0</td>\n",
       "      <td>0.0</td>\n",
       "      <td>0.0</td>\n",
       "      <td>0.0</td>\n",
       "    </tr>\n",
       "    <tr>\n",
       "      <th>998</th>\n",
       "      <td>0.0</td>\n",
       "      <td>0.0</td>\n",
       "      <td>0.0</td>\n",
       "      <td>1.0</td>\n",
       "      <td>0.0</td>\n",
       "      <td>0.0</td>\n",
       "      <td>0.0</td>\n",
       "    </tr>\n",
       "    <tr>\n",
       "      <th>999</th>\n",
       "      <td>0.0</td>\n",
       "      <td>0.0</td>\n",
       "      <td>0.0</td>\n",
       "      <td>1.0</td>\n",
       "      <td>0.0</td>\n",
       "      <td>0.0</td>\n",
       "      <td>0.0</td>\n",
       "    </tr>\n",
       "  </tbody>\n",
       "</table>\n",
       "<p>1000 rows × 7 columns</p>\n",
       "</div>"
      ],
      "text/plain": [
       "       0    1    2    3    4    5    6\n",
       "0    0.0  0.0  0.0  1.0  0.0  0.0  0.0\n",
       "1    0.0  0.0  0.0  1.0  0.0  0.0  0.0\n",
       "2    0.0  0.0  0.0  1.0  0.0  0.0  0.0\n",
       "3    0.0  0.0  0.0  1.0  0.0  0.0  0.0\n",
       "4    0.0  0.0  0.0  1.0  0.0  0.0  0.0\n",
       "..   ...  ...  ...  ...  ...  ...  ...\n",
       "995  0.0  0.0  0.0  1.0  0.0  0.0  0.0\n",
       "996  0.0  0.0  0.0  1.0  0.0  0.0  0.0\n",
       "997  0.0  0.0  0.0  1.0  0.0  0.0  0.0\n",
       "998  0.0  0.0  0.0  1.0  0.0  0.0  0.0\n",
       "999  0.0  0.0  0.0  1.0  0.0  0.0  0.0\n",
       "\n",
       "[1000 rows x 7 columns]"
      ]
     },
     "execution_count": 14,
     "metadata": {},
     "output_type": "execute_result"
    }
   ],
   "source": [
    "y_df = pd.DataFrame(encoded_y)\n",
    "y_df"
   ]
  },
  {
   "cell_type": "code",
   "execution_count": 27,
   "id": "8f304190",
   "metadata": {},
   "outputs": [
    {
     "data": {
      "text/plain": [
       "['x0_difficult',\n",
       " 'x0_gametocyte',\n",
       " 'x0_leukocyte',\n",
       " 'x0_red blood cell',\n",
       " 'x0_ring',\n",
       " 'x0_schizont',\n",
       " 'x0_trophozoite']"
      ]
     },
     "execution_count": 27,
     "metadata": {},
     "output_type": "execute_result"
    }
   ],
   "source": [
    "column_labels=list(ohe.get_feature_names_out())\n",
    "column_labels"
   ]
  },
  {
   "cell_type": "code",
   "execution_count": 33,
   "id": "b08a0b8c",
   "metadata": {
    "scrolled": true
   },
   "outputs": [
    {
     "data": {
      "text/html": [
       "<div>\n",
       "<style scoped>\n",
       "    .dataframe tbody tr th:only-of-type {\n",
       "        vertical-align: middle;\n",
       "    }\n",
       "\n",
       "    .dataframe tbody tr th {\n",
       "        vertical-align: top;\n",
       "    }\n",
       "\n",
       "    .dataframe thead th {\n",
       "        text-align: right;\n",
       "    }\n",
       "</style>\n",
       "<table border=\"1\" class=\"dataframe\">\n",
       "  <thead>\n",
       "    <tr style=\"text-align: right;\">\n",
       "      <th></th>\n",
       "      <th>x0_difficult</th>\n",
       "      <th>x0_gametocyte</th>\n",
       "      <th>x0_leukocyte</th>\n",
       "      <th>x0_red blood cell</th>\n",
       "      <th>x0_ring</th>\n",
       "      <th>x0_schizont</th>\n",
       "      <th>x0_trophozoite</th>\n",
       "    </tr>\n",
       "  </thead>\n",
       "  <tbody>\n",
       "    <tr>\n",
       "      <th>0</th>\n",
       "      <td>0.0</td>\n",
       "      <td>0.0</td>\n",
       "      <td>0.0</td>\n",
       "      <td>1.0</td>\n",
       "      <td>0.0</td>\n",
       "      <td>0.0</td>\n",
       "      <td>0.0</td>\n",
       "    </tr>\n",
       "    <tr>\n",
       "      <th>1</th>\n",
       "      <td>0.0</td>\n",
       "      <td>0.0</td>\n",
       "      <td>0.0</td>\n",
       "      <td>1.0</td>\n",
       "      <td>0.0</td>\n",
       "      <td>0.0</td>\n",
       "      <td>0.0</td>\n",
       "    </tr>\n",
       "    <tr>\n",
       "      <th>2</th>\n",
       "      <td>0.0</td>\n",
       "      <td>0.0</td>\n",
       "      <td>0.0</td>\n",
       "      <td>1.0</td>\n",
       "      <td>0.0</td>\n",
       "      <td>0.0</td>\n",
       "      <td>0.0</td>\n",
       "    </tr>\n",
       "    <tr>\n",
       "      <th>3</th>\n",
       "      <td>0.0</td>\n",
       "      <td>0.0</td>\n",
       "      <td>0.0</td>\n",
       "      <td>1.0</td>\n",
       "      <td>0.0</td>\n",
       "      <td>0.0</td>\n",
       "      <td>0.0</td>\n",
       "    </tr>\n",
       "    <tr>\n",
       "      <th>4</th>\n",
       "      <td>0.0</td>\n",
       "      <td>0.0</td>\n",
       "      <td>0.0</td>\n",
       "      <td>1.0</td>\n",
       "      <td>0.0</td>\n",
       "      <td>0.0</td>\n",
       "      <td>0.0</td>\n",
       "    </tr>\n",
       "    <tr>\n",
       "      <th>...</th>\n",
       "      <td>...</td>\n",
       "      <td>...</td>\n",
       "      <td>...</td>\n",
       "      <td>...</td>\n",
       "      <td>...</td>\n",
       "      <td>...</td>\n",
       "      <td>...</td>\n",
       "    </tr>\n",
       "    <tr>\n",
       "      <th>995</th>\n",
       "      <td>0.0</td>\n",
       "      <td>0.0</td>\n",
       "      <td>0.0</td>\n",
       "      <td>1.0</td>\n",
       "      <td>0.0</td>\n",
       "      <td>0.0</td>\n",
       "      <td>0.0</td>\n",
       "    </tr>\n",
       "    <tr>\n",
       "      <th>996</th>\n",
       "      <td>0.0</td>\n",
       "      <td>0.0</td>\n",
       "      <td>0.0</td>\n",
       "      <td>1.0</td>\n",
       "      <td>0.0</td>\n",
       "      <td>0.0</td>\n",
       "      <td>0.0</td>\n",
       "    </tr>\n",
       "    <tr>\n",
       "      <th>997</th>\n",
       "      <td>0.0</td>\n",
       "      <td>0.0</td>\n",
       "      <td>0.0</td>\n",
       "      <td>1.0</td>\n",
       "      <td>0.0</td>\n",
       "      <td>0.0</td>\n",
       "      <td>0.0</td>\n",
       "    </tr>\n",
       "    <tr>\n",
       "      <th>998</th>\n",
       "      <td>0.0</td>\n",
       "      <td>0.0</td>\n",
       "      <td>0.0</td>\n",
       "      <td>1.0</td>\n",
       "      <td>0.0</td>\n",
       "      <td>0.0</td>\n",
       "      <td>0.0</td>\n",
       "    </tr>\n",
       "    <tr>\n",
       "      <th>999</th>\n",
       "      <td>0.0</td>\n",
       "      <td>0.0</td>\n",
       "      <td>0.0</td>\n",
       "      <td>1.0</td>\n",
       "      <td>0.0</td>\n",
       "      <td>0.0</td>\n",
       "      <td>0.0</td>\n",
       "    </tr>\n",
       "  </tbody>\n",
       "</table>\n",
       "<p>1000 rows × 7 columns</p>\n",
       "</div>"
      ],
      "text/plain": [
       "     x0_difficult  x0_gametocyte  x0_leukocyte  x0_red blood cell  x0_ring  \\\n",
       "0             0.0            0.0           0.0                1.0      0.0   \n",
       "1             0.0            0.0           0.0                1.0      0.0   \n",
       "2             0.0            0.0           0.0                1.0      0.0   \n",
       "3             0.0            0.0           0.0                1.0      0.0   \n",
       "4             0.0            0.0           0.0                1.0      0.0   \n",
       "..            ...            ...           ...                ...      ...   \n",
       "995           0.0            0.0           0.0                1.0      0.0   \n",
       "996           0.0            0.0           0.0                1.0      0.0   \n",
       "997           0.0            0.0           0.0                1.0      0.0   \n",
       "998           0.0            0.0           0.0                1.0      0.0   \n",
       "999           0.0            0.0           0.0                1.0      0.0   \n",
       "\n",
       "     x0_schizont  x0_trophozoite  \n",
       "0            0.0             0.0  \n",
       "1            0.0             0.0  \n",
       "2            0.0             0.0  \n",
       "3            0.0             0.0  \n",
       "4            0.0             0.0  \n",
       "..           ...             ...  \n",
       "995          0.0             0.0  \n",
       "996          0.0             0.0  \n",
       "997          0.0             0.0  \n",
       "998          0.0             0.0  \n",
       "999          0.0             0.0  \n",
       "\n",
       "[1000 rows x 7 columns]"
      ]
     },
     "execution_count": 33,
     "metadata": {},
     "output_type": "execute_result"
    }
   ],
   "source": [
    "y_df.columns=column_labels\n",
    "y_df"
   ]
  },
  {
   "cell_type": "code",
   "execution_count": 43,
   "id": "ebd2b7e7",
   "metadata": {},
   "outputs": [],
   "source": [
    "# ARCHITECTURE imports\n",
    "\n",
    "import tensorflow as tf\n",
    "import numpy as np\n",
    "from tensorflow.keras import models, Sequential, layers, regularizers"
   ]
  },
  {
   "cell_type": "code",
   "execution_count": 44,
   "id": "2dec46b8",
   "metadata": {},
   "outputs": [],
   "source": [
    "from keras.layers import Dense"
   ]
  },
  {
   "cell_type": "code",
   "execution_count": 35,
   "id": "e3b916a4",
   "metadata": {},
   "outputs": [],
   "source": [
    "X = np.expand_dims(X,axis=3)"
   ]
  },
  {
   "cell_type": "code",
   "execution_count": 36,
   "id": "01e30c08",
   "metadata": {},
   "outputs": [
    {
     "data": {
      "text/plain": [
       "(1000, 108, 108, 1)"
      ]
     },
     "execution_count": 36,
     "metadata": {},
     "output_type": "execute_result"
    }
   ],
   "source": [
    "X.shape"
   ]
  },
  {
   "cell_type": "code",
   "execution_count": 52,
   "id": "e3a5f283",
   "metadata": {},
   "outputs": [
    {
     "data": {
      "text/plain": [
       "(1000,)"
      ]
     },
     "execution_count": 52,
     "metadata": {},
     "output_type": "execute_result"
    }
   ],
   "source": [
    "y.shape"
   ]
  },
  {
   "cell_type": "code",
   "execution_count": 54,
   "id": "6cdfdc09",
   "metadata": {},
   "outputs": [
    {
     "data": {
      "text/plain": [
       "(1000, 1)"
      ]
     },
     "execution_count": 54,
     "metadata": {},
     "output_type": "execute_result"
    }
   ],
   "source": [
    "y = np.expand_dims(y,axis=1)\n",
    "y.shape"
   ]
  },
  {
   "cell_type": "code",
   "execution_count": 38,
   "id": "d5524896",
   "metadata": {},
   "outputs": [
    {
     "data": {
      "text/plain": [
       "(108, 108, 1)"
      ]
     },
     "execution_count": 38,
     "metadata": {},
     "output_type": "execute_result"
    }
   ],
   "source": [
    "image_shape = (X.shape[1], X.shape[2], X.shape[3])\n",
    "image_shape"
   ]
  },
  {
   "cell_type": "code",
   "execution_count": 45,
   "id": "f5945941",
   "metadata": {},
   "outputs": [],
   "source": [
    "model = Sequential() \n",
    "\n",
    "model.add(layers.Conv2D(filters=128, kernel_size=(3,3), input_shape=image_shape, activation='relu'))\n",
    "model.add(layers.MaxPooling2D(pool_size=(2, 2)))\n",
    "\n",
    "model.add(layers.Conv2D(filters=64, kernel_size=(3,3), activation='relu', kernel_regularizer=tf.keras.regularizers.L1(0.01)))\n",
    "model.add(layers.MaxPooling2D(pool_size=(2, 2)))\n",
    "\n",
    "model.add(layers.Conv2D(filters=32, kernel_size=(2,2), activation='relu', kernel_regularizer=tf.keras.regularizers.L1(0.01)))\n",
    "model.add(layers.MaxPooling2D(pool_size=(2, 2)))\n",
    "\n",
    "model.add(layers.Flatten())\n",
    "\n",
    "model.add(layers.Dense(128, activation='relu'))\n",
    "\n",
    "# Dropouts reduce overfitting by randomly turning neurons off during training.\n",
    "\n",
    "model.add(layers.Dropout(0.2))\n",
    "\n",
    "# categorical = softmax\n",
    "model.add(Dense(7, activation='softmax'))"
   ]
  },
  {
   "cell_type": "code",
   "execution_count": 46,
   "id": "849e9eb7",
   "metadata": {},
   "outputs": [],
   "source": [
    "# COMPILATION imports\n",
    "\n",
    "from tensorflow.keras import optimizers, callbacks"
   ]
  },
  {
   "cell_type": "code",
   "execution_count": 47,
   "id": "f34daf11",
   "metadata": {},
   "outputs": [],
   "source": [
    "#### 2. COMPILATION\n",
    "\n",
    "adam = optimizers.Adam(learning_rate=0.01, beta_1=0.9, beta_2=0.999)"
   ]
  },
  {
   "cell_type": "code",
   "execution_count": 60,
   "id": "f0d686ea",
   "metadata": {},
   "outputs": [],
   "source": [
    "model.compile(loss='categorical_crossentropy',\n",
    "              optimizer=adam,\n",
    "              metrics=['accuracy'])"
   ]
  },
  {
   "cell_type": "code",
   "execution_count": 49,
   "id": "f8ccfcd6",
   "metadata": {},
   "outputs": [],
   "source": [
    "# FIT imports\n",
    "\n",
    "from tensorflow.keras import callbacks"
   ]
  },
  {
   "cell_type": "code",
   "execution_count": 50,
   "id": "3ef44d6a",
   "metadata": {},
   "outputs": [],
   "source": [
    "#### 3. FIT\n",
    "\n",
    "es = callbacks.EarlyStopping(patience=30, restore_best_weights=True)"
   ]
  },
  {
   "cell_type": "code",
   "execution_count": 61,
   "id": "a36b8afa",
   "metadata": {},
   "outputs": [
    {
     "name": "stdout",
     "output_type": "stream",
     "text": [
      "Epoch 1/100\n",
      "22/22 [==============================] - 14s 601ms/step - loss: 88.9170 - accuracy: 0.7829 - val_loss: 22.1090 - val_accuracy: 0.9700\n",
      "Epoch 2/100\n",
      "22/22 [==============================] - 14s 644ms/step - loss: 15.3212 - accuracy: 0.9471 - val_loss: 12.9374 - val_accuracy: 0.9700\n",
      "Epoch 3/100\n",
      "22/22 [==============================] - 14s 620ms/step - loss: 12.3137 - accuracy: 0.9629 - val_loss: 11.1592 - val_accuracy: 0.9700\n",
      "Epoch 4/100\n",
      "22/22 [==============================] - 14s 648ms/step - loss: 10.5029 - accuracy: 0.9657 - val_loss: 9.7468 - val_accuracy: 0.9700\n",
      "Epoch 5/100\n",
      "22/22 [==============================] - 15s 668ms/step - loss: 9.2048 - accuracy: 0.9657 - val_loss: 8.6363 - val_accuracy: 0.9700\n",
      "Epoch 6/100\n",
      "22/22 [==============================] - 14s 638ms/step - loss: 8.2118 - accuracy: 0.9657 - val_loss: 7.7381 - val_accuracy: 0.9700\n",
      "Epoch 7/100\n",
      "22/22 [==============================] - 14s 621ms/step - loss: 7.4301 - accuracy: 0.9671 - val_loss: 7.1225 - val_accuracy: 0.9700\n",
      "Epoch 8/100\n",
      "22/22 [==============================] - 14s 626ms/step - loss: 6.7925 - accuracy: 0.9686 - val_loss: 6.5396 - val_accuracy: 0.9667\n",
      "Epoch 9/100\n",
      "22/22 [==============================] - 14s 649ms/step - loss: 6.2473 - accuracy: 0.9686 - val_loss: 5.9645 - val_accuracy: 0.9733\n",
      "Epoch 10/100\n",
      "22/22 [==============================] - 15s 664ms/step - loss: 5.9732 - accuracy: 0.9657 - val_loss: 5.6240 - val_accuracy: 0.9700\n",
      "Epoch 11/100\n",
      "22/22 [==============================] - 16s 710ms/step - loss: 5.5003 - accuracy: 0.9629 - val_loss: 5.2448 - val_accuracy: 0.9700\n",
      "Epoch 12/100\n",
      "22/22 [==============================] - 15s 699ms/step - loss: 5.1225 - accuracy: 0.9671 - val_loss: 4.9365 - val_accuracy: 0.9700\n",
      "Epoch 13/100\n",
      "22/22 [==============================] - 13s 586ms/step - loss: 4.7922 - accuracy: 0.9643 - val_loss: 4.6830 - val_accuracy: 0.9700\n",
      "Epoch 14/100\n",
      "22/22 [==============================] - 13s 571ms/step - loss: 4.5259 - accuracy: 0.9700 - val_loss: 4.3931 - val_accuracy: 0.9700\n",
      "Epoch 15/100\n",
      "22/22 [==============================] - 12s 573ms/step - loss: 4.2986 - accuracy: 0.9714 - val_loss: 4.1993 - val_accuracy: 0.9700\n",
      "Epoch 16/100\n",
      "22/22 [==============================] - 13s 599ms/step - loss: 4.0652 - accuracy: 0.9700 - val_loss: 4.0325 - val_accuracy: 0.9700\n",
      "Epoch 17/100\n",
      "22/22 [==============================] - 14s 639ms/step - loss: 3.9197 - accuracy: 0.9729 - val_loss: 3.8059 - val_accuracy: 0.9733\n",
      "Epoch 18/100\n",
      "22/22 [==============================] - 13s 593ms/step - loss: 3.7151 - accuracy: 0.9729 - val_loss: 3.6640 - val_accuracy: 0.9667\n",
      "Epoch 19/100\n",
      "22/22 [==============================] - 14s 626ms/step - loss: 3.6071 - accuracy: 0.9700 - val_loss: 3.5345 - val_accuracy: 0.9700\n",
      "Epoch 20/100\n",
      "22/22 [==============================] - 14s 632ms/step - loss: 3.4795 - accuracy: 0.9700 - val_loss: 3.4830 - val_accuracy: 0.9533\n",
      "Epoch 21/100\n",
      "22/22 [==============================] - 13s 613ms/step - loss: 3.2935 - accuracy: 0.9786 - val_loss: 3.2984 - val_accuracy: 0.9600\n",
      "Epoch 22/100\n",
      "22/22 [==============================] - 13s 591ms/step - loss: 3.1631 - accuracy: 0.9743 - val_loss: 3.1879 - val_accuracy: 0.9667\n",
      "Epoch 23/100\n",
      "22/22 [==============================] - 13s 587ms/step - loss: 3.0715 - accuracy: 0.9743 - val_loss: 3.0196 - val_accuracy: 0.9700\n",
      "Epoch 24/100\n",
      "22/22 [==============================] - 13s 602ms/step - loss: 2.9429 - accuracy: 0.9800 - val_loss: 2.9136 - val_accuracy: 0.9700\n",
      "Epoch 25/100\n",
      "22/22 [==============================] - 13s 573ms/step - loss: 2.8369 - accuracy: 0.9800 - val_loss: 2.8874 - val_accuracy: 0.9667\n",
      "Epoch 26/100\n",
      "22/22 [==============================] - 13s 587ms/step - loss: 2.7581 - accuracy: 0.9786 - val_loss: 2.7710 - val_accuracy: 0.9533\n",
      "Epoch 27/100\n",
      "22/22 [==============================] - 13s 573ms/step - loss: 2.6535 - accuracy: 0.9843 - val_loss: 2.6949 - val_accuracy: 0.9667\n",
      "Epoch 28/100\n",
      "22/22 [==============================] - 13s 609ms/step - loss: 2.5947 - accuracy: 0.9771 - val_loss: 2.6320 - val_accuracy: 0.9700\n",
      "Epoch 29/100\n",
      "22/22 [==============================] - 13s 596ms/step - loss: 2.5168 - accuracy: 0.9771 - val_loss: 2.5397 - val_accuracy: 0.9567\n",
      "Epoch 30/100\n",
      "22/22 [==============================] - 13s 576ms/step - loss: 2.4430 - accuracy: 0.9843 - val_loss: 2.5596 - val_accuracy: 0.9300\n",
      "Epoch 31/100\n",
      "22/22 [==============================] - 13s 579ms/step - loss: 2.3597 - accuracy: 0.9900 - val_loss: 2.4727 - val_accuracy: 0.9333\n",
      "Epoch 32/100\n",
      "22/22 [==============================] - 14s 623ms/step - loss: 2.3071 - accuracy: 0.9843 - val_loss: 2.3848 - val_accuracy: 0.9700\n",
      "Epoch 33/100\n",
      "22/22 [==============================] - 13s 585ms/step - loss: 2.2469 - accuracy: 0.9871 - val_loss: 2.3115 - val_accuracy: 0.9667\n",
      "Epoch 34/100\n",
      "22/22 [==============================] - 13s 582ms/step - loss: 2.1901 - accuracy: 0.9843 - val_loss: 2.2784 - val_accuracy: 0.9600\n",
      "Epoch 35/100\n",
      "22/22 [==============================] - 13s 580ms/step - loss: 2.1303 - accuracy: 0.9943 - val_loss: 2.4055 - val_accuracy: 0.9133\n",
      "Epoch 36/100\n",
      "22/22 [==============================] - 13s 593ms/step - loss: 2.1049 - accuracy: 0.9843 - val_loss: 2.2286 - val_accuracy: 0.9367\n",
      "Epoch 37/100\n",
      "22/22 [==============================] - 13s 579ms/step - loss: 2.0336 - accuracy: 0.9900 - val_loss: 2.1355 - val_accuracy: 0.9700\n",
      "Epoch 38/100\n",
      "22/22 [==============================] - 13s 578ms/step - loss: 2.0212 - accuracy: 0.9757 - val_loss: 2.0131 - val_accuracy: 0.9667\n",
      "Epoch 39/100\n",
      "22/22 [==============================] - 13s 604ms/step - loss: 1.9441 - accuracy: 0.9929 - val_loss: 2.0063 - val_accuracy: 0.9633\n",
      "Epoch 40/100\n",
      "22/22 [==============================] - 13s 577ms/step - loss: 1.8962 - accuracy: 0.9957 - val_loss: 2.0704 - val_accuracy: 0.9533\n",
      "Epoch 41/100\n",
      "22/22 [==============================] - 13s 573ms/step - loss: 1.8650 - accuracy: 0.9914 - val_loss: 1.9778 - val_accuracy: 0.9533\n",
      "Epoch 42/100\n",
      "22/22 [==============================] - 12s 568ms/step - loss: 1.8169 - accuracy: 0.9929 - val_loss: 1.9560 - val_accuracy: 0.9567\n",
      "Epoch 43/100\n",
      "22/22 [==============================] - 13s 589ms/step - loss: 1.7945 - accuracy: 0.9914 - val_loss: 1.9140 - val_accuracy: 0.9667\n",
      "Epoch 44/100\n",
      "22/22 [==============================] - 13s 573ms/step - loss: 1.7583 - accuracy: 0.9929 - val_loss: 1.8739 - val_accuracy: 0.9533\n",
      "Epoch 45/100\n",
      "22/22 [==============================] - 13s 572ms/step - loss: 1.7261 - accuracy: 0.9900 - val_loss: 1.8637 - val_accuracy: 0.9600\n",
      "Epoch 46/100\n",
      "22/22 [==============================] - 13s 577ms/step - loss: 1.7061 - accuracy: 0.9943 - val_loss: 1.8377 - val_accuracy: 0.9567\n",
      "Epoch 47/100\n",
      "22/22 [==============================] - 12s 569ms/step - loss: 1.6782 - accuracy: 0.9871 - val_loss: 1.8174 - val_accuracy: 0.9533\n",
      "Epoch 48/100\n",
      "22/22 [==============================] - 13s 584ms/step - loss: 1.6398 - accuracy: 0.9900 - val_loss: 1.7968 - val_accuracy: 0.9533\n",
      "Epoch 49/100\n",
      "22/22 [==============================] - 14s 629ms/step - loss: 1.6073 - accuracy: 0.9957 - val_loss: 1.8241 - val_accuracy: 0.9500\n",
      "Epoch 50/100\n",
      "22/22 [==============================] - 14s 628ms/step - loss: 1.6142 - accuracy: 0.9857 - val_loss: 1.8655 - val_accuracy: 0.9100\n",
      "Epoch 51/100\n",
      "22/22 [==============================] - 14s 656ms/step - loss: 1.5745 - accuracy: 0.9871 - val_loss: 1.7379 - val_accuracy: 0.9400\n",
      "Epoch 52/100\n",
      "22/22 [==============================] - 13s 584ms/step - loss: 1.5297 - accuracy: 0.9971 - val_loss: 1.6941 - val_accuracy: 0.9567\n",
      "Epoch 53/100\n",
      "22/22 [==============================] - 13s 605ms/step - loss: 1.5067 - accuracy: 0.9957 - val_loss: 1.6741 - val_accuracy: 0.9567\n",
      "Epoch 54/100\n",
      "22/22 [==============================] - 13s 582ms/step - loss: 1.4880 - accuracy: 0.9943 - val_loss: 1.7288 - val_accuracy: 0.9400\n",
      "Epoch 55/100\n",
      "22/22 [==============================] - 13s 578ms/step - loss: 1.4682 - accuracy: 0.9971 - val_loss: 1.7448 - val_accuracy: 0.9367\n",
      "Epoch 56/100\n",
      "22/22 [==============================] - 13s 591ms/step - loss: 1.4530 - accuracy: 0.9957 - val_loss: 1.6178 - val_accuracy: 0.9367\n",
      "Epoch 57/100\n"
     ]
    },
    {
     "name": "stdout",
     "output_type": "stream",
     "text": [
      "22/22 [==============================] - 13s 606ms/step - loss: 1.4255 - accuracy: 0.9957 - val_loss: 1.6221 - val_accuracy: 0.9533\n",
      "Epoch 58/100\n",
      "22/22 [==============================] - 13s 589ms/step - loss: 1.4357 - accuracy: 0.9900 - val_loss: 1.6275 - val_accuracy: 0.9367\n",
      "Epoch 59/100\n",
      "22/22 [==============================] - 15s 693ms/step - loss: 1.4521 - accuracy: 0.9729 - val_loss: 1.5766 - val_accuracy: 0.9567\n",
      "Epoch 60/100\n",
      "22/22 [==============================] - 14s 661ms/step - loss: 1.4579 - accuracy: 0.9843 - val_loss: 1.5635 - val_accuracy: 0.9633\n",
      "Epoch 61/100\n",
      "22/22 [==============================] - 15s 669ms/step - loss: 1.4345 - accuracy: 0.9786 - val_loss: 1.5965 - val_accuracy: 0.9500\n",
      "Epoch 62/100\n",
      "22/22 [==============================] - 13s 598ms/step - loss: 1.3896 - accuracy: 0.9929 - val_loss: 1.5528 - val_accuracy: 0.9667\n",
      "Epoch 63/100\n",
      "22/22 [==============================] - 13s 582ms/step - loss: 1.3569 - accuracy: 0.9886 - val_loss: 1.5173 - val_accuracy: 0.9600\n",
      "Epoch 64/100\n",
      "22/22 [==============================] - 13s 594ms/step - loss: 1.3258 - accuracy: 0.9943 - val_loss: 1.4973 - val_accuracy: 0.9633\n",
      "Epoch 65/100\n",
      "22/22 [==============================] - 13s 580ms/step - loss: 1.3049 - accuracy: 0.9957 - val_loss: 1.4967 - val_accuracy: 0.9567\n",
      "Epoch 66/100\n",
      "22/22 [==============================] - 13s 573ms/step - loss: 1.2852 - accuracy: 0.9986 - val_loss: 1.4472 - val_accuracy: 0.9567\n",
      "Epoch 67/100\n",
      "22/22 [==============================] - 13s 579ms/step - loss: 1.2701 - accuracy: 0.9929 - val_loss: 1.5000 - val_accuracy: 0.9700\n",
      "Epoch 68/100\n",
      "22/22 [==============================] - 12s 566ms/step - loss: 1.2684 - accuracy: 0.9943 - val_loss: 1.4699 - val_accuracy: 0.9433\n",
      "Epoch 69/100\n",
      "22/22 [==============================] - 12s 561ms/step - loss: 1.2481 - accuracy: 0.9971 - val_loss: 1.4657 - val_accuracy: 0.9500\n",
      "Epoch 70/100\n",
      "22/22 [==============================] - 12s 566ms/step - loss: 1.2369 - accuracy: 0.9957 - val_loss: 1.4782 - val_accuracy: 0.9700\n",
      "Epoch 71/100\n",
      "22/22 [==============================] - 13s 570ms/step - loss: 1.2262 - accuracy: 0.9957 - val_loss: 1.4115 - val_accuracy: 0.9600\n",
      "Epoch 72/100\n",
      "22/22 [==============================] - 13s 611ms/step - loss: 1.2137 - accuracy: 0.9943 - val_loss: 1.4220 - val_accuracy: 0.9567\n",
      "Epoch 73/100\n",
      "22/22 [==============================] - 41s 2s/step - loss: 1.1992 - accuracy: 0.9986 - val_loss: 1.4334 - val_accuracy: 0.9633\n",
      "Epoch 74/100\n",
      "22/22 [==============================] - 148s 7s/step - loss: 1.1897 - accuracy: 0.9971 - val_loss: 1.3979 - val_accuracy: 0.9567\n",
      "Epoch 75/100\n",
      "22/22 [==============================] - 16s 722ms/step - loss: 1.1861 - accuracy: 0.9914 - val_loss: 1.4750 - val_accuracy: 0.9700\n",
      "Epoch 76/100\n",
      "22/22 [==============================] - 13s 596ms/step - loss: 1.2086 - accuracy: 0.9900 - val_loss: 1.4045 - val_accuracy: 0.9333\n",
      "Epoch 77/100\n",
      "22/22 [==============================] - 13s 576ms/step - loss: 1.1777 - accuracy: 0.9929 - val_loss: 1.4038 - val_accuracy: 0.9600\n",
      "Epoch 78/100\n",
      "22/22 [==============================] - 5s 246ms/step - loss: 1.1501 - accuracy: 0.9986 - val_loss: 1.4268 - val_accuracy: 0.9567\n",
      "Epoch 79/100\n",
      "22/22 [==============================] - 5s 236ms/step - loss: 1.1428 - accuracy: 1.0000 - val_loss: 1.3819 - val_accuracy: 0.9600\n",
      "Epoch 80/100\n",
      "22/22 [==============================] - 5s 242ms/step - loss: 1.1343 - accuracy: 0.9986 - val_loss: 1.3736 - val_accuracy: 0.9533\n",
      "Epoch 81/100\n",
      "22/22 [==============================] - 5s 214ms/step - loss: 1.1342 - accuracy: 0.9957 - val_loss: 1.3409 - val_accuracy: 0.9567\n",
      "Epoch 82/100\n",
      "22/22 [==============================] - 5s 216ms/step - loss: 1.1278 - accuracy: 0.9971 - val_loss: 1.3887 - val_accuracy: 0.9633\n",
      "Epoch 83/100\n",
      "22/22 [==============================] - 5s 215ms/step - loss: 1.1158 - accuracy: 0.9986 - val_loss: 1.3735 - val_accuracy: 0.9633\n",
      "Epoch 84/100\n",
      "22/22 [==============================] - 5s 218ms/step - loss: 1.1067 - accuracy: 0.9986 - val_loss: 1.3741 - val_accuracy: 0.9600\n",
      "Epoch 85/100\n",
      "22/22 [==============================] - 5s 214ms/step - loss: 1.1016 - accuracy: 0.9971 - val_loss: 1.4075 - val_accuracy: 0.9567\n",
      "Epoch 86/100\n",
      "22/22 [==============================] - 5s 233ms/step - loss: 1.0900 - accuracy: 1.0000 - val_loss: 1.3284 - val_accuracy: 0.9600\n",
      "Epoch 87/100\n",
      "22/22 [==============================] - 5s 227ms/step - loss: 1.0786 - accuracy: 0.9986 - val_loss: 1.3717 - val_accuracy: 0.9567\n",
      "Epoch 88/100\n",
      "22/22 [==============================] - 5s 221ms/step - loss: 1.0803 - accuracy: 0.9943 - val_loss: 1.3330 - val_accuracy: 0.9567\n",
      "Epoch 89/100\n",
      "22/22 [==============================] - 5s 215ms/step - loss: 1.0749 - accuracy: 0.9943 - val_loss: 1.3372 - val_accuracy: 0.9700\n",
      "Epoch 90/100\n",
      "22/22 [==============================] - 5s 219ms/step - loss: 1.0841 - accuracy: 0.9943 - val_loss: 1.3903 - val_accuracy: 0.9167\n",
      "Epoch 91/100\n",
      "22/22 [==============================] - 5s 225ms/step - loss: 1.0714 - accuracy: 0.9929 - val_loss: 1.3175 - val_accuracy: 0.9500\n",
      "Epoch 92/100\n",
      "22/22 [==============================] - 5s 237ms/step - loss: 1.0788 - accuracy: 0.9957 - val_loss: 2.0616 - val_accuracy: 0.7500\n",
      "Epoch 93/100\n",
      "22/22 [==============================] - 5s 223ms/step - loss: 1.1016 - accuracy: 0.9829 - val_loss: 1.5004 - val_accuracy: 0.9233\n",
      "Epoch 94/100\n",
      "22/22 [==============================] - 5s 225ms/step - loss: 1.3679 - accuracy: 0.9657 - val_loss: 1.2624 - val_accuracy: 0.9700\n",
      "Epoch 95/100\n",
      "22/22 [==============================] - 5s 246ms/step - loss: 1.3216 - accuracy: 0.9657 - val_loss: 1.2846 - val_accuracy: 0.9700\n",
      "Epoch 96/100\n",
      "22/22 [==============================] - 5s 250ms/step - loss: 1.2878 - accuracy: 0.9657 - val_loss: 1.2345 - val_accuracy: 0.9700\n",
      "Epoch 97/100\n",
      "22/22 [==============================] - 5s 239ms/step - loss: 1.2575 - accuracy: 0.9657 - val_loss: 1.2566 - val_accuracy: 0.9700\n",
      "Epoch 98/100\n",
      "22/22 [==============================] - 5s 242ms/step - loss: 2.9469 - accuracy: 0.9257 - val_loss: 1.7673 - val_accuracy: 0.9700\n",
      "Epoch 99/100\n",
      "22/22 [==============================] - 6s 256ms/step - loss: 2.0948 - accuracy: 0.9657 - val_loss: 2.1499 - val_accuracy: 0.9700\n",
      "Epoch 100/100\n",
      "22/22 [==============================] - 5s 250ms/step - loss: 2.1463 - accuracy: 0.9657 - val_loss: 2.0734 - val_accuracy: 0.9700\n"
     ]
    },
    {
     "data": {
      "text/plain": [
       "<keras.callbacks.History at 0x28ab83460>"
      ]
     },
     "execution_count": 61,
     "metadata": {},
     "output_type": "execute_result"
    }
   ],
   "source": [
    "model.fit(X, encoded_y,\n",
    "          batch_size=32, # Batch size -too small--> no generalization\n",
    "          epochs=100,    #            -too large--> slow computations\n",
    "          validation_split=0.3,\n",
    "          callbacks=[es],\n",
    "          verbose=1)"
   ]
  },
  {
   "cell_type": "code",
   "execution_count": 68,
   "id": "c450951c",
   "metadata": {},
   "outputs": [
    {
     "name": "stdout",
     "output_type": "stream",
     "text": [
      "32/32 [==============================] - 2s 57ms/step - loss: 2.0876 - accuracy: 0.9670\n"
     ]
    },
    {
     "data": {
      "text/plain": [
       "[2.08760404586792, 0.9670000076293945]"
      ]
     },
     "execution_count": 68,
     "metadata": {},
     "output_type": "execute_result"
    }
   ],
   "source": [
    "model.evaluate(X, encoded_y)"
   ]
  }
 ],
 "metadata": {
  "kernelspec": {
   "display_name": "Python 3 (ipykernel)",
   "language": "python",
   "name": "python3"
  },
  "language_info": {
   "codemirror_mode": {
    "name": "ipython",
    "version": 3
   },
   "file_extension": ".py",
   "mimetype": "text/x-python",
   "name": "python",
   "nbconvert_exporter": "python",
   "pygments_lexer": "ipython3",
   "version": "3.10.6"
  },
  "toc": {
   "base_numbering": 1,
   "nav_menu": {},
   "number_sections": true,
   "sideBar": true,
   "skip_h1_title": false,
   "title_cell": "Table of Contents",
   "title_sidebar": "Contents",
   "toc_cell": false,
   "toc_position": {},
   "toc_section_display": true,
   "toc_window_display": false
  }
 },
 "nbformat": 4,
 "nbformat_minor": 5
}
