{
 "cells": [
  {
   "cell_type": "code",
   "execution_count": 1,
   "id": "94f341b5-1d3f-48e7-a857-5ab9d2bebe02",
   "metadata": {},
   "outputs": [],
   "source": [
    "import pandas as pd"
   ]
  },
  {
   "cell_type": "code",
   "execution_count": 2,
   "id": "0a6c0e81-29a0-4027-a854-cc159f933ae4",
   "metadata": {},
   "outputs": [],
   "source": [
    "import json\n",
    "\n",
    "with open('../malaria_data/training.json') as f:\n",
    "    data = json.load(f)"
   ]
  },
  {
   "cell_type": "code",
   "execution_count": 5,
   "id": "8692e43b-b769-498f-8211-ef15c34fe122",
   "metadata": {},
   "outputs": [
    {
     "name": "stdout",
     "output_type": "stream",
     "text": [
      "                                                   path  min_r  min_c  max_r  \\\n",
      "0      /images/8d02117d-6c71-4e47-b50a-6cc8d5eb1d55.png   1057   1440   1158   \n",
      "1      /images/8d02117d-6c71-4e47-b50a-6cc8d5eb1d55.png    868   1303    971   \n",
      "2      /images/8d02117d-6c71-4e47-b50a-6cc8d5eb1d55.png    578    900    689   \n",
      "3      /images/8d02117d-6c71-4e47-b50a-6cc8d5eb1d55.png    304    611    408   \n",
      "4      /images/8d02117d-6c71-4e47-b50a-6cc8d5eb1d55.png    198    881    312   \n",
      "...                                                 ...    ...    ...    ...   \n",
      "80108  /images/99e979d4-ee97-4d7f-9da6-00bead40db4d.png    757    520    873   \n",
      "80109  /images/99e979d4-ee97-4d7f-9da6-00bead40db4d.png    308    808    406   \n",
      "80110  /images/99e979d4-ee97-4d7f-9da6-00bead40db4d.png    510    453    595   \n",
      "80111  /images/99e979d4-ee97-4d7f-9da6-00bead40db4d.png      0   1260     87   \n",
      "80112  /images/99e979d4-ee97-4d7f-9da6-00bead40db4d.png    740      0    852   \n",
      "\n",
      "       max_c  r_len  c_len        category  \n",
      "0       1540    101    100  red blood cell  \n",
      "1       1403    103    100  red blood cell  \n",
      "2       1008    111    108  red blood cell  \n",
      "3        713    104    102  red blood cell  \n",
      "4       1003    114    122  red blood cell  \n",
      "...      ...    ...    ...             ...  \n",
      "80108    595    116     75  red blood cell  \n",
      "80109    900     98     92     trophozoite  \n",
      "80110    570     85    117  red blood cell  \n",
      "80111   1344     87     84  red blood cell  \n",
      "80112    100    112    100  red blood cell  \n",
      "\n",
      "[80113 rows x 8 columns]\n"
     ]
    }
   ],
   "source": [
    "# create empty dictionary with column names as keys\n",
    "cells_df = {\n",
    "    'path':[],\n",
    "    'min_r':[],\n",
    "    'min_c':[],\n",
    "    'max_r':[],\n",
    "    'max_c':[],\n",
    "    'r_len':[],\n",
    "    'c_len':[],\n",
    "    'category':[]\n",
    "}\n",
    "\n",
    "# run a first for loop to get each image from list\n",
    "for image in data:\n",
    "    \n",
    "#     run a nested loop withing each image to get the individual object data\n",
    "\n",
    "    #Populate cells_df dict with bounding box data\n",
    "    for box in image['objects']:\n",
    "        cells_df['path'].append(image['image']['pathname'])\n",
    "        cells_df['min_r'].append(box['bounding_box']['minimum']['r'])\n",
    "        cells_df['min_c'].append(box['bounding_box']['minimum']['c'])\n",
    "        cells_df['max_r'].append(box['bounding_box']['maximum']['r'])\n",
    "        cells_df['max_c'].append(box['bounding_box']['maximum']['c'])\n",
    "        cells_df['r_len'].append(box['bounding_box']['maximum']['r']-box['bounding_box']['minimum']['r'])\n",
    "        cells_df['c_len'].append(box['bounding_box']['maximum']['c']-box['bounding_box']['minimum']['c'])\n",
    "        cells_df['category'].append(box['category'])\n",
    "\n",
    "# create dataframe using pandas  \n",
    "\n",
    "training_json_df = pd.DataFrame(cells_df)\n",
    "print(training_json_df)"
   ]
  },
  {
   "cell_type": "code",
   "execution_count": null,
   "id": "e3562264-eb03-4be1-b2b1-25dfb427ecad",
   "metadata": {},
   "outputs": [],
   "source": []
  }
 ],
 "metadata": {
  "kernelspec": {
   "display_name": "Python 3 (ipykernel)",
   "language": "python",
   "name": "python3"
  },
  "language_info": {
   "codemirror_mode": {
    "name": "ipython",
    "version": 3
   },
   "file_extension": ".py",
   "mimetype": "text/x-python",
   "name": "python",
   "nbconvert_exporter": "python",
   "pygments_lexer": "ipython3",
   "version": "3.10.6"
  }
 },
 "nbformat": 4,
 "nbformat_minor": 5
}
