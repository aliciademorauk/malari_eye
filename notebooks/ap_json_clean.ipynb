{
 "cells": [
  {
   "cell_type": "code",
   "execution_count": 12,
   "id": "94f341b5-1d3f-48e7-a857-5ab9d2bebe02",
   "metadata": {},
   "outputs": [],
   "source": [
    "import pandas as pd\n",
    "import matplotlib as plt\n",
    "import seaborn as sns"
   ]
  },
  {
   "cell_type": "code",
   "execution_count": 4,
   "id": "0a6c0e81-29a0-4027-a854-cc159f933ae4",
   "metadata": {},
   "outputs": [],
   "source": [
    "import json\n",
    "\n",
    "with open('../malaria_data/training.json') as f:\n",
    "    data = json.load(f)"
   ]
  },
  {
   "cell_type": "code",
   "execution_count": 5,
   "id": "8692e43b-b769-498f-8211-ef15c34fe122",
   "metadata": {},
   "outputs": [
    {
     "name": "stdout",
     "output_type": "stream",
     "text": [
      "                                                   path  min_r  min_c  max_r  \\\n",
      "0      /images/8d02117d-6c71-4e47-b50a-6cc8d5eb1d55.png   1057   1440   1158   \n",
      "1      /images/8d02117d-6c71-4e47-b50a-6cc8d5eb1d55.png    868   1303    971   \n",
      "2      /images/8d02117d-6c71-4e47-b50a-6cc8d5eb1d55.png    578    900    689   \n",
      "3      /images/8d02117d-6c71-4e47-b50a-6cc8d5eb1d55.png    304    611    408   \n",
      "4      /images/8d02117d-6c71-4e47-b50a-6cc8d5eb1d55.png    198    881    312   \n",
      "...                                                 ...    ...    ...    ...   \n",
      "80108  /images/99e979d4-ee97-4d7f-9da6-00bead40db4d.png    757    520    873   \n",
      "80109  /images/99e979d4-ee97-4d7f-9da6-00bead40db4d.png    308    808    406   \n",
      "80110  /images/99e979d4-ee97-4d7f-9da6-00bead40db4d.png    510    453    595   \n",
      "80111  /images/99e979d4-ee97-4d7f-9da6-00bead40db4d.png      0   1260     87   \n",
      "80112  /images/99e979d4-ee97-4d7f-9da6-00bead40db4d.png    740      0    852   \n",
      "\n",
      "       max_c  r_len  c_len        category  \n",
      "0       1540    101    100  red blood cell  \n",
      "1       1403    103    100  red blood cell  \n",
      "2       1008    111    108  red blood cell  \n",
      "3        713    104    102  red blood cell  \n",
      "4       1003    114    122  red blood cell  \n",
      "...      ...    ...    ...             ...  \n",
      "80108    595    116     75  red blood cell  \n",
      "80109    900     98     92     trophozoite  \n",
      "80110    570     85    117  red blood cell  \n",
      "80111   1344     87     84  red blood cell  \n",
      "80112    100    112    100  red blood cell  \n",
      "\n",
      "[80113 rows x 8 columns]\n"
     ]
    }
   ],
   "source": [
    "# create empty dictionary with column names as keys\n",
    "cells_df = {\n",
    "    'path':[],\n",
    "    'min_r':[],\n",
    "    'min_c':[],\n",
    "    'max_r':[],\n",
    "    'max_c':[],\n",
    "    'r_len':[],\n",
    "    'c_len':[],\n",
    "    'category':[]\n",
    "}\n",
    "\n",
    "# run a first for loop to get each image from list\n",
    "for image in data:\n",
    "    \n",
    "#     run a nested loop withing each image to get the individual object data\n",
    "\n",
    "    #Populate cells_df dict with bounding box data\n",
    "    for box in image['objects']:\n",
    "        cells_df['path'].append(image['image']['pathname'])\n",
    "        cells_df['min_r'].append(box['bounding_box']['minimum']['r'])\n",
    "        cells_df['min_c'].append(box['bounding_box']['minimum']['c'])\n",
    "        cells_df['max_r'].append(box['bounding_box']['maximum']['r'])\n",
    "        cells_df['max_c'].append(box['bounding_box']['maximum']['c'])\n",
    "        cells_df['r_len'].append(box['bounding_box']['maximum']['r']-box['bounding_box']['minimum']['r'])\n",
    "        cells_df['c_len'].append(box['bounding_box']['maximum']['c']-box['bounding_box']['minimum']['c'])\n",
    "        cells_df['category'].append(box['category'])\n",
    "\n",
    "# create dataframe using pandas  \n",
    "\n",
    "training_json_df = pd.DataFrame(cells_df)\n",
    "print(training_json_df)\n"
   ]
  },
  {
   "cell_type": "code",
   "execution_count": 8,
   "id": "ce9759ae-6a27-457e-b70c-31e823f52f21",
   "metadata": {
    "tags": []
   },
   "outputs": [
    {
     "data": {
      "text/html": [
       "<div>\n",
       "<style scoped>\n",
       "    .dataframe tbody tr th:only-of-type {\n",
       "        vertical-align: middle;\n",
       "    }\n",
       "\n",
       "    .dataframe tbody tr th {\n",
       "        vertical-align: top;\n",
       "    }\n",
       "\n",
       "    .dataframe thead th {\n",
       "        text-align: right;\n",
       "    }\n",
       "</style>\n",
       "<table border=\"1\" class=\"dataframe\">\n",
       "  <thead>\n",
       "    <tr style=\"text-align: right;\">\n",
       "      <th></th>\n",
       "      <th>path</th>\n",
       "      <th>min_r</th>\n",
       "      <th>min_c</th>\n",
       "      <th>max_r</th>\n",
       "      <th>max_c</th>\n",
       "      <th>r_len</th>\n",
       "      <th>c_len</th>\n",
       "      <th>category</th>\n",
       "      <th>box area</th>\n",
       "      <th>box_area</th>\n",
       "      <th>rect_ratio</th>\n",
       "    </tr>\n",
       "  </thead>\n",
       "  <tbody>\n",
       "    <tr>\n",
       "      <th>0</th>\n",
       "      <td>/images/8d02117d-6c71-4e47-b50a-6cc8d5eb1d55.png</td>\n",
       "      <td>1057</td>\n",
       "      <td>1440</td>\n",
       "      <td>1158</td>\n",
       "      <td>1540</td>\n",
       "      <td>101</td>\n",
       "      <td>100</td>\n",
       "      <td>red blood cell</td>\n",
       "      <td>10100</td>\n",
       "      <td>10100</td>\n",
       "      <td>0.990099</td>\n",
       "    </tr>\n",
       "    <tr>\n",
       "      <th>1</th>\n",
       "      <td>/images/8d02117d-6c71-4e47-b50a-6cc8d5eb1d55.png</td>\n",
       "      <td>868</td>\n",
       "      <td>1303</td>\n",
       "      <td>971</td>\n",
       "      <td>1403</td>\n",
       "      <td>103</td>\n",
       "      <td>100</td>\n",
       "      <td>red blood cell</td>\n",
       "      <td>10300</td>\n",
       "      <td>10300</td>\n",
       "      <td>0.970874</td>\n",
       "    </tr>\n",
       "    <tr>\n",
       "      <th>2</th>\n",
       "      <td>/images/8d02117d-6c71-4e47-b50a-6cc8d5eb1d55.png</td>\n",
       "      <td>578</td>\n",
       "      <td>900</td>\n",
       "      <td>689</td>\n",
       "      <td>1008</td>\n",
       "      <td>111</td>\n",
       "      <td>108</td>\n",
       "      <td>red blood cell</td>\n",
       "      <td>11988</td>\n",
       "      <td>11988</td>\n",
       "      <td>0.972973</td>\n",
       "    </tr>\n",
       "    <tr>\n",
       "      <th>3</th>\n",
       "      <td>/images/8d02117d-6c71-4e47-b50a-6cc8d5eb1d55.png</td>\n",
       "      <td>304</td>\n",
       "      <td>611</td>\n",
       "      <td>408</td>\n",
       "      <td>713</td>\n",
       "      <td>104</td>\n",
       "      <td>102</td>\n",
       "      <td>red blood cell</td>\n",
       "      <td>10608</td>\n",
       "      <td>10608</td>\n",
       "      <td>0.980769</td>\n",
       "    </tr>\n",
       "    <tr>\n",
       "      <th>4</th>\n",
       "      <td>/images/8d02117d-6c71-4e47-b50a-6cc8d5eb1d55.png</td>\n",
       "      <td>198</td>\n",
       "      <td>881</td>\n",
       "      <td>312</td>\n",
       "      <td>1003</td>\n",
       "      <td>114</td>\n",
       "      <td>122</td>\n",
       "      <td>red blood cell</td>\n",
       "      <td>13908</td>\n",
       "      <td>13908</td>\n",
       "      <td>1.070175</td>\n",
       "    </tr>\n",
       "  </tbody>\n",
       "</table>\n",
       "</div>"
      ],
      "text/plain": [
       "                                               path  min_r  min_c  max_r  \\\n",
       "0  /images/8d02117d-6c71-4e47-b50a-6cc8d5eb1d55.png   1057   1440   1158   \n",
       "1  /images/8d02117d-6c71-4e47-b50a-6cc8d5eb1d55.png    868   1303    971   \n",
       "2  /images/8d02117d-6c71-4e47-b50a-6cc8d5eb1d55.png    578    900    689   \n",
       "3  /images/8d02117d-6c71-4e47-b50a-6cc8d5eb1d55.png    304    611    408   \n",
       "4  /images/8d02117d-6c71-4e47-b50a-6cc8d5eb1d55.png    198    881    312   \n",
       "\n",
       "   max_c  r_len  c_len        category  box area  box_area  rect_ratio  \n",
       "0   1540    101    100  red blood cell     10100     10100    0.990099  \n",
       "1   1403    103    100  red blood cell     10300     10300    0.970874  \n",
       "2   1008    111    108  red blood cell     11988     11988    0.972973  \n",
       "3    713    104    102  red blood cell     10608     10608    0.980769  \n",
       "4   1003    114    122  red blood cell     13908     13908    1.070175  "
      ]
     },
     "execution_count": 8,
     "metadata": {},
     "output_type": "execute_result"
    }
   ],
   "source": [
    "# Size analysis\n",
    "\n",
    "training_json_df['box_area'] = training_json_df['c_len']*training_json_df['r_len']\n",
    "training_json_df['rect_ratio'] = training_json_df['c_len']/training_json_df['r_len']\n",
    "\n",
    "training_json_df.head()"
   ]
  },
  {
   "cell_type": "code",
   "execution_count": 10,
   "id": "f00a443a-bf0d-4474-b00a-177c9bb0ae13",
   "metadata": {
    "tags": []
   },
   "outputs": [
    {
     "data": {
      "text/html": [
       "<div>\n",
       "<style scoped>\n",
       "    .dataframe tbody tr th:only-of-type {\n",
       "        vertical-align: middle;\n",
       "    }\n",
       "\n",
       "    .dataframe tbody tr th {\n",
       "        vertical-align: top;\n",
       "    }\n",
       "\n",
       "    .dataframe thead th {\n",
       "        text-align: right;\n",
       "    }\n",
       "</style>\n",
       "<table border=\"1\" class=\"dataframe\">\n",
       "  <thead>\n",
       "    <tr style=\"text-align: right;\">\n",
       "      <th></th>\n",
       "      <th>min_r</th>\n",
       "      <th>min_c</th>\n",
       "      <th>max_r</th>\n",
       "      <th>max_c</th>\n",
       "      <th>r_len</th>\n",
       "      <th>c_len</th>\n",
       "      <th>box area</th>\n",
       "      <th>box_area</th>\n",
       "      <th>rect_ratio</th>\n",
       "    </tr>\n",
       "  </thead>\n",
       "  <tbody>\n",
       "    <tr>\n",
       "      <th>count</th>\n",
       "      <td>80113.000000</td>\n",
       "      <td>80113.000000</td>\n",
       "      <td>80113.000000</td>\n",
       "      <td>80113.000000</td>\n",
       "      <td>80113.000000</td>\n",
       "      <td>80113.000000</td>\n",
       "      <td>80113.000000</td>\n",
       "      <td>80113.000000</td>\n",
       "      <td>80113.000000</td>\n",
       "    </tr>\n",
       "    <tr>\n",
       "      <th>mean</th>\n",
       "      <td>544.956412</td>\n",
       "      <td>745.531075</td>\n",
       "      <td>653.112416</td>\n",
       "      <td>854.426772</td>\n",
       "      <td>108.156005</td>\n",
       "      <td>108.895697</td>\n",
       "      <td>11881.209716</td>\n",
       "      <td>11881.209716</td>\n",
       "      <td>1.018884</td>\n",
       "    </tr>\n",
       "    <tr>\n",
       "      <th>std</th>\n",
       "      <td>317.907257</td>\n",
       "      <td>432.921602</td>\n",
       "      <td>317.935921</td>\n",
       "      <td>432.967210</td>\n",
       "      <td>15.729066</td>\n",
       "      <td>15.660231</td>\n",
       "      <td>2919.680426</td>\n",
       "      <td>2919.680426</td>\n",
       "      <td>0.160322</td>\n",
       "    </tr>\n",
       "    <tr>\n",
       "      <th>min</th>\n",
       "      <td>0.000000</td>\n",
       "      <td>0.000000</td>\n",
       "      <td>60.000000</td>\n",
       "      <td>69.000000</td>\n",
       "      <td>53.000000</td>\n",
       "      <td>54.000000</td>\n",
       "      <td>3933.000000</td>\n",
       "      <td>3933.000000</td>\n",
       "      <td>0.290323</td>\n",
       "    </tr>\n",
       "    <tr>\n",
       "      <th>25%</th>\n",
       "      <td>270.000000</td>\n",
       "      <td>369.000000</td>\n",
       "      <td>378.000000</td>\n",
       "      <td>479.000000</td>\n",
       "      <td>98.000000</td>\n",
       "      <td>99.000000</td>\n",
       "      <td>9800.000000</td>\n",
       "      <td>9800.000000</td>\n",
       "      <td>0.932203</td>\n",
       "    </tr>\n",
       "    <tr>\n",
       "      <th>50%</th>\n",
       "      <td>545.000000</td>\n",
       "      <td>745.000000</td>\n",
       "      <td>653.000000</td>\n",
       "      <td>854.000000</td>\n",
       "      <td>107.000000</td>\n",
       "      <td>108.000000</td>\n",
       "      <td>11655.000000</td>\n",
       "      <td>11655.000000</td>\n",
       "      <td>1.008475</td>\n",
       "    </tr>\n",
       "    <tr>\n",
       "      <th>75%</th>\n",
       "      <td>820.000000</td>\n",
       "      <td>1120.000000</td>\n",
       "      <td>927.000000</td>\n",
       "      <td>1229.000000</td>\n",
       "      <td>118.000000</td>\n",
       "      <td>118.000000</td>\n",
       "      <td>13685.000000</td>\n",
       "      <td>13685.000000</td>\n",
       "      <td>1.088235</td>\n",
       "    </tr>\n",
       "    <tr>\n",
       "      <th>max</th>\n",
       "      <td>1129.000000</td>\n",
       "      <td>1531.000000</td>\n",
       "      <td>1200.000000</td>\n",
       "      <td>1600.000000</td>\n",
       "      <td>255.000000</td>\n",
       "      <td>250.000000</td>\n",
       "      <td>52020.000000</td>\n",
       "      <td>52020.000000</td>\n",
       "      <td>3.230769</td>\n",
       "    </tr>\n",
       "  </tbody>\n",
       "</table>\n",
       "</div>"
      ],
      "text/plain": [
       "              min_r         min_c         max_r         max_c         r_len  \\\n",
       "count  80113.000000  80113.000000  80113.000000  80113.000000  80113.000000   \n",
       "mean     544.956412    745.531075    653.112416    854.426772    108.156005   \n",
       "std      317.907257    432.921602    317.935921    432.967210     15.729066   \n",
       "min        0.000000      0.000000     60.000000     69.000000     53.000000   \n",
       "25%      270.000000    369.000000    378.000000    479.000000     98.000000   \n",
       "50%      545.000000    745.000000    653.000000    854.000000    107.000000   \n",
       "75%      820.000000   1120.000000    927.000000   1229.000000    118.000000   \n",
       "max     1129.000000   1531.000000   1200.000000   1600.000000    255.000000   \n",
       "\n",
       "              c_len      box area      box_area    rect_ratio  \n",
       "count  80113.000000  80113.000000  80113.000000  80113.000000  \n",
       "mean     108.895697  11881.209716  11881.209716      1.018884  \n",
       "std       15.660231   2919.680426   2919.680426      0.160322  \n",
       "min       54.000000   3933.000000   3933.000000      0.290323  \n",
       "25%       99.000000   9800.000000   9800.000000      0.932203  \n",
       "50%      108.000000  11655.000000  11655.000000      1.008475  \n",
       "75%      118.000000  13685.000000  13685.000000      1.088235  \n",
       "max      250.000000  52020.000000  52020.000000      3.230769  "
      ]
     },
     "execution_count": 10,
     "metadata": {},
     "output_type": "execute_result"
    }
   ],
   "source": [
    "training_json_df.describe()"
   ]
  },
  {
   "cell_type": "code",
   "execution_count": 13,
   "id": "5196de50-ca6c-4d2f-88c0-c95815806334",
   "metadata": {
    "tags": []
   },
   "outputs": [
    {
     "data": {
      "text/plain": [
       "<Axes: xlabel='box_area', ylabel='Count'>"
      ]
     },
     "execution_count": 13,
     "metadata": {},
     "output_type": "execute_result"
    },
    {
     "data": {
      "image/png": "[encoded data removed]",
      "text/plain": [
       "<Figure size 640x480 with 1 Axes>"
      ]
     },
     "metadata": {},
     "output_type": "display_data"
    }
   ],
   "source": [
    "sns.histplot(data=training_json_df, x='box_area')"
   ]
  },
  {
   "cell_type": "code",
   "execution_count": 14,
   "id": "dce6332c-2df4-4659-b276-2611e8e3e0e7",
   "metadata": {
    "tags": []
   },
   "outputs": [
    {
     "data": {
      "text/plain": [
       "<Axes: xlabel='rect_ratio', ylabel='Count'>"
      ]
     },
     "execution_count": 14,
     "metadata": {},
     "output_type": "execute_result"
    },
    {
     "data": {
      "image/png": "[encoded data removed]",
      "text/plain": [
       "<Figure size 640x480 with 1 Axes>"
      ]
     },
     "metadata": {},
     "output_type": "display_data"
    }
   ],
   "source": [
    "sns.histplot(data=training_json_df, x='rect_ratio')"
   ]
  },
  {
   "cell_type": "code",
   "execution_count": null,
   "id": "4edc20f8-cad3-48e6-abdc-22b0b030e932",
   "metadata": {},
   "outputs": [],
   "source": []
  }
 ],
 "metadata": {
  "kernelspec": {
   "display_name": "Python 3 (ipykernel)",
   "language": "python",
   "name": "python3"
  },
  "language_info": {
   "codemirror_mode": {
    "name": "ipython",
    "version": 3
   },
   "file_extension": ".py",
   "mimetype": "text/x-python",
   "name": "python",
   "nbconvert_exporter": "python",
   "pygments_lexer": "ipython3",
   "version": "3.10.6"
  }
 },
 "nbformat": 4,
 "nbformat_minor": 5
}
