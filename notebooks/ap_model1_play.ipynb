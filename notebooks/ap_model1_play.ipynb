{
 "cells": [
  {
   "cell_type": "code",
   "execution_count": 10,
   "id": "847af3b3-a14d-4c8f-a975-2117282aa92d",
   "metadata": {
    "tags": []
   },
   "outputs": [],
   "source": [
    "# preprocessing imports\n",
    "\n",
    "from sklearn.preprocessing import OneHotEncoder\n",
    "from sklearn.utils import class_weight\n",
    "\n",
    "# Image augmentation imports\n",
    "\n",
    "from tensorflow.keras.preprocessing.image import ImageDataGenerator\n",
    "\n",
    "# ARCHITECTURE imports\n",
    "\n",
    "import tensorflow as tf\n",
    "import numpy as np\n",
    "from tensorflow.keras import models, Sequential, layers, regularizers\n",
    "from tensorflow.keras.layers import Conv2D, MaxPooling2D, Flatten, Dense, Dropout\n",
    "\n",
    "# COMPILATION imports\n",
    "\n",
    "from tensorflow.keras import optimizers, callbacks\n",
    "\n",
    "# FIT imports\n",
    "\n",
    "from tensorflow.keras import callbacks\n"
   ]
  },
  {
   "cell_type": "code",
   "execution_count": 2,
   "id": "9039c510-92b2-441c-9a70-1dd500ccb108",
   "metadata": {
    "tags": []
   },
   "outputs": [
    {
     "name": "stdout",
     "output_type": "stream",
     "text": [
      "[[0. 0. 0. ... 0. 0. 0.]\n",
      " [0. 0. 0. ... 0. 0. 0.]\n",
      " [0. 0. 0. ... 0. 0. 0.]\n",
      " ...\n",
      " [0. 0. 0. ... 0. 0. 0.]\n",
      " [0. 0. 0. ... 0. 0. 0.]\n",
      " [0. 0. 0. ... 0. 0. 0.]]\n",
      "['difficult' 'gametocyte' 'leukocyte' 'red blood cell' 'ring' 'schizont'\n",
      " 'trophozoite']\n",
      "(108, 108, 1)\n",
      "[28.57142857 47.61904762 71.42857143  0.14773231 28.57142857 71.42857143\n",
      "  8.92857143]\n"
     ]
    }
   ],
   "source": [
    "# preprocessing stuff\n",
    "\n",
    "# load the numpy arrays\n",
    "y  = np.load('../malaria/y_values.npy')\n",
    "X  = np.load('../malaria/X_values.npy')\n",
    "\n",
    "# one hot encoding y\n",
    "ohe = OneHotEncoder(sparse_output=False)\n",
    "ohe.fit(y.reshape(-1,1))\n",
    "encoded_y = ohe.transform(y.reshape(-1,1))\n",
    "print(encoded_y)\n",
    "print(np.unique(y))\n",
    "# reshaping X\n",
    "X = np.expand_dims(X,axis=3)\n",
    "image_shape = (X.shape[1], X.shape[2], X.shape[3])\n",
    "print(image_shape)\n",
    "\n",
    "# normalising X\n",
    "norm_X = X/255 \n",
    "# print(norm_X)\n",
    "\n",
    "# class weighting\n",
    "class_weight_values = class_weight.compute_class_weight('balanced',\n",
    "                            classes = np.unique(y).tolist(),\n",
    "                           y=y.reshape(-1))\n",
    "print(class_weight_values)"
   ]
  },
  {
   "cell_type": "code",
   "execution_count": 3,
   "id": "bad90449-45ce-4102-82dd-cd78ee45c6ce",
   "metadata": {
    "tags": []
   },
   "outputs": [
    {
     "name": "stdout",
     "output_type": "stream",
     "text": [
      "<class 'numpy.ndarray'>\n",
      "<class 'numpy.ndarray'>\n"
     ]
    }
   ],
   "source": [
    "print(type(class_weight_values))\n",
    "print(type(encoded_y))"
   ]
  },
  {
   "cell_type": "code",
   "execution_count": 9,
   "id": "b98658a9-e3da-4919-81b6-49193c410cf1",
   "metadata": {
    "tags": []
   },
   "outputs": [
    {
     "data": {
      "text/plain": [
       "{'difficult': 0,\n",
       " 'gametocyte': 1,\n",
       " 'leukocyte': 2,\n",
       " 'red blood cell': 3,\n",
       " 'ring': 4,\n",
       " 'schizont': 5,\n",
       " 'trophozoite': 6}"
      ]
     },
     "execution_count": 9,
     "metadata": {},
     "output_type": "execute_result"
    }
   ],
   "source": [
    "class_weight_dict = dict(zip(np.unique(y),list(range(len(np.unique(y))))))\n",
    "class_weight_dict"
   ]
  },
  {
   "cell_type": "code",
   "execution_count": 5,
   "id": "2e43c941-77a9-4a00-8071-179596556ec7",
   "metadata": {
    "tags": []
   },
   "outputs": [
    {
     "data": {
      "text/plain": [
       "{0: 28.571428571428573,\n",
       " 1: 47.61904761904762,\n",
       " 2: 71.42857142857143,\n",
       " 3: 0.14773230905599055,\n",
       " 4: 28.571428571428573,\n",
       " 5: 71.42857142857143,\n",
       " 6: 8.928571428571429}"
      ]
     },
     "execution_count": 5,
     "metadata": {},
     "output_type": "execute_result"
    }
   ],
   "source": [
    "class_weight_values_dict = dict(zip(list(class_weight_dict.values()),class_weight_values))\n",
    "class_weight_values_dict"
   ]
  },
  {
   "cell_type": "code",
   "execution_count": null,
   "id": "b1caba4a-0517-494c-89d9-7500f114462b",
   "metadata": {},
   "outputs": [],
   "source": [
    "# Image augmentation\n",
    "\n",
    "datagen = ImageDataGenerator(\n",
    "    featurewise_center = False,\n",
    "    featurewise_std_normalization = False,\n",
    "    rotation_range = 10,\n",
    "    width_shift_range = 0.1,\n",
    "    height_shift_range = 0.1,\n",
    "    horizontal_flip = True,\n",
    "    zoom_range = (0.8, 1.2),\n",
    "    ) \n",
    "\n",
    "datagen.fit(X_train)\n",
    "datagen"
   ]
  },
  {
   "cell_type": "code",
   "execution_count": 6,
   "id": "f876f521-3e29-4273-9a30-71674274e9fb",
   "metadata": {
    "tags": []
   },
   "outputs": [],
   "source": [
    "# model 1\n",
    "\n",
    "#### 1. ARCHITECTURE\n",
    "\n",
    "model = Sequential()\n",
    "\n",
    "model.add(Conv2D(filters=128, kernel_size=(3,3), input_shape=image_shape, activation='relu'))\n",
    "model.add(MaxPooling2D(pool_size=(2, 2)))\n",
    "\n",
    "model.add(Conv2D(filters=64, kernel_size=(3,3), activation='relu', kernel_regularizer=tf.keras.regularizers.L1(0.01)))\n",
    "model.add(MaxPooling2D(pool_size=(2, 2)))\n",
    "\n",
    "model.add(Conv2D(filters=32, kernel_size=(2,2), activation='relu', kernel_regularizer=tf.keras.regularizers.L1(0.01)))\n",
    "model.add(MaxPooling2D(pool_size=(2, 2)))\n",
    "\n",
    "model.add(Flatten())\n",
    "\n",
    "model.add(Dense(128, activation='relu'))\n",
    "\n",
    "# Dropouts reduce overfitting by randomly turning neurons off during training.\n",
    "\n",
    "model.add(Dropout(0.2))\n",
    "\n",
    "# categorical = softmax\n",
    "model.add(Dense(7, activation='softmax'))"
   ]
  },
  {
   "cell_type": "code",
   "execution_count": 7,
   "id": "7648c691-95b9-4080-82a2-7e3550c5041b",
   "metadata": {
    "tags": []
   },
   "outputs": [],
   "source": [
    "#### 2. COMPILATION\n",
    "\n",
    "adam = optimizers.Adam(learning_rate=0.01, beta_1=0.9, beta_2=0.999)\n",
    "\n",
    "model.compile(loss='categorical_crossentropy',\n",
    "              optimizer=adam,\n",
    "              metrics=['accuracy'])"
   ]
  },
  {
   "cell_type": "code",
   "execution_count": 8,
   "id": "9a352c6b-3f1c-4a7e-8570-57ebc404e161",
   "metadata": {
    "tags": []
   },
   "outputs": [
    {
     "name": "stdout",
     "output_type": "stream",
     "text": [
      "Epoch 1/100\n"
     ]
    },
    {
     "name": "stderr",
     "output_type": "stream",
     "text": [
      "2023-03-08 15:58:08.831453: W tensorflow/core/platform/profile_utils/cpu_utils.cc:128] Failed to get CPU frequency: 0 Hz\n"
     ]
    },
    {
     "name": "stdout",
     "output_type": "stream",
     "text": [
      "22/22 [==============================] - 6s 269ms/step - loss: 280.7959 - accuracy: 0.1729 - val_loss: 19.2618 - val_accuracy: 0.0000e+00\n",
      "Epoch 2/100\n",
      "22/22 [==============================] - 6s 266ms/step - loss: 18.2643 - accuracy: 0.0029 - val_loss: 17.0863 - val_accuracy: 0.0000e+00\n",
      "Epoch 3/100\n",
      "22/22 [==============================] - 6s 261ms/step - loss: 16.1393 - accuracy: 0.0043 - val_loss: 15.2055 - val_accuracy: 0.0000e+00\n",
      "Epoch 4/100\n",
      "22/22 [==============================] - 6s 268ms/step - loss: 14.4780 - accuracy: 0.0029 - val_loss: 13.8172 - val_accuracy: 0.0000e+00\n",
      "Epoch 5/100\n",
      "22/22 [==============================] - 7s 297ms/step - loss: 13.2151 - accuracy: 0.0029 - val_loss: 12.7705 - val_accuracy: 0.0000e+00\n",
      "Epoch 6/100\n",
      "22/22 [==============================] - 7s 297ms/step - loss: 12.2952 - accuracy: 0.0029 - val_loss: 11.8559 - val_accuracy: 0.0000e+00\n",
      "Epoch 7/100\n",
      "22/22 [==============================] - 7s 317ms/step - loss: 11.4349 - accuracy: 0.0029 - val_loss: 11.1046 - val_accuracy: 0.0000e+00\n",
      "Epoch 8/100\n",
      "22/22 [==============================] - 6s 294ms/step - loss: 10.7320 - accuracy: 0.0029 - val_loss: 10.4152 - val_accuracy: 0.0000e+00\n",
      "Epoch 9/100\n",
      "22/22 [==============================] - 6s 277ms/step - loss: 10.1033 - accuracy: 0.0029 - val_loss: 9.8517 - val_accuracy: 0.0000e+00\n",
      "Epoch 10/100\n",
      "22/22 [==============================] - 6s 284ms/step - loss: 9.6044 - accuracy: 0.0029 - val_loss: 7.6786 - val_accuracy: 0.9700\n",
      "Epoch 11/100\n",
      "22/22 [==============================] - 7s 336ms/step - loss: 24.2342 - accuracy: 0.1786 - val_loss: 9.5214 - val_accuracy: 0.0000e+00\n",
      "Epoch 12/100\n",
      "22/22 [==============================] - 7s 299ms/step - loss: 9.3165 - accuracy: 0.0043 - val_loss: 9.2196 - val_accuracy: 0.0000e+00\n",
      "Epoch 13/100\n",
      "22/22 [==============================] - 6s 295ms/step - loss: 8.9554 - accuracy: 0.0014 - val_loss: 8.8427 - val_accuracy: 0.0000e+00\n",
      "Epoch 14/100\n",
      "22/22 [==============================] - 7s 304ms/step - loss: 8.5959 - accuracy: 0.0029 - val_loss: 8.4550 - val_accuracy: 0.0000e+00\n",
      "Epoch 15/100\n",
      "22/22 [==============================] - 8s 345ms/step - loss: 8.2605 - accuracy: 0.0029 - val_loss: 8.1960 - val_accuracy: 0.0000e+00\n",
      "Epoch 16/100\n",
      "22/22 [==============================] - 8s 349ms/step - loss: 8.0104 - accuracy: 0.0029 - val_loss: 7.9117 - val_accuracy: 0.0000e+00\n",
      "Epoch 17/100\n",
      "22/22 [==============================] - 8s 363ms/step - loss: 7.7914 - accuracy: 0.0029 - val_loss: 7.7241 - val_accuracy: 0.0000e+00\n",
      "Epoch 18/100\n",
      "22/22 [==============================] - 9s 396ms/step - loss: 7.5798 - accuracy: 0.0029 - val_loss: 7.4960 - val_accuracy: 0.0000e+00\n",
      "Epoch 19/100\n",
      "22/22 [==============================] - 8s 341ms/step - loss: 7.3697 - accuracy: 0.0029 - val_loss: 7.3084 - val_accuracy: 0.0000e+00\n",
      "Epoch 20/100\n",
      "22/22 [==============================] - 7s 304ms/step - loss: 7.1917 - accuracy: 0.0029 - val_loss: 7.1456 - val_accuracy: 0.0000e+00\n",
      "Epoch 21/100\n",
      "22/22 [==============================] - 7s 299ms/step - loss: 7.0182 - accuracy: 0.0029 - val_loss: 6.9831 - val_accuracy: 0.0000e+00\n",
      "Epoch 22/100\n",
      "22/22 [==============================] - 7s 309ms/step - loss: 6.8792 - accuracy: 0.0029 - val_loss: 6.8622 - val_accuracy: 0.0000e+00\n",
      "Epoch 23/100\n",
      "22/22 [==============================] - 7s 306ms/step - loss: 6.7344 - accuracy: 0.0029 - val_loss: 6.6768 - val_accuracy: 0.0000e+00\n",
      "Epoch 24/100\n",
      "22/22 [==============================] - 7s 300ms/step - loss: 6.5906 - accuracy: 0.0029 - val_loss: 6.5344 - val_accuracy: 0.0000e+00\n",
      "Epoch 25/100\n",
      "22/22 [==============================] - 7s 301ms/step - loss: 6.4663 - accuracy: 0.0029 - val_loss: 6.4875 - val_accuracy: 0.0000e+00\n",
      "Epoch 26/100\n",
      "22/22 [==============================] - 7s 301ms/step - loss: 6.3557 - accuracy: 0.0029 - val_loss: 6.3104 - val_accuracy: 0.0000e+00\n",
      "Epoch 27/100\n",
      "22/22 [==============================] - 7s 299ms/step - loss: 6.2350 - accuracy: 0.0029 - val_loss: 6.2162 - val_accuracy: 0.0000e+00\n",
      "Epoch 28/100\n",
      "22/22 [==============================] - 7s 299ms/step - loss: 6.1108 - accuracy: 0.0029 - val_loss: 6.0996 - val_accuracy: 0.0000e+00\n",
      "Epoch 29/100\n",
      "22/22 [==============================] - 7s 297ms/step - loss: 6.0158 - accuracy: 0.0029 - val_loss: 5.9759 - val_accuracy: 0.0000e+00\n",
      "Epoch 30/100\n",
      "22/22 [==============================] - 7s 300ms/step - loss: 5.9229 - accuracy: 0.0029 - val_loss: 5.8879 - val_accuracy: 0.0000e+00\n",
      "Epoch 31/100\n",
      "22/22 [==============================] - 7s 320ms/step - loss: 5.8548 - accuracy: 0.0029 - val_loss: 5.7559 - val_accuracy: 0.0000e+00\n",
      "Epoch 32/100\n",
      "22/22 [==============================] - 7s 316ms/step - loss: 6.0604 - accuracy: 0.0043 - val_loss: 5.6710 - val_accuracy: 0.0000e+00\n",
      "Epoch 33/100\n",
      "22/22 [==============================] - 7s 316ms/step - loss: 5.6745 - accuracy: 0.0029 - val_loss: 5.6365 - val_accuracy: 0.0000e+00\n",
      "Epoch 34/100\n",
      "22/22 [==============================] - 7s 307ms/step - loss: 5.5826 - accuracy: 0.0029 - val_loss: 5.5501 - val_accuracy: 0.0000e+00\n",
      "Epoch 35/100\n",
      "22/22 [==============================] - 7s 309ms/step - loss: 5.4924 - accuracy: 0.0029 - val_loss: 5.4907 - val_accuracy: 0.0000e+00\n",
      "Epoch 36/100\n",
      "22/22 [==============================] - 7s 318ms/step - loss: 5.4464 - accuracy: 0.0029 - val_loss: 5.3811 - val_accuracy: 0.0000e+00\n",
      "Epoch 37/100\n",
      "22/22 [==============================] - 7s 306ms/step - loss: 5.3565 - accuracy: 0.0029 - val_loss: 5.3133 - val_accuracy: 0.0000e+00\n",
      "Epoch 38/100\n",
      "22/22 [==============================] - 7s 307ms/step - loss: 5.2699 - accuracy: 0.0029 - val_loss: 5.1999 - val_accuracy: 0.0000e+00\n",
      "Epoch 39/100\n",
      "22/22 [==============================] - 7s 309ms/step - loss: 5.2058 - accuracy: 0.0029 - val_loss: 5.1397 - val_accuracy: 0.0000e+00\n",
      "Epoch 40/100\n",
      "22/22 [==============================] - 7s 335ms/step - loss: 5.1294 - accuracy: 0.0029 - val_loss: 5.1238 - val_accuracy: 0.0000e+00\n",
      "Epoch 41/100\n",
      "22/22 [==============================] - 7s 335ms/step - loss: 5.0621 - accuracy: 0.0029 - val_loss: 5.0256 - val_accuracy: 0.0000e+00\n",
      "Epoch 42/100\n",
      "22/22 [==============================] - 7s 316ms/step - loss: 5.0109 - accuracy: 0.0029 - val_loss: 4.9797 - val_accuracy: 0.0000e+00\n",
      "Epoch 43/100\n",
      "22/22 [==============================] - 7s 302ms/step - loss: 4.9390 - accuracy: 0.0029 - val_loss: 4.9114 - val_accuracy: 0.0000e+00\n",
      "Epoch 44/100\n",
      "22/22 [==============================] - 6s 295ms/step - loss: 4.8883 - accuracy: 0.0029 - val_loss: 4.8294 - val_accuracy: 0.0000e+00\n",
      "Epoch 45/100\n",
      "22/22 [==============================] - 7s 299ms/step - loss: 4.8218 - accuracy: 0.0029 - val_loss: 4.7906 - val_accuracy: 0.0000e+00\n",
      "Epoch 46/100\n",
      "22/22 [==============================] - 7s 333ms/step - loss: 4.7738 - accuracy: 0.0029 - val_loss: 4.7352 - val_accuracy: 0.0000e+00\n",
      "Epoch 47/100\n",
      "22/22 [==============================] - 7s 306ms/step - loss: 4.7199 - accuracy: 0.0029 - val_loss: 4.6741 - val_accuracy: 0.0000e+00\n",
      "Epoch 48/100\n",
      "22/22 [==============================] - 7s 303ms/step - loss: 4.6679 - accuracy: 0.0029 - val_loss: 4.6662 - val_accuracy: 0.0000e+00\n",
      "Epoch 49/100\n",
      "22/22 [==============================] - 7s 319ms/step - loss: 4.6130 - accuracy: 0.0029 - val_loss: 4.6137 - val_accuracy: 0.0000e+00\n",
      "Epoch 50/100\n",
      "22/22 [==============================] - 7s 338ms/step - loss: 4.5832 - accuracy: 0.0029 - val_loss: 4.5845 - val_accuracy: 0.0000e+00\n",
      "Epoch 51/100\n",
      "22/22 [==============================] - 7s 312ms/step - loss: 4.5288 - accuracy: 0.0029 - val_loss: 4.5104 - val_accuracy: 0.0000e+00\n",
      "Epoch 52/100\n",
      "22/22 [==============================] - 9s 400ms/step - loss: 4.4757 - accuracy: 0.0029 - val_loss: 4.4466 - val_accuracy: 0.0000e+00\n",
      "Epoch 53/100\n",
      "22/22 [==============================] - 7s 325ms/step - loss: 4.4450 - accuracy: 0.0029 - val_loss: 4.3796 - val_accuracy: 0.0000e+00\n",
      "Epoch 54/100\n",
      "22/22 [==============================] - 7s 329ms/step - loss: 4.4132 - accuracy: 0.0029 - val_loss: 4.3758 - val_accuracy: 0.0000e+00\n",
      "Epoch 55/100\n",
      "22/22 [==============================] - 7s 324ms/step - loss: 4.3573 - accuracy: 0.0029 - val_loss: 4.3780 - val_accuracy: 0.0000e+00\n",
      "Epoch 56/100\n",
      "22/22 [==============================] - 7s 316ms/step - loss: 4.3422 - accuracy: 0.0029 - val_loss: 4.2870 - val_accuracy: 0.0000e+00\n",
      "Epoch 57/100\n",
      "22/22 [==============================] - 7s 307ms/step - loss: 4.2998 - accuracy: 0.0029 - val_loss: 4.2349 - val_accuracy: 0.0000e+00\n",
      "Epoch 58/100\n",
      "22/22 [==============================] - 7s 305ms/step - loss: 4.2409 - accuracy: 0.0029 - val_loss: 4.1969 - val_accuracy: 0.0000e+00\n",
      "Epoch 59/100\n",
      "22/22 [==============================] - 7s 304ms/step - loss: 4.2142 - accuracy: 0.0029 - val_loss: 4.1846 - val_accuracy: 0.0000e+00\n",
      "Epoch 60/100\n",
      "22/22 [==============================] - 7s 312ms/step - loss: 4.1821 - accuracy: 0.0029 - val_loss: 4.1859 - val_accuracy: 0.0000e+00\n",
      "Epoch 61/100\n",
      "22/22 [==============================] - 8s 380ms/step - loss: 4.1344 - accuracy: 0.0029 - val_loss: 4.1684 - val_accuracy: 0.0000e+00\n",
      "Epoch 62/100\n",
      "22/22 [==============================] - 7s 332ms/step - loss: 4.1348 - accuracy: 0.0029 - val_loss: 4.1119 - val_accuracy: 0.0000e+00\n",
      "Epoch 63/100\n",
      "22/22 [==============================] - 8s 374ms/step - loss: 4.1042 - accuracy: 0.0029 - val_loss: 4.0811 - val_accuracy: 0.0000e+00\n",
      "Epoch 64/100\n",
      "22/22 [==============================] - 8s 353ms/step - loss: 4.0553 - accuracy: 0.0029 - val_loss: 4.0360 - val_accuracy: 0.0000e+00\n",
      "Epoch 65/100\n",
      "22/22 [==============================] - 7s 320ms/step - loss: 4.0294 - accuracy: 0.0029 - val_loss: 4.0491 - val_accuracy: 0.0000e+00\n",
      "Epoch 66/100\n",
      "22/22 [==============================] - 7s 314ms/step - loss: 4.0099 - accuracy: 0.0029 - val_loss: 3.9658 - val_accuracy: 0.0000e+00\n",
      "Epoch 67/100\n",
      "22/22 [==============================] - 7s 332ms/step - loss: 3.9710 - accuracy: 0.0029 - val_loss: 3.9595 - val_accuracy: 0.0000e+00\n",
      "Epoch 68/100\n",
      "22/22 [==============================] - 8s 359ms/step - loss: 3.9559 - accuracy: 0.0029 - val_loss: 3.9257 - val_accuracy: 0.0000e+00\n",
      "Epoch 69/100\n",
      "22/22 [==============================] - 7s 330ms/step - loss: 3.9189 - accuracy: 0.0029 - val_loss: 3.9373 - val_accuracy: 0.0000e+00\n",
      "Epoch 70/100\n",
      "22/22 [==============================] - 8s 344ms/step - loss: 3.9018 - accuracy: 0.0029 - val_loss: 3.9219 - val_accuracy: 0.0000e+00\n",
      "Epoch 71/100\n",
      "22/22 [==============================] - 7s 307ms/step - loss: 3.8998 - accuracy: 0.0029 - val_loss: 3.8446 - val_accuracy: 0.0000e+00\n",
      "Epoch 72/100\n",
      "22/22 [==============================] - 7s 319ms/step - loss: 3.8718 - accuracy: 0.0029 - val_loss: 3.8345 - val_accuracy: 0.0000e+00\n",
      "Epoch 73/100\n",
      "22/22 [==============================] - 7s 319ms/step - loss: 3.8509 - accuracy: 0.0029 - val_loss: 3.8159 - val_accuracy: 0.0000e+00\n",
      "Epoch 74/100\n",
      "22/22 [==============================] - 7s 336ms/step - loss: 3.8311 - accuracy: 0.0029 - val_loss: 3.7668 - val_accuracy: 0.0000e+00\n",
      "Epoch 75/100\n",
      "22/22 [==============================] - 7s 335ms/step - loss: 3.8008 - accuracy: 0.0029 - val_loss: 3.7748 - val_accuracy: 0.0000e+00\n",
      "Epoch 76/100\n",
      "22/22 [==============================] - 7s 329ms/step - loss: 3.7903 - accuracy: 0.0029 - val_loss: 3.7519 - val_accuracy: 0.0000e+00\n",
      "Epoch 77/100\n",
      "22/22 [==============================] - 8s 346ms/step - loss: 3.7535 - accuracy: 0.0029 - val_loss: 3.7491 - val_accuracy: 0.0000e+00\n",
      "Epoch 78/100\n",
      "22/22 [==============================] - 8s 376ms/step - loss: 3.7344 - accuracy: 0.0029 - val_loss: 3.7320 - val_accuracy: 0.0000e+00\n",
      "Epoch 79/100\n",
      "22/22 [==============================] - 8s 358ms/step - loss: 3.7111 - accuracy: 0.0029 - val_loss: 3.6873 - val_accuracy: 0.0000e+00\n",
      "Epoch 80/100\n",
      "22/22 [==============================] - 8s 349ms/step - loss: 3.7024 - accuracy: 0.0029 - val_loss: 3.6658 - val_accuracy: 0.0000e+00\n",
      "Epoch 81/100\n",
      "22/22 [==============================] - 8s 388ms/step - loss: 3.6828 - accuracy: 0.0029 - val_loss: 3.6463 - val_accuracy: 0.0000e+00\n",
      "Epoch 82/100\n",
      "22/22 [==============================] - 9s 389ms/step - loss: 3.6465 - accuracy: 0.0029 - val_loss: 3.6854 - val_accuracy: 0.0000e+00\n",
      "Epoch 83/100\n",
      "22/22 [==============================] - 8s 356ms/step - loss: 3.6711 - accuracy: 0.0029 - val_loss: 3.6209 - val_accuracy: 0.0000e+00\n",
      "Epoch 84/100\n",
      "22/22 [==============================] - 8s 362ms/step - loss: 3.6346 - accuracy: 0.0029 - val_loss: 3.6048 - val_accuracy: 0.0000e+00\n",
      "Epoch 85/100\n",
      "22/22 [==============================] - 8s 369ms/step - loss: 3.6271 - accuracy: 0.0029 - val_loss: 3.6221 - val_accuracy: 0.0000e+00\n",
      "Epoch 86/100\n",
      "22/22 [==============================] - 7s 332ms/step - loss: 3.6046 - accuracy: 0.0029 - val_loss: 3.5559 - val_accuracy: 0.0000e+00\n",
      "Epoch 87/100\n",
      "22/22 [==============================] - 7s 326ms/step - loss: 3.5842 - accuracy: 0.0029 - val_loss: 3.5608 - val_accuracy: 0.0000e+00\n",
      "Epoch 88/100\n",
      "22/22 [==============================] - 7s 324ms/step - loss: 3.5726 - accuracy: 0.0029 - val_loss: 3.5473 - val_accuracy: 0.0000e+00\n",
      "Epoch 89/100\n",
      "22/22 [==============================] - 7s 335ms/step - loss: 3.5707 - accuracy: 0.0029 - val_loss: 3.5524 - val_accuracy: 0.0000e+00\n",
      "Epoch 90/100\n",
      "22/22 [==============================] - 7s 332ms/step - loss: 3.5596 - accuracy: 0.0029 - val_loss: 3.5663 - val_accuracy: 0.0000e+00\n",
      "Epoch 91/100\n",
      "22/22 [==============================] - 7s 330ms/step - loss: 3.5385 - accuracy: 0.0029 - val_loss: 3.5158 - val_accuracy: 0.0000e+00\n",
      "Epoch 92/100\n",
      "22/22 [==============================] - 7s 326ms/step - loss: 3.5293 - accuracy: 0.0029 - val_loss: 3.5207 - val_accuracy: 0.0000e+00\n",
      "Epoch 93/100\n",
      "22/22 [==============================] - 7s 329ms/step - loss: 3.5153 - accuracy: 0.0029 - val_loss: 3.5161 - val_accuracy: 0.0000e+00\n",
      "Epoch 94/100\n",
      "22/22 [==============================] - 8s 350ms/step - loss: 3.5042 - accuracy: 0.0029 - val_loss: 3.4845 - val_accuracy: 0.0000e+00\n",
      "Epoch 95/100\n",
      "22/22 [==============================] - 8s 358ms/step - loss: 3.4940 - accuracy: 0.0029 - val_loss: 3.4633 - val_accuracy: 0.0000e+00\n",
      "Epoch 96/100\n",
      "22/22 [==============================] - 7s 305ms/step - loss: 3.4955 - accuracy: 0.0029 - val_loss: 3.4514 - val_accuracy: 0.0000e+00\n",
      "Epoch 97/100\n",
      "22/22 [==============================] - 7s 315ms/step - loss: 3.4687 - accuracy: 0.0029 - val_loss: 3.4867 - val_accuracy: 0.0000e+00\n",
      "Epoch 98/100\n",
      "22/22 [==============================] - 7s 308ms/step - loss: 3.4765 - accuracy: 0.0029 - val_loss: 3.4419 - val_accuracy: 0.0000e+00\n",
      "Epoch 99/100\n",
      "22/22 [==============================] - 7s 316ms/step - loss: 3.4441 - accuracy: 0.0029 - val_loss: 3.4217 - val_accuracy: 0.0000e+00\n",
      "Epoch 100/100\n",
      "22/22 [==============================] - 8s 346ms/step - loss: 3.4484 - accuracy: 0.0029 - val_loss: 3.4533 - val_accuracy: 0.0000e+00\n"
     ]
    },
    {
     "data": {
      "text/plain": [
       "<keras.callbacks.History at 0x16a4282b0>"
      ]
     },
     "execution_count": 8,
     "metadata": {},
     "output_type": "execute_result"
    }
   ],
   "source": [
    "#### 3. FIT\n",
    "\n",
    "es = callbacks.EarlyStopping(patience=10, restore_best_weights=True)\n",
    "\n",
    "model.fit(X, encoded_y,\n",
    "          batch_size=32, # Batch size -too small--> no generalization\n",
    "          epochs=100,    #            -too large--> slow computations\n",
    "          validation_split=0.3,\n",
    "          callbacks=[es],\n",
    "          class_weight=class_weight_values_dict,\n",
    "          verbose=1)"
   ]
  },
  {
   "cell_type": "code",
   "execution_count": null,
   "id": "e1253880-3d7f-419f-8b89-94e62c8b669f",
   "metadata": {},
   "outputs": [],
   "source": []
  }
 ],
 "metadata": {
  "kernelspec": {
   "display_name": "Python 3 (ipykernel)",
   "language": "python",
   "name": "python3"
  },
  "language_info": {
   "codemirror_mode": {
    "name": "ipython",
    "version": 3
   },
   "file_extension": ".py",
   "mimetype": "text/x-python",
   "name": "python",
   "nbconvert_exporter": "python",
   "pygments_lexer": "ipython3",
   "version": "3.10.6"
  }
 },
 "nbformat": 4,
 "nbformat_minor": 5
}
